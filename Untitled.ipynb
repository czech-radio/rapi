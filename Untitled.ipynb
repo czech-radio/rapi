{
 "cells": [
  {
   "cell_type": "code",
   "execution_count": 1,
   "id": "bc89c251-ff2d-48c2-b87d-45965d07eb67",
   "metadata": {},
   "outputs": [],
   "source": [
    "from rapi import config\n",
    "import sys\n",
    "\n",
    "Cfg=config.CFG()\n",
    "sys.argv = [\"rapi\"]\n",
    "Cfg.cfg_runtime_set_defaults()\n",
    "\n"
   ]
  }
 ],
 "metadata": {
  "kernelspec": {
   "display_name": "Python 3 (ipykernel)",
   "language": "python",
   "name": "python3"
  },
  "language_info": {
   "codemirror_mode": {
    "name": "ipython",
    "version": 3
   },
   "file_extension": ".py",
   "mimetype": "text/x-python",
   "name": "python",
   "nbconvert_exporter": "python",
   "pygments_lexer": "ipython3",
   "version": "3.11.3"
  }
 },
 "nbformat": 4,
 "nbformat_minor": 5
}
