{
 "cells": [
  {
   "cell_type": "code",
   "execution_count": null,
   "id": "d2510141",
   "metadata": {},
   "outputs": [],
   "source": []
  },
  {
   "cell_type": "markdown",
   "id": "bcac355e",
   "metadata": {
    "lines_to_next_cell": 0
   },
   "source": [
    "# Explore data in pandas\n",
    "## Create client"
   ]
  },
  {
   "cell_type": "code",
   "execution_count": 1,
   "id": "c7debf6a",
   "metadata": {
    "execution": {
     "iopub.execute_input": "2023-10-16T17:34:55.882492Z",
     "iopub.status.busy": "2023-10-16T17:34:55.881207Z",
     "iopub.status.idle": "2023-10-16T17:34:56.016316Z",
     "shell.execute_reply": "2023-10-16T17:34:56.015521Z"
    }
   },
   "outputs": [],
   "source": [
    "from rapi import Client\n",
    "\n",
    "cl = Client()"
   ]
  },
  {
   "cell_type": "markdown",
   "id": "10f3d241",
   "metadata": {},
   "source": [
    "## Get schedule"
   ]
  },
  {
   "cell_type": "code",
   "execution_count": 2,
   "id": "27c66e00",
   "metadata": {
    "execution": {
     "iopub.execute_input": "2023-10-16T17:34:56.019677Z",
     "iopub.status.busy": "2023-10-16T17:34:56.019373Z",
     "iopub.status.idle": "2023-10-16T17:34:56.023033Z",
     "shell.execute_reply": "2023-10-16T17:34:56.022365Z"
    }
   },
   "outputs": [],
   "source": [
    "show=\"2226c3be-7f0d-3c82-af47-0ec6abe992a8\"\n",
    "station=\"4082f63f-30e8-375d-a326-b32cf7d86e02\"\n",
    "since=\"2023_09-01\"\n",
    "till=\"2023_10-01\""
   ]
  },
  {
   "cell_type": "code",
   "execution_count": 3,
   "id": "3a2fb079",
   "metadata": {
    "execution": {
     "iopub.execute_input": "2023-10-16T17:34:56.026603Z",
     "iopub.status.busy": "2023-10-16T17:34:56.026362Z",
     "iopub.status.idle": "2023-10-16T17:34:56.727062Z",
     "shell.execute_reply": "2023-10-16T17:34:56.726435Z"
    }
   },
   "outputs": [],
   "source": [
    "data = list(cl.get_schedule(show,station,since,till))\n",
    "import pandas as pd\n",
    "\n",
    "pdata=pd.DataFrame(data)"
   ]
  },
  {
   "cell_type": "markdown",
   "id": "ee79c823",
   "metadata": {
    "lines_to_next_cell": 0
   },
   "source": [
    "## Show columns in dataframe"
   ]
  },
  {
   "cell_type": "code",
   "execution_count": 4,
   "id": "e8cc6e4e",
   "metadata": {
    "execution": {
     "iopub.execute_input": "2023-10-16T17:34:56.730464Z",
     "iopub.status.busy": "2023-10-16T17:34:56.730142Z",
     "iopub.status.idle": "2023-10-16T17:34:56.739958Z",
     "shell.execute_reply": "2023-10-16T17:34:56.739265Z"
    }
   },
   "outputs": [
    {
     "name": "stdout",
     "output_type": "stream",
     "text": [
      "<class 'pandas.core.frame.DataFrame'>\n",
      "RangeIndex: 147 entries, 0 to 146\n",
      "Data columns (total 9 columns):\n",
      " #   Column         Non-Null Count  Dtype                               \n",
      "---  ------         --------------  -----                               \n",
      " 0   uuid           147 non-null    object                              \n",
      " 1   title          147 non-null    object                              \n",
      " 2   description    147 non-null    object                              \n",
      " 3   station        147 non-null    object                              \n",
      " 4   station_code   147 non-null    int64                               \n",
      " 5   show_priority  147 non-null    int64                               \n",
      " 6   show_times     0 non-null      object                              \n",
      " 7   since          147 non-null    datetime64[ns, tzoffset(None, 7200)]\n",
      " 8   till           147 non-null    datetime64[ns, tzoffset(None, 7200)]\n",
      "dtypes: datetime64[ns, tzoffset(None, 7200)](2), int64(2), object(5)\n",
      "memory usage: 10.5+ KB\n"
     ]
    }
   ],
   "source": [
    "pdata.info()"
   ]
  },
  {
   "cell_type": "markdown",
   "id": "4fb5abdb",
   "metadata": {
    "lines_to_next_cell": 0
   },
   "source": [
    "## Select columns, (subset dataframe)"
   ]
  },
  {
   "cell_type": "code",
   "execution_count": 5,
   "id": "68218b0f",
   "metadata": {
    "execution": {
     "iopub.execute_input": "2023-10-16T17:34:56.742836Z",
     "iopub.status.busy": "2023-10-16T17:34:56.742634Z",
     "iopub.status.idle": "2023-10-16T17:34:56.752699Z",
     "shell.execute_reply": "2023-10-16T17:34:56.751785Z"
    }
   },
   "outputs": [
    {
     "name": "stdout",
     "output_type": "stream",
     "text": [
      "                                                 title  \\\n",
      "0    Je 1. září a ve školách by už mělo být všechno...   \n",
      "1    Některá města od září zdražila hromadnou dopravou   \n",
      "2    Do Řecka už dorazila další skupina zhruba pade...   \n",
      "3        Prezident Petr Pavel podepsal penzijní novelu   \n",
      "4    Devět tříd ze 4. základní školy v Plzni zahájí...   \n",
      "..                                                 ...   \n",
      "142  Policisté v Moravskoslezském kraji zpřísnili n...   \n",
      "143  Stovky Slováků dnes odjely z Prahy mimořádným ...   \n",
      "144  Duchové bývalých přítelkyň, náhodná svatební k...   \n",
      "145  Lidé s nízkým příjmem mají v Liberci problém s...   \n",
      "146  Přesně před osmdesáti pěty lety se svět přiblí...   \n",
      "\n",
      "                        since  \n",
      "0   2023-09-01 13:06:00+02:00  \n",
      "1   2023-09-01 14:06:00+02:00  \n",
      "2   2023-09-01 15:06:00+02:00  \n",
      "3   2023-09-01 16:06:00+02:00  \n",
      "4   2023-09-01 17:06:00+02:00  \n",
      "..                        ...  \n",
      "142 2023-09-29 15:06:00+02:00  \n",
      "143 2023-09-29 16:06:00+02:00  \n",
      "144 2023-09-29 17:06:00+02:00  \n",
      "145 2023-09-29 18:33:30+02:00  \n",
      "146 2023-09-29 19:06:00+02:00  \n",
      "\n",
      "[147 rows x 2 columns]\n"
     ]
    }
   ],
   "source": [
    "sdata=(pdata[['title','since']])\n",
    "print(sdata)"
   ]
  },
  {
   "cell_type": "markdown",
   "id": "924e2175",
   "metadata": {
    "lines_to_next_cell": 0
   },
   "source": [
    "## Select columns when creating dataframe"
   ]
  },
  {
   "cell_type": "code",
   "execution_count": 6,
   "id": "2dd5152c",
   "metadata": {
    "execution": {
     "iopub.execute_input": "2023-10-16T17:34:56.757820Z",
     "iopub.status.busy": "2023-10-16T17:34:56.757094Z",
     "iopub.status.idle": "2023-10-16T17:34:57.044225Z",
     "shell.execute_reply": "2023-10-16T17:34:57.043477Z"
    }
   },
   "outputs": [],
   "source": [
    "data = list(cl.get_schedule(show,station,since,till))\n",
    "pdata=pd.DataFrame(data,columns=['title','since'])"
   ]
  },
  {
   "cell_type": "markdown",
   "id": "18254e5d",
   "metadata": {
    "lines_to_next_cell": 0
   },
   "source": [
    "## Save dataframe to csv"
   ]
  },
  {
   "cell_type": "code",
   "execution_count": 7,
   "id": "4e31453c",
   "metadata": {
    "execution": {
     "iopub.execute_input": "2023-10-16T17:34:57.048155Z",
     "iopub.status.busy": "2023-10-16T17:34:57.047875Z",
     "iopub.status.idle": "2023-10-16T17:34:57.056097Z",
     "shell.execute_reply": "2023-10-16T17:34:57.055487Z"
    }
   },
   "outputs": [],
   "source": [
    "output_file_path='../../../runtime/out.csv'\n",
    "pdata.to_csv(output_file_path)"
   ]
  }
 ],
 "metadata": {
  "jupytext": {
   "formats": "ipynb,py:percent"
  },
  "kernelspec": {
   "display_name": "Python 3 (ipykernel)",
   "language": "python",
   "name": "python3"
  },
  "language_info": {
   "codemirror_mode": {
    "name": "ipython",
    "version": 3
   },
   "file_extension": ".py",
   "mimetype": "text/x-python",
   "name": "python",
   "nbconvert_exporter": "python",
   "pygments_lexer": "ipython3",
   "version": "3.11.5"
  }
 },
 "nbformat": 4,
 "nbformat_minor": 5
}
