{
 "cells": [
  {
   "cell_type": "code",
   "execution_count": null,
   "id": "88fef56b",
   "metadata": {},
   "outputs": [],
   "source": []
  },
  {
   "cell_type": "markdown",
   "id": "0c129a68",
   "metadata": {
    "lines_to_next_cell": 0
   },
   "source": [
    "# Explore data in pandas\n",
    "## Create client"
   ]
  },
  {
   "cell_type": "code",
   "execution_count": 1,
   "id": "ab62e8e8",
   "metadata": {
    "execution": {
     "iopub.execute_input": "2023-10-15T16:31:53.177404Z",
     "iopub.status.busy": "2023-10-15T16:31:53.176517Z",
     "iopub.status.idle": "2023-10-15T16:31:53.302665Z",
     "shell.execute_reply": "2023-10-15T16:31:53.301981Z"
    }
   },
   "outputs": [],
   "source": [
    "from rapi import Client\n",
    "\n",
    "cl = Client()"
   ]
  },
  {
   "cell_type": "markdown",
   "id": "0fd4e8eb",
   "metadata": {},
   "source": [
    "## Get schedule"
   ]
  },
  {
   "cell_type": "code",
   "execution_count": 2,
   "id": "78dfc54f",
   "metadata": {
    "execution": {
     "iopub.execute_input": "2023-10-15T16:31:53.305418Z",
     "iopub.status.busy": "2023-10-15T16:31:53.305133Z",
     "iopub.status.idle": "2023-10-15T16:31:53.308368Z",
     "shell.execute_reply": "2023-10-15T16:31:53.307718Z"
    }
   },
   "outputs": [],
   "source": [
    "show=\"2226c3be-7f0d-3c82-af47-0ec6abe992a8\"\n",
    "station=\"4082f63f-30e8-375d-a326-b32cf7d86e02\"\n",
    "since=\"2023_09-01\"\n",
    "till=\"2023_10-01\""
   ]
  },
  {
   "cell_type": "code",
   "execution_count": 3,
   "id": "bd2fca9a",
   "metadata": {
    "execution": {
     "iopub.execute_input": "2023-10-15T16:31:53.311491Z",
     "iopub.status.busy": "2023-10-15T16:31:53.311239Z",
     "iopub.status.idle": "2023-10-15T16:31:53.730546Z",
     "shell.execute_reply": "2023-10-15T16:31:53.729875Z"
    }
   },
   "outputs": [],
   "source": [
    "data = list(cl.get_schedule(show,station,since,till))\n",
    "import pandas as pd\n",
    "\n",
    "pdata=pd.DataFrame(data)"
   ]
  },
  {
   "cell_type": "markdown",
   "id": "2d208bd0",
   "metadata": {
    "lines_to_next_cell": 0
   },
   "source": [
    "## Show columns in dataframe"
   ]
  },
  {
   "cell_type": "code",
   "execution_count": 4,
   "id": "0e1c53ed",
   "metadata": {
    "execution": {
     "iopub.execute_input": "2023-10-15T16:31:53.733823Z",
     "iopub.status.busy": "2023-10-15T16:31:53.733466Z",
     "iopub.status.idle": "2023-10-15T16:31:53.742615Z",
     "shell.execute_reply": "2023-10-15T16:31:53.741956Z"
    }
   },
   "outputs": [
    {
     "name": "stdout",
     "output_type": "stream",
     "text": [
      "<class 'pandas.core.frame.DataFrame'>\n",
      "RangeIndex: 147 entries, 0 to 146\n",
      "Data columns (total 9 columns):\n",
      " #   Column         Non-Null Count  Dtype                               \n",
      "---  ------         --------------  -----                               \n",
      " 0   uuid           147 non-null    object                              \n",
      " 1   title          147 non-null    object                              \n",
      " 2   description    147 non-null    object                              \n",
      " 3   station        147 non-null    object                              \n",
      " 4   station_code   147 non-null    int64                               \n",
      " 5   show_priority  147 non-null    int64                               \n",
      " 6   show_times     0 non-null      object                              \n",
      " 7   since          147 non-null    datetime64[ns, tzoffset(None, 7200)]\n",
      " 8   till           147 non-null    datetime64[ns, tzoffset(None, 7200)]\n",
      "dtypes: datetime64[ns, tzoffset(None, 7200)](2), int64(2), object(5)\n",
      "memory usage: 10.5+ KB\n"
     ]
    }
   ],
   "source": [
    "pdata.info()"
   ]
  },
  {
   "cell_type": "markdown",
   "id": "5d80ba84",
   "metadata": {
    "lines_to_next_cell": 0
   },
   "source": [
    "## Select columns, (subset dataframe)"
   ]
  },
  {
   "cell_type": "code",
   "execution_count": 5,
   "id": "abc81f16",
   "metadata": {
    "execution": {
     "iopub.execute_input": "2023-10-15T16:31:53.745410Z",
     "iopub.status.busy": "2023-10-15T16:31:53.745121Z",
     "iopub.status.idle": "2023-10-15T16:31:53.752019Z",
     "shell.execute_reply": "2023-10-15T16:31:53.751336Z"
    }
   },
   "outputs": [
    {
     "name": "stdout",
     "output_type": "stream",
     "text": [
      "                                                 title  \\\n",
      "0    Je 1. září a ve školách by už mělo být všechno...   \n",
      "1    Některá města od září zdražila hromadnou dopravou   \n",
      "2    Do Řecka už dorazila další skupina zhruba pade...   \n",
      "3        Prezident Petr Pavel podepsal penzijní novelu   \n",
      "4    Devět tříd ze 4. základní školy v Plzni zahájí...   \n",
      "..                                                 ...   \n",
      "142  Policisté v Moravskoslezském kraji zpřísnili n...   \n",
      "143  Stovky Slováků dnes odjely z Prahy mimořádným ...   \n",
      "144  Duchové bývalých přítelkyň, náhodná svatební k...   \n",
      "145  Lidé s nízkým příjmem mají v Liberci problém s...   \n",
      "146  Přesně před osmdesáti pěty lety se svět přiblí...   \n",
      "\n",
      "                        since  \n",
      "0   2023-09-01 13:06:00+02:00  \n",
      "1   2023-09-01 14:06:00+02:00  \n",
      "2   2023-09-01 15:06:00+02:00  \n",
      "3   2023-09-01 16:06:00+02:00  \n",
      "4   2023-09-01 17:06:00+02:00  \n",
      "..                        ...  \n",
      "142 2023-09-29 15:06:00+02:00  \n",
      "143 2023-09-29 16:06:00+02:00  \n",
      "144 2023-09-29 17:06:00+02:00  \n",
      "145 2023-09-29 18:33:30+02:00  \n",
      "146 2023-09-29 19:06:00+02:00  \n",
      "\n",
      "[147 rows x 2 columns]\n"
     ]
    }
   ],
   "source": [
    "sdata=(pdata[['title','since']])\n",
    "print(sdata)"
   ]
  },
  {
   "cell_type": "markdown",
   "id": "77f39e71",
   "metadata": {
    "lines_to_next_cell": 0
   },
   "source": [
    "## Select columns when creating dataframe"
   ]
  },
  {
   "cell_type": "code",
   "execution_count": 6,
   "id": "3ad16026",
   "metadata": {
    "execution": {
     "iopub.execute_input": "2023-10-15T16:31:53.754448Z",
     "iopub.status.busy": "2023-10-15T16:31:53.754190Z",
     "iopub.status.idle": "2023-10-15T16:31:53.813734Z",
     "shell.execute_reply": "2023-10-15T16:31:53.813045Z"
    }
   },
   "outputs": [],
   "source": [
    "data = list(cl.get_schedule(show,station,since,till))\n",
    "pdata=pd.DataFrame(data,columns=['title','since'])"
   ]
  },
  {
   "cell_type": "markdown",
   "id": "03566c6c",
   "metadata": {
    "lines_to_next_cell": 0
   },
   "source": [
    "## Save dataframe to csv"
   ]
  },
  {
   "cell_type": "code",
   "execution_count": 7,
   "id": "b073eff6",
   "metadata": {
    "execution": {
     "iopub.execute_input": "2023-10-15T16:31:53.816456Z",
     "iopub.status.busy": "2023-10-15T16:31:53.816197Z",
     "iopub.status.idle": "2023-10-15T16:31:53.823567Z",
     "shell.execute_reply": "2023-10-15T16:31:53.822937Z"
    }
   },
   "outputs": [],
   "source": [
    "output_file_path='../../../runtime/out.csv'\n",
    "pdata.to_csv(output_file_path)"
   ]
  }
 ],
 "metadata": {
  "jupytext": {
   "formats": "ipynb,py:percent"
  },
  "kernelspec": {
   "display_name": "Python 3 (ipykernel)",
   "language": "python",
   "name": "python3"
  },
  "language_info": {
   "codemirror_mode": {
    "name": "ipython",
    "version": 3
   },
   "file_extension": ".py",
   "mimetype": "text/x-python",
   "name": "python",
   "nbconvert_exporter": "python",
   "pygments_lexer": "ipython3",
   "version": "3.11.5"
  }
 },
 "nbformat": 4,
 "nbformat_minor": 5
}
