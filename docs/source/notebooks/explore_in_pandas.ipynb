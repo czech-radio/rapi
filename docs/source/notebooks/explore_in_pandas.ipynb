{
 "cells": [
  {
   "cell_type": "code",
   "execution_count": null,
   "id": "b0d47188",
   "metadata": {},
   "outputs": [],
   "source": []
  },
  {
   "cell_type": "markdown",
   "id": "411665de",
   "metadata": {
    "lines_to_next_cell": 0
   },
   "source": [
    "# Explore data in pandas\n",
    "## Create client"
   ]
  },
  {
   "cell_type": "code",
   "execution_count": 1,
   "id": "6d71673d",
   "metadata": {
    "execution": {
     "iopub.execute_input": "2023-10-23T19:00:19.182746Z",
     "iopub.status.busy": "2023-10-23T19:00:19.181002Z",
     "iopub.status.idle": "2023-10-23T19:00:19.256725Z",
     "shell.execute_reply": "2023-10-23T19:00:19.254750Z"
    }
   },
   "outputs": [],
   "source": [
    "from rapi import Client\n",
    "\n",
    "cl = Client()"
   ]
  },
  {
   "cell_type": "markdown",
   "id": "b847a74d",
   "metadata": {},
   "source": [
    "## Get schedule"
   ]
  },
  {
   "cell_type": "code",
   "execution_count": 2,
   "id": "737380d3",
   "metadata": {
    "execution": {
     "iopub.execute_input": "2023-10-23T19:00:19.262694Z",
     "iopub.status.busy": "2023-10-23T19:00:19.262272Z",
     "iopub.status.idle": "2023-10-23T19:00:19.267675Z",
     "shell.execute_reply": "2023-10-23T19:00:19.266631Z"
    }
   },
   "outputs": [],
   "source": [
    "show = \"2226c3be-7f0d-3c82-af47-0ec6abe992a8\"\n",
    "station = \"4082f63f-30e8-375d-a326-b32cf7d86e02\"\n",
    "since = \"2023_09-01\"\n",
    "till = \"2023_10-01\""
   ]
  },
  {
   "cell_type": "code",
   "execution_count": 3,
   "id": "081c58c2",
   "metadata": {
    "execution": {
     "iopub.execute_input": "2023-10-23T19:00:19.271329Z",
     "iopub.status.busy": "2023-10-23T19:00:19.271013Z",
     "iopub.status.idle": "2023-10-23T19:00:19.742487Z",
     "shell.execute_reply": "2023-10-23T19:00:19.741807Z"
    }
   },
   "outputs": [],
   "source": [
    "data = list(cl.get_schedule(show, station, since, till))\n",
    "import pandas as pd\n",
    "\n",
    "pdata = pd.DataFrame(data)"
   ]
  },
  {
   "cell_type": "markdown",
   "id": "03dc1d47",
   "metadata": {
    "lines_to_next_cell": 0
   },
   "source": [
    "## Show columns in dataframe"
   ]
  },
  {
   "cell_type": "code",
   "execution_count": 4,
   "id": "40077b3c",
   "metadata": {
    "execution": {
     "iopub.execute_input": "2023-10-23T19:00:19.745813Z",
     "iopub.status.busy": "2023-10-23T19:00:19.745485Z",
     "iopub.status.idle": "2023-10-23T19:00:19.759793Z",
     "shell.execute_reply": "2023-10-23T19:00:19.757028Z"
    }
   },
   "outputs": [
    {
     "name": "stdout",
     "output_type": "stream",
     "text": [
      "<class 'pandas.core.frame.DataFrame'>\n",
      "RangeIndex: 147 entries, 0 to 146\n",
      "Data columns (total 9 columns):\n",
      " #   Column         Non-Null Count  Dtype                               \n",
      "---  ------         --------------  -----                               \n",
      " 0   uuid           147 non-null    object                              \n",
      " 1   title          147 non-null    object                              \n",
      " 2   description    147 non-null    object                              \n",
      " 3   station        147 non-null    object                              \n",
      " 4   station_code   147 non-null    int64                               \n",
      " 5   show_priority  147 non-null    int64                               \n",
      " 6   show_times     0 non-null      object                              \n",
      " 7   since          147 non-null    datetime64[ns, tzoffset(None, 7200)]\n",
      " 8   till           147 non-null    datetime64[ns, tzoffset(None, 7200)]\n",
      "dtypes: datetime64[ns, tzoffset(None, 7200)](2), int64(2), object(5)\n",
      "memory usage: 10.5+ KB\n"
     ]
    }
   ],
   "source": [
    "pdata.info()"
   ]
  },
  {
   "cell_type": "markdown",
   "id": "b0f87cb2",
   "metadata": {
    "lines_to_next_cell": 0
   },
   "source": [
    "## Select columns, (subset dataframe)"
   ]
  },
  {
   "cell_type": "code",
   "execution_count": 5,
   "id": "fdb89b27",
   "metadata": {
    "execution": {
     "iopub.execute_input": "2023-10-23T19:00:19.764143Z",
     "iopub.status.busy": "2023-10-23T19:00:19.763896Z",
     "iopub.status.idle": "2023-10-23T19:00:19.772096Z",
     "shell.execute_reply": "2023-10-23T19:00:19.771315Z"
    }
   },
   "outputs": [
    {
     "name": "stdout",
     "output_type": "stream",
     "text": [
      "                                                 title  \\\n",
      "0    Je 1. září a ve školách by už mělo být všechno...   \n",
      "1    Některá města od září zdražila hromadnou dopravou   \n",
      "2    Do Řecka už dorazila další skupina zhruba pade...   \n",
      "3        Prezident Petr Pavel podepsal penzijní novelu   \n",
      "4    Devět tříd ze 4. základní školy v Plzni zahájí...   \n",
      "..                                                 ...   \n",
      "142  Policisté v Moravskoslezském kraji zpřísnili n...   \n",
      "143  Stovky Slováků dnes odjely z Prahy mimořádným ...   \n",
      "144  Duchové bývalých přítelkyň, náhodná svatební k...   \n",
      "145  Lidé s nízkým příjmem mají v Liberci problém s...   \n",
      "146  Přesně před osmdesáti pěty lety se svět přiblí...   \n",
      "\n",
      "                        since  \n",
      "0   2023-09-01 13:06:00+02:00  \n",
      "1   2023-09-01 14:06:00+02:00  \n",
      "2   2023-09-01 15:06:00+02:00  \n",
      "3   2023-09-01 16:06:00+02:00  \n",
      "4   2023-09-01 17:06:00+02:00  \n",
      "..                        ...  \n",
      "142 2023-09-29 15:06:00+02:00  \n",
      "143 2023-09-29 16:06:00+02:00  \n",
      "144 2023-09-29 17:06:00+02:00  \n",
      "145 2023-09-29 18:33:30+02:00  \n",
      "146 2023-09-29 19:06:00+02:00  \n",
      "\n",
      "[147 rows x 2 columns]\n"
     ]
    }
   ],
   "source": [
    "sdata = pdata[[\"title\", \"since\"]]\n",
    "print(sdata)"
   ]
  },
  {
   "cell_type": "markdown",
   "id": "33807298",
   "metadata": {
    "lines_to_next_cell": 0
   },
   "source": [
    "## Select columns when creating dataframe"
   ]
  },
  {
   "cell_type": "code",
   "execution_count": 6,
   "id": "be25e646",
   "metadata": {
    "execution": {
     "iopub.execute_input": "2023-10-23T19:00:19.775061Z",
     "iopub.status.busy": "2023-10-23T19:00:19.774848Z",
     "iopub.status.idle": "2023-10-23T19:00:19.832800Z",
     "shell.execute_reply": "2023-10-23T19:00:19.832230Z"
    }
   },
   "outputs": [],
   "source": [
    "data = list(cl.get_schedule(show, station, since, till))\n",
    "pdata = pd.DataFrame(data, columns=[\"title\", \"since\"])"
   ]
  },
  {
   "cell_type": "markdown",
   "id": "e4d3e2f3",
   "metadata": {
    "lines_to_next_cell": 0
   },
   "source": [
    "## Save dataframe to csv"
   ]
  },
  {
   "cell_type": "code",
   "execution_count": 7,
   "id": "19e6439a",
   "metadata": {
    "execution": {
     "iopub.execute_input": "2023-10-23T19:00:19.836107Z",
     "iopub.status.busy": "2023-10-23T19:00:19.835488Z",
     "iopub.status.idle": "2023-10-23T19:00:19.842432Z",
     "shell.execute_reply": "2023-10-23T19:00:19.841797Z"
    }
   },
   "outputs": [],
   "source": [
    "output_file_path = \"../../../runtime/out.csv\"\n",
    "pdata.to_csv(output_file_path)"
   ]
  }
 ],
 "metadata": {
  "jupytext": {
   "formats": "ipynb,py:percent"
  },
  "kernelspec": {
   "display_name": "Python 3 (ipykernel)",
   "language": "python",
   "name": "python3"
  },
  "language_info": {
   "codemirror_mode": {
    "name": "ipython",
    "version": 3
   },
   "file_extension": ".py",
   "mimetype": "text/x-python",
   "name": "python",
   "nbconvert_exporter": "python",
   "pygments_lexer": "ipython3",
   "version": "3.11.5"
  }
 },
 "nbformat": 4,
 "nbformat_minor": 5
}
