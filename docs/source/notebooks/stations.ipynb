{
 "cells": [
  {
   "cell_type": "markdown",
   "id": "175e8f44",
   "metadata": {
    "lines_to_next_cell": 0
   },
   "source": [
    "## Get all available stations\n",
    "### Create client"
   ]
  },
  {
   "cell_type": "code",
   "execution_count": 1,
   "id": "50bdb1e9",
   "metadata": {
    "execution": {
     "iopub.execute_input": "2023-10-08T18:05:17.715762Z",
     "iopub.status.busy": "2023-10-08T18:05:17.713596Z",
     "iopub.status.idle": "2023-10-08T18:05:17.880024Z",
     "shell.execute_reply": "2023-10-08T18:05:17.879329Z"
    }
   },
   "outputs": [],
   "source": [
    "from rapi import Client\n",
    "cl = Client()"
   ]
  },
  {
   "cell_type": "markdown",
   "id": "5f286a78",
   "metadata": {
    "lines_to_next_cell": 0
   },
   "source": [
    "### Create stations iterator"
   ]
  },
  {
   "cell_type": "code",
   "execution_count": 2,
   "id": "26afa0dd",
   "metadata": {
    "execution": {
     "iopub.execute_input": "2023-10-08T18:05:17.883285Z",
     "iopub.status.busy": "2023-10-08T18:05:17.883061Z",
     "iopub.status.idle": "2023-10-08T18:05:17.963689Z",
     "shell.execute_reply": "2023-10-08T18:05:17.962774Z"
    }
   },
   "outputs": [],
   "source": [
    "stations_iterator = cl.get_stations()\n",
    "stations = list(stations_iterator)"
   ]
  },
  {
   "cell_type": "markdown",
   "id": "90785875",
   "metadata": {
    "lines_to_next_cell": 0
   },
   "source": [
    "### Number of stations"
   ]
  },
  {
   "cell_type": "code",
   "execution_count": 3,
   "id": "7603d0fd",
   "metadata": {
    "execution": {
     "iopub.execute_input": "2023-10-08T18:05:17.968575Z",
     "iopub.status.busy": "2023-10-08T18:05:17.967983Z",
     "iopub.status.idle": "2023-10-08T18:05:17.973316Z",
     "shell.execute_reply": "2023-10-08T18:05:17.972390Z"
    }
   },
   "outputs": [
    {
     "name": "stdout",
     "output_type": "stream",
     "text": [
      "30\n"
     ]
    }
   ],
   "source": [
    "print(len(stations))"
   ]
  },
  {
   "cell_type": "markdown",
   "id": "0890ff0a",
   "metadata": {
    "lines_to_next_cell": 0
   },
   "source": [
    "### List stations as python object"
   ]
  },
  {
   "cell_type": "code",
   "execution_count": 4,
   "id": "5d0bcb15",
   "metadata": {
    "execution": {
     "iopub.execute_input": "2023-10-08T18:05:17.976921Z",
     "iopub.status.busy": "2023-10-08T18:05:17.976642Z",
     "iopub.status.idle": "2023-10-08T18:05:17.981440Z",
     "shell.execute_reply": "2023-10-08T18:05:17.980505Z"
    }
   },
   "outputs": [
    {
     "name": "stdout",
     "output_type": "stream",
     "text": [
      "[Station(uuid='4082f63f-30e8-375d-a326-b32cf7d86e02', title='Český rozhlas Radiožurnál', title_short='Radiožurnál', subtitle='', color='#ED2E38', code='radiozurnal', priority=100, span='allover', broadcast_name='radiozurnal'), Station(uuid='17821883-be2d-3880-b971-eceb794388fa', title='Český rozhlas Dvojka', title_short='Dvojka', subtitle='', color='#85248F', code='dvojka', priority=200, span='allover', broadcast_name='dvojka'), Station(uuid='0134ce01-8684-3556-b568-f208392ac0bd', title='Český rozhlas Vltava', title_short='Vltava', subtitle='', color='#00B8E0', code='vltava', priority=300, span='allover', broadcast_name='vltava')]\n"
     ]
    }
   ],
   "source": [
    "print(stations[:3])"
   ]
  },
  {
   "cell_type": "markdown",
   "id": "7d34476f",
   "metadata": {
    "lines_to_next_cell": 0
   },
   "source": [
    "### List stations as string object"
   ]
  },
  {
   "cell_type": "code",
   "execution_count": 5,
   "id": "72e5f028",
   "metadata": {
    "execution": {
     "iopub.execute_input": "2023-10-08T18:05:17.986315Z",
     "iopub.status.busy": "2023-10-08T18:05:17.985633Z",
     "iopub.status.idle": "2023-10-08T18:05:17.990690Z",
     "shell.execute_reply": "2023-10-08T18:05:17.989759Z"
    },
    "lines_to_next_cell": 2
   },
   "outputs": [
    {
     "name": "stdout",
     "output_type": "stream",
     "text": [
      "{\n",
      "  \"uuid\": \"4082f63f-30e8-375d-a326-b32cf7d86e02\",\n",
      "  \"title\": \"Český rozhlas Radiožurnál\",\n",
      "  \"title_short\": \"Radiožurnál\",\n",
      "  \"subtitle\": \"\",\n",
      "  \"color\": \"#ED2E38\",\n",
      "  \"code\": \"radiozurnal\",\n",
      "  \"priority\": 100,\n",
      "  \"span\": \"allover\",\n",
      "  \"broadcast_name\": \"radiozurnal\"\n",
      "}\n",
      "{\n",
      "  \"uuid\": \"17821883-be2d-3880-b971-eceb794388fa\",\n",
      "  \"title\": \"Český rozhlas Dvojka\",\n",
      "  \"title_short\": \"Dvojka\",\n",
      "  \"subtitle\": \"\",\n",
      "  \"color\": \"#85248F\",\n",
      "  \"code\": \"dvojka\",\n",
      "  \"priority\": 200,\n",
      "  \"span\": \"allover\",\n",
      "  \"broadcast_name\": \"dvojka\"\n",
      "}\n",
      "{\n",
      "  \"uuid\": \"0134ce01-8684-3556-b568-f208392ac0bd\",\n",
      "  \"title\": \"Český rozhlas Vltava\",\n",
      "  \"title_short\": \"Vltava\",\n",
      "  \"subtitle\": \"\",\n",
      "  \"color\": \"#00B8E0\",\n",
      "  \"code\": \"vltava\",\n",
      "  \"priority\": 300,\n",
      "  \"span\": \"allover\",\n",
      "  \"broadcast_name\": \"vltava\"\n",
      "}\n"
     ]
    }
   ],
   "source": [
    "for st in stations[:3]:\n",
    "    print(st)"
   ]
  }
 ],
 "metadata": {
  "jupytext": {
   "formats": "ipynb,py:percent"
  },
  "kernelspec": {
   "display_name": "Python 3 (ipykernel)",
   "language": "python",
   "name": "python3"
  },
  "language_info": {
   "codemirror_mode": {
    "name": "ipython",
    "version": 3
   },
   "file_extension": ".py",
   "mimetype": "text/x-python",
   "name": "python",
   "nbconvert_exporter": "python",
   "pygments_lexer": "ipython3",
   "version": "3.11.5"
  }
 },
 "nbformat": 4,
 "nbformat_minor": 5
}
