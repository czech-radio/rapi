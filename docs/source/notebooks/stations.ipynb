{
 "cells": [
  {
   "cell_type": "markdown",
   "id": "d6491ec0",
   "metadata": {
    "lines_to_next_cell": 0
   },
   "source": [
    "# Get all available stations\n",
    "## Create client"
   ]
  },
  {
   "cell_type": "code",
   "execution_count": 1,
   "id": "f29c8ecc",
   "metadata": {
    "execution": {
     "iopub.execute_input": "2023-10-20T09:48:29.795706Z",
     "iopub.status.busy": "2023-10-20T09:48:29.794577Z",
     "iopub.status.idle": "2023-10-20T09:48:30.119482Z",
     "shell.execute_reply": "2023-10-20T09:48:30.118470Z"
    }
   },
   "outputs": [],
   "source": [
    "from rapi import Client\n",
    "\n",
    "cl = Client()"
   ]
  },
  {
   "cell_type": "markdown",
   "id": "5ecc57e9",
   "metadata": {
    "lines_to_next_cell": 0
   },
   "source": [
    "## Create stations iterator"
   ]
  },
  {
   "cell_type": "code",
   "execution_count": 2,
   "id": "c52a0c03",
   "metadata": {
    "execution": {
     "iopub.execute_input": "2023-10-20T09:48:30.126895Z",
     "iopub.status.busy": "2023-10-20T09:48:30.126663Z",
     "iopub.status.idle": "2023-10-20T09:48:30.266919Z",
     "shell.execute_reply": "2023-10-20T09:48:30.264407Z"
    }
   },
   "outputs": [],
   "source": [
    "stations_iterator = cl.get_stations()\n",
    "stations = list(stations_iterator)"
   ]
  },
  {
   "cell_type": "markdown",
   "id": "10812c63",
   "metadata": {
    "lines_to_next_cell": 0
   },
   "source": [
    "## Number of stations"
   ]
  },
  {
   "cell_type": "code",
   "execution_count": 3,
   "id": "100b7b4d",
   "metadata": {
    "execution": {
     "iopub.execute_input": "2023-10-20T09:48:30.275009Z",
     "iopub.status.busy": "2023-10-20T09:48:30.273837Z",
     "iopub.status.idle": "2023-10-20T09:48:30.280354Z",
     "shell.execute_reply": "2023-10-20T09:48:30.279168Z"
    }
   },
   "outputs": [
    {
     "name": "stdout",
     "output_type": "stream",
     "text": [
      "27\n"
     ]
    }
   ],
   "source": [
    "print(len(stations))"
   ]
  },
  {
   "cell_type": "markdown",
   "id": "51ab78df",
   "metadata": {
    "lines_to_next_cell": 0
   },
   "source": [
    "## List stations as python object"
   ]
  },
  {
   "cell_type": "code",
   "execution_count": 4,
   "id": "16259720",
   "metadata": {
    "execution": {
     "iopub.execute_input": "2023-10-20T09:48:30.284866Z",
     "iopub.status.busy": "2023-10-20T09:48:30.283812Z",
     "iopub.status.idle": "2023-10-20T09:48:30.293030Z",
     "shell.execute_reply": "2023-10-20T09:48:30.292109Z"
    }
   },
   "outputs": [
    {
     "name": "stdout",
     "output_type": "stream",
     "text": [
      "[Station(uuid='4082f63f-30e8-375d-a326-b32cf7d86e02', title='Český rozhlas Radiožurnál', title_short='Radiožurnál', subtitle='', color='#ED2E38', code='radiozurnal', priority=100, span='allover', broadcast_name='radiozurnal'), Station(uuid='17821883-be2d-3880-b971-eceb794388fa', title='Český rozhlas Dvojka', title_short='Dvojka', subtitle='', color='#85248F', code='dvojka', priority=200, span='allover', broadcast_name='dvojka'), Station(uuid='0134ce01-8684-3556-b568-f208392ac0bd', title='Český rozhlas Vltava', title_short='Vltava', subtitle='', color='#00B8E0', code='vltava', priority=300, span='allover', broadcast_name='vltava')]\n"
     ]
    }
   ],
   "source": [
    "print(stations[:3])"
   ]
  },
  {
   "cell_type": "markdown",
   "id": "67d48d36",
   "metadata": {
    "lines_to_next_cell": 0
   },
   "source": [
    "## List stations as string object"
   ]
  },
  {
   "cell_type": "code",
   "execution_count": 5,
   "id": "755052b7",
   "metadata": {
    "execution": {
     "iopub.execute_input": "2023-10-20T09:48:30.302228Z",
     "iopub.status.busy": "2023-10-20T09:48:30.301002Z",
     "iopub.status.idle": "2023-10-20T09:48:30.311247Z",
     "shell.execute_reply": "2023-10-20T09:48:30.309306Z"
    }
   },
   "outputs": [
    {
     "name": "stdout",
     "output_type": "stream",
     "text": [
      "{\n",
      "  \"uuid\": \"4082f63f-30e8-375d-a326-b32cf7d86e02\",\n",
      "  \"title\": \"Český rozhlas Radiožurnál\",\n",
      "  \"title_short\": \"Radiožurnál\",\n",
      "  \"subtitle\": \"\",\n",
      "  \"color\": \"#ED2E38\",\n",
      "  \"code\": \"radiozurnal\",\n",
      "  \"priority\": 100,\n",
      "  \"span\": \"allover\",\n",
      "  \"broadcast_name\": \"radiozurnal\"\n",
      "}\n",
      "{\n",
      "  \"uuid\": \"17821883-be2d-3880-b971-eceb794388fa\",\n",
      "  \"title\": \"Český rozhlas Dvojka\",\n",
      "  \"title_short\": \"Dvojka\",\n",
      "  \"subtitle\": \"\",\n",
      "  \"color\": \"#85248F\",\n",
      "  \"code\": \"dvojka\",\n",
      "  \"priority\": 200,\n",
      "  \"span\": \"allover\",\n",
      "  \"broadcast_name\": \"dvojka\"\n",
      "}\n",
      "{\n",
      "  \"uuid\": \"0134ce01-8684-3556-b568-f208392ac0bd\",\n",
      "  \"title\": \"Český rozhlas Vltava\",\n",
      "  \"title_short\": \"Vltava\",\n",
      "  \"subtitle\": \"\",\n",
      "  \"color\": \"#00B8E0\",\n",
      "  \"code\": \"vltava\",\n",
      "  \"priority\": 300,\n",
      "  \"span\": \"allover\",\n",
      "  \"broadcast_name\": \"vltava\"\n",
      "}\n"
     ]
    }
   ],
   "source": [
    "for st in stations[:3]:\n",
    "    print(st)"
   ]
  }
 ],
 "metadata": {
  "jupytext": {
   "formats": "ipynb,py:percent"
  },
  "kernelspec": {
   "display_name": "Python 3 (ipykernel)",
   "language": "python",
   "name": "python3"
  },
  "language_info": {
   "codemirror_mode": {
    "name": "ipython",
    "version": 3
   },
   "file_extension": ".py",
   "mimetype": "text/x-python",
   "name": "python",
   "nbconvert_exporter": "python",
   "pygments_lexer": "ipython3",
   "version": "3.11.5"
  }
 },
 "nbformat": 4,
 "nbformat_minor": 5
}
