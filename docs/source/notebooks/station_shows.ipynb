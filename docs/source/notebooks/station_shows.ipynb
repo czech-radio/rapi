{
 "cells": [
  {
   "cell_type": "markdown",
   "id": "b6ddd0a5",
   "metadata": {
    "lines_to_next_cell": 0
   },
   "source": [
    "# Get all shows for given station\n",
    "## Create client"
   ]
  },
  {
   "cell_type": "code",
   "execution_count": 1,
   "id": "6f018a6e",
   "metadata": {
    "execution": {
     "iopub.execute_input": "2023-10-23T19:00:36.226008Z",
     "iopub.status.busy": "2023-10-23T19:00:36.225132Z",
     "iopub.status.idle": "2023-10-23T19:00:36.286727Z",
     "shell.execute_reply": "2023-10-23T19:00:36.286056Z"
    }
   },
   "outputs": [],
   "source": [
    "from rapi import Client\n",
    "\n",
    "cl = Client()"
   ]
  },
  {
   "cell_type": "markdown",
   "id": "a6e10be3",
   "metadata": {
    "lines_to_next_cell": 0
   },
   "source": [
    "## Create station shows iterator\n",
    "- by default station identificator is openmedia id"
   ]
  },
  {
   "cell_type": "code",
   "execution_count": 2,
   "id": "04e127a1",
   "metadata": {
    "execution": {
     "iopub.execute_input": "2023-10-23T19:00:36.289338Z",
     "iopub.status.busy": "2023-10-23T19:00:36.289137Z",
     "iopub.status.idle": "2023-10-23T19:00:36.382021Z",
     "shell.execute_reply": "2023-10-23T19:00:36.381191Z"
    }
   },
   "outputs": [],
   "source": [
    "shows_iterator = cl.get_station_shows(\"11\")\n",
    "shows = list(shows_iterator)"
   ]
  },
  {
   "cell_type": "markdown",
   "id": "2bba0476",
   "metadata": {
    "lines_to_next_cell": 0
   },
   "source": [
    "## Number of shows"
   ]
  },
  {
   "cell_type": "code",
   "execution_count": 3,
   "id": "4ab4ba94",
   "metadata": {
    "execution": {
     "iopub.execute_input": "2023-10-23T19:00:36.385246Z",
     "iopub.status.busy": "2023-10-23T19:00:36.385037Z",
     "iopub.status.idle": "2023-10-23T19:00:36.389113Z",
     "shell.execute_reply": "2023-10-23T19:00:36.388411Z"
    }
   },
   "outputs": [
    {
     "name": "stdout",
     "output_type": "stream",
     "text": [
      "71\n"
     ]
    }
   ],
   "source": [
    "print(len(shows))"
   ]
  },
  {
   "cell_type": "markdown",
   "id": "c65fc0b8",
   "metadata": {
    "lines_to_next_cell": 0
   },
   "source": [
    "## List shows as python object"
   ]
  },
  {
   "cell_type": "code",
   "execution_count": 4,
   "id": "527c8b2a",
   "metadata": {
    "execution": {
     "iopub.execute_input": "2023-10-23T19:00:36.391766Z",
     "iopub.status.busy": "2023-10-23T19:00:36.391445Z",
     "iopub.status.idle": "2023-10-23T19:00:36.395303Z",
     "shell.execute_reply": "2023-10-23T19:00:36.394634Z"
    }
   },
   "outputs": [
    {
     "name": "stdout",
     "output_type": "stream",
     "text": [
      "[Show(uuid='c239aa59-bc78-3180-9b58-5c911846630d', type='show', content=True, title='100 statečných', active=False, aired=False, podcast=False, priority=0, child_friendly=False, description='100 hostů, 52 hodin a dva zkušení moderátoři.', description_short='100 hostů, 52 hodin a dva zkušení moderátoři.', updated=datetime.datetime(2021, 3, 20, 23, 30, 9, tzinfo=tzoffset(None, 3600))), Show(uuid='af62bd59-1e49-3dae-a68b-90b11f5d2ae6', type='show', content=True, title='90 statečných', active=False, aired=False, podcast=False, priority=0, child_friendly=False, description='Dokázali jsme to a vytvořili jsme nový rekord v rozhlasovém moderování!', description_short='Dokázali jsme to a vytvořili jsme nový rekord v rozhlasovém moderování!', updated=datetime.datetime(2021, 3, 20, 23, 30, 9, tzinfo=tzoffset(None, 3600))), Show(uuid='d88f0d67-6ba1-3ba5-8fea-01e41a614037', type='show', content=True, title='Antivirus', active=True, aired=True, podcast=True, priority=0, child_friendly=False, description='Pořad o technologiích a bezpečnosti na internetu. Jan Cibulka a Jana Magdoňová se zaměří na nástrahy on-line světa. Budou mluvit o aktuálních kyberútocích a podvodech na internetu a přidají i tipy, jak chránit sebe i své děti nebo rodiče. Antivirus doplní články na zpravodajském webu iRozhlas.cz.', description_short='Pořad o technologiích a bezpečnosti na internetu. Jan Cibulka a Jana Magdoňová se zaměří na nástrahy on-line světa.\\xa0', updated=datetime.datetime(2023, 9, 4, 10, 0, 10, tzinfo=tzoffset(None, 7200)))]\n"
     ]
    }
   ],
   "source": [
    "print(shows[:3])"
   ]
  },
  {
   "cell_type": "markdown",
   "id": "35d2f2e6",
   "metadata": {
    "lines_to_next_cell": 0
   },
   "source": [
    "## List shows as string object"
   ]
  },
  {
   "cell_type": "code",
   "execution_count": 5,
   "id": "306a1bf1",
   "metadata": {
    "execution": {
     "iopub.execute_input": "2023-10-23T19:00:36.397792Z",
     "iopub.status.busy": "2023-10-23T19:00:36.397571Z",
     "iopub.status.idle": "2023-10-23T19:00:36.403137Z",
     "shell.execute_reply": "2023-10-23T19:00:36.402482Z"
    }
   },
   "outputs": [
    {
     "name": "stdout",
     "output_type": "stream",
     "text": [
      "{\n",
      "  \"uuid\": \"c239aa59-bc78-3180-9b58-5c911846630d\",\n",
      "  \"type\": \"show\",\n",
      "  \"content\": true,\n",
      "  \"title\": \"100 statečných\",\n",
      "  \"active\": false,\n",
      "  \"aired\": false,\n",
      "  \"podcast\": false,\n",
      "  \"priority\": 0,\n",
      "  \"child_friendly\": false,\n",
      "  \"description\": \"100 hostů, 52 hodin a dva zkušení moderátoři.\",\n",
      "  \"description_short\": \"100 hostů, 52 hodin a dva zkušení moderátoři.\",\n",
      "  \"updated\": \"2021-03-20T23:30:09+01:00\"\n",
      "}\n",
      "{\n",
      "  \"uuid\": \"af62bd59-1e49-3dae-a68b-90b11f5d2ae6\",\n",
      "  \"type\": \"show\",\n",
      "  \"content\": true,\n",
      "  \"title\": \"90 statečných\",\n",
      "  \"active\": false,\n",
      "  \"aired\": false,\n",
      "  \"podcast\": false,\n",
      "  \"priority\": 0,\n",
      "  \"child_friendly\": false,\n",
      "  \"description\": \"Dokázali jsme to a vytvořili jsme nový rekord v rozhlasovém moderování!\",\n",
      "  \"description_short\": \"Dokázali jsme to a vytvořili jsme nový rekord v rozhlasovém moderování!\",\n",
      "  \"updated\": \"2021-03-20T23:30:09+01:00\"\n",
      "}\n",
      "{\n",
      "  \"uuid\": \"d88f0d67-6ba1-3ba5-8fea-01e41a614037\",\n",
      "  \"type\": \"show\",\n",
      "  \"content\": true,\n",
      "  \"title\": \"Antivirus\",\n",
      "  \"active\": true,\n",
      "  \"aired\": true,\n",
      "  \"podcast\": true,\n",
      "  \"priority\": 0,\n",
      "  \"child_friendly\": false,\n",
      "  \"description\": \"Pořad o technologiích a bezpečnosti na internetu. Jan Cibulka a Jana Magdoňová se zaměří na nástrahy on-line světa. Budou mluvit o aktuálních kyberútocích a podvodech na internetu a přidají i tipy, jak chránit sebe i své děti nebo rodiče. Antivirus doplní články na zpravodajském webu iRozhlas.cz.\",\n",
      "  \"description_short\": \"Pořad o technologiích a bezpečnosti na internetu. Jan Cibulka a Jana Magdoňová se zaměří na nástrahy on-line světa. \",\n",
      "  \"updated\": \"2023-09-04T10:00:10+02:00\"\n",
      "}\n"
     ]
    }
   ],
   "source": [
    "for sh in shows[:3]:\n",
    "    print(sh)"
   ]
  }
 ],
 "metadata": {
  "jupytext": {
   "formats": "ipynb,py:percent"
  },
  "kernelspec": {
   "display_name": "Python 3 (ipykernel)",
   "language": "python",
   "name": "python3"
  },
  "language_info": {
   "codemirror_mode": {
    "name": "ipython",
    "version": 3
   },
   "file_extension": ".py",
   "mimetype": "text/x-python",
   "name": "python",
   "nbconvert_exporter": "python",
   "pygments_lexer": "ipython3",
   "version": "3.11.5"
  }
 },
 "nbformat": 4,
 "nbformat_minor": 5
}
