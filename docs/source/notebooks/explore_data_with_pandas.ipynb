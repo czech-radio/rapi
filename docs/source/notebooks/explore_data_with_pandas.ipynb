{
 "cells": [
  {
   "cell_type": "markdown",
   "id": "e78e509b",
   "metadata": {
    "lines_to_next_cell": 0
   },
   "source": [
    "# Explore data wih Pandas\n",
    "\n",
    "## Create client"
   ]
  },
  {
   "cell_type": "code",
   "execution_count": 1,
   "id": "cf804888",
   "metadata": {
    "execution": {
     "iopub.execute_input": "2023-10-23T19:18:03.621412Z",
     "iopub.status.busy": "2023-10-23T19:18:03.619483Z",
     "iopub.status.idle": "2023-10-23T19:18:03.709683Z",
     "shell.execute_reply": "2023-10-23T19:18:03.708138Z"
    }
   },
   "outputs": [],
   "source": [
    "import pandas as pd\n",
    "from rapi import Client\n",
    "\n",
    "cl = Client()"
   ]
  },
  {
   "cell_type": "markdown",
   "id": "a7d19c41",
   "metadata": {},
   "source": [
    "## Get schedule"
   ]
  },
  {
   "cell_type": "code",
   "execution_count": 2,
   "id": "849cbd19",
   "metadata": {
    "execution": {
     "iopub.execute_input": "2023-10-23T19:18:03.716396Z",
     "iopub.status.busy": "2023-10-23T19:18:03.714676Z",
     "iopub.status.idle": "2023-10-23T19:18:03.728333Z",
     "shell.execute_reply": "2023-10-23T19:18:03.721538Z"
    }
   },
   "outputs": [],
   "source": [
    "show = \"2226c3be-7f0d-3c82-af47-0ec6abe992a8\"\n",
    "station = \"4082f63f-30e8-375d-a326-b32cf7d86e02\"\n",
    "since = \"2023_09-01\"\n",
    "till = \"2023_10-01\""
   ]
  },
  {
   "cell_type": "code",
   "execution_count": 3,
   "id": "f8f7d1e7",
   "metadata": {
    "execution": {
     "iopub.execute_input": "2023-10-23T19:18:03.746511Z",
     "iopub.status.busy": "2023-10-23T19:18:03.742419Z",
     "iopub.status.idle": "2023-10-23T19:18:04.683278Z",
     "shell.execute_reply": "2023-10-23T19:18:04.681856Z"
    }
   },
   "outputs": [],
   "source": [
    "data = list(cl.get_schedule(show, station, since, till))\n",
    "pdata = pd.DataFrame(data)"
   ]
  },
  {
   "cell_type": "markdown",
   "id": "93003c73",
   "metadata": {
    "lines_to_next_cell": 0
   },
   "source": [
    "## Show columns in dataframe"
   ]
  },
  {
   "cell_type": "code",
   "execution_count": 4,
   "id": "e7af66e5",
   "metadata": {
    "execution": {
     "iopub.execute_input": "2023-10-23T19:18:04.693663Z",
     "iopub.status.busy": "2023-10-23T19:18:04.687723Z",
     "iopub.status.idle": "2023-10-23T19:18:04.711152Z",
     "shell.execute_reply": "2023-10-23T19:18:04.710255Z"
    }
   },
   "outputs": [
    {
     "name": "stdout",
     "output_type": "stream",
     "text": [
      "<class 'pandas.core.frame.DataFrame'>\n",
      "RangeIndex: 147 entries, 0 to 146\n",
      "Data columns (total 9 columns):\n",
      " #   Column         Non-Null Count  Dtype                               \n",
      "---  ------         --------------  -----                               \n",
      " 0   uuid           147 non-null    object                              \n",
      " 1   title          147 non-null    object                              \n",
      " 2   description    147 non-null    object                              \n",
      " 3   station        147 non-null    object                              \n",
      " 4   station_code   147 non-null    int64                               \n",
      " 5   show_priority  147 non-null    int64                               \n",
      " 6   show_times     0 non-null      object                              \n",
      " 7   since          147 non-null    datetime64[ns, tzoffset(None, 7200)]\n",
      " 8   till           147 non-null    datetime64[ns, tzoffset(None, 7200)]\n",
      "dtypes: datetime64[ns, tzoffset(None, 7200)](2), int64(2), object(5)\n",
      "memory usage: 10.5+ KB\n"
     ]
    }
   ],
   "source": [
    "pdata.info()"
   ]
  },
  {
   "cell_type": "markdown",
   "id": "caca3220",
   "metadata": {
    "lines_to_next_cell": 0
   },
   "source": [
    "## Select columns, (subset dataframe)"
   ]
  },
  {
   "cell_type": "code",
   "execution_count": 5,
   "id": "a08fdb8a",
   "metadata": {
    "execution": {
     "iopub.execute_input": "2023-10-23T19:18:04.718439Z",
     "iopub.status.busy": "2023-10-23T19:18:04.716382Z",
     "iopub.status.idle": "2023-10-23T19:18:04.737531Z",
     "shell.execute_reply": "2023-10-23T19:18:04.729390Z"
    }
   },
   "outputs": [
    {
     "name": "stdout",
     "output_type": "stream",
     "text": [
      "                                                 title  \\\n",
      "0    Je 1. září a ve školách by už mělo být všechno...   \n",
      "1    Některá města od září zdražila hromadnou dopravou   \n",
      "2    Do Řecka už dorazila další skupina zhruba pade...   \n",
      "3        Prezident Petr Pavel podepsal penzijní novelu   \n",
      "4    Devět tříd ze 4. základní školy v Plzni zahájí...   \n",
      "..                                                 ...   \n",
      "142  Policisté v Moravskoslezském kraji zpřísnili n...   \n",
      "143  Stovky Slováků dnes odjely z Prahy mimořádným ...   \n",
      "144  Duchové bývalých přítelkyň, náhodná svatební k...   \n",
      "145  Lidé s nízkým příjmem mají v Liberci problém s...   \n",
      "146  Přesně před osmdesáti pěty lety se svět přiblí...   \n",
      "\n",
      "                        since  \n",
      "0   2023-09-01 13:06:00+02:00  \n",
      "1   2023-09-01 14:06:00+02:00  \n",
      "2   2023-09-01 15:06:00+02:00  \n",
      "3   2023-09-01 16:06:00+02:00  \n",
      "4   2023-09-01 17:06:00+02:00  \n",
      "..                        ...  \n",
      "142 2023-09-29 15:06:00+02:00  \n",
      "143 2023-09-29 16:06:00+02:00  \n",
      "144 2023-09-29 17:06:00+02:00  \n",
      "145 2023-09-29 18:33:30+02:00  \n",
      "146 2023-09-29 19:06:00+02:00  \n",
      "\n",
      "[147 rows x 2 columns]\n"
     ]
    }
   ],
   "source": [
    "sdata = pdata[[\"title\", \"since\"]]\n",
    "print(sdata)"
   ]
  },
  {
   "cell_type": "markdown",
   "id": "68f10381",
   "metadata": {
    "lines_to_next_cell": 0
   },
   "source": [
    "## Select columns when creating dataframe"
   ]
  },
  {
   "cell_type": "code",
   "execution_count": 6,
   "id": "252c0e20",
   "metadata": {
    "execution": {
     "iopub.execute_input": "2023-10-23T19:18:04.743814Z",
     "iopub.status.busy": "2023-10-23T19:18:04.742407Z",
     "iopub.status.idle": "2023-10-23T19:18:04.876058Z",
     "shell.execute_reply": "2023-10-23T19:18:04.875360Z"
    }
   },
   "outputs": [],
   "source": [
    "data = list(cl.get_schedule(show, station, since, till))\n",
    "pdata = pd.DataFrame(data, columns=[\"title\", \"since\"])"
   ]
  },
  {
   "cell_type": "markdown",
   "id": "a85da509",
   "metadata": {
    "lines_to_next_cell": 0
   },
   "source": [
    "## Save dataframe to csv"
   ]
  },
  {
   "cell_type": "code",
   "execution_count": 7,
   "id": "90661006",
   "metadata": {
    "execution": {
     "iopub.execute_input": "2023-10-23T19:18:04.879837Z",
     "iopub.status.busy": "2023-10-23T19:18:04.879525Z",
     "iopub.status.idle": "2023-10-23T19:18:04.891909Z",
     "shell.execute_reply": "2023-10-23T19:18:04.890616Z"
    }
   },
   "outputs": [],
   "source": [
    "output_file_path = \"../../../runtime/out.csv\"\n",
    "pdata.to_csv(output_file_path)"
   ]
  }
 ],
 "metadata": {
  "jupytext": {
   "formats": "ipynb,py:percent"
  },
  "kernelspec": {
   "display_name": "Python 3 (ipykernel)",
   "language": "python",
   "name": "python3"
  },
  "language_info": {
   "codemirror_mode": {
    "name": "ipython",
    "version": 3
   },
   "file_extension": ".py",
   "mimetype": "text/x-python",
   "name": "python",
   "nbconvert_exporter": "python",
   "pygments_lexer": "ipython3",
   "version": "3.11.5"
  }
 },
 "nbformat": 4,
 "nbformat_minor": 5
}
