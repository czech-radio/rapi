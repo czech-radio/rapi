{
 "cells": [
  {
   "cell_type": "markdown",
   "id": "0ad68987",
   "metadata": {},
   "source": [
    "# Library Showcase"
   ]
  },
  {
   "cell_type": "markdown",
   "id": "093d948b",
   "metadata": {},
   "source": [
    "FIXME: Add some description"
   ]
  },
  {
   "cell_type": "code",
   "execution_count": 1,
   "id": "4300f36e",
   "metadata": {
    "execution": {
     "iopub.execute_input": "2023-10-15T20:23:29.677191Z",
     "iopub.status.busy": "2023-10-15T20:23:29.676050Z",
     "iopub.status.idle": "2023-10-15T20:23:29.712128Z",
     "shell.execute_reply": "2023-10-15T20:23:29.711177Z"
    }
   },
   "outputs": [],
   "source": [
    "%reload_ext autoreload\n",
    "%autoreload 2"
   ]
  },
  {
   "cell_type": "code",
   "execution_count": 2,
   "id": "9a318f27",
   "metadata": {
    "execution": {
     "iopub.execute_input": "2023-10-15T20:23:29.716480Z",
     "iopub.status.busy": "2023-10-15T20:23:29.716111Z",
     "iopub.status.idle": "2023-10-15T20:23:29.801026Z",
     "shell.execute_reply": "2023-10-15T20:23:29.800459Z"
    }
   },
   "outputs": [],
   "source": [
    "from rapi import Client"
   ]
  },
  {
   "cell_type": "code",
   "execution_count": 3,
   "id": "c2d82306",
   "metadata": {
    "execution": {
     "iopub.execute_input": "2023-10-15T20:23:29.804041Z",
     "iopub.status.busy": "2023-10-15T20:23:29.803781Z",
     "iopub.status.idle": "2023-10-15T20:23:29.837972Z",
     "shell.execute_reply": "2023-10-15T20:23:29.837313Z"
    }
   },
   "outputs": [],
   "source": [
    "cl = Client()"
   ]
  },
  {
   "cell_type": "markdown",
   "id": "30e671be",
   "metadata": {},
   "source": [
    "## Get all available stations"
   ]
  },
  {
   "cell_type": "code",
   "execution_count": 4,
   "id": "b114037b",
   "metadata": {
    "execution": {
     "iopub.execute_input": "2023-10-15T20:23:29.840498Z",
     "iopub.status.busy": "2023-10-15T20:23:29.840258Z",
     "iopub.status.idle": "2023-10-15T20:23:30.066553Z",
     "shell.execute_reply": "2023-10-15T20:23:30.064494Z"
    }
   },
   "outputs": [
    {
     "data": {
      "text/plain": [
       "27"
      ]
     },
     "execution_count": 4,
     "metadata": {},
     "output_type": "execute_result"
    }
   ],
   "source": [
    "stations = cl.get_stations()\n",
    "len(list(stations))"
   ]
  },
  {
   "cell_type": "markdown",
   "id": "a5975c86",
   "metadata": {},
   "source": [
    "## Get all shows for given station"
   ]
  },
  {
   "cell_type": "code",
   "execution_count": 5,
   "id": "7bf50308",
   "metadata": {
    "execution": {
     "iopub.execute_input": "2023-10-15T20:23:30.073863Z",
     "iopub.status.busy": "2023-10-15T20:23:30.073370Z",
     "iopub.status.idle": "2023-10-15T20:23:30.097659Z",
     "shell.execute_reply": "2023-10-15T20:23:30.096085Z"
    }
   },
   "outputs": [],
   "source": [
    "shows = cl.get_station_shows(\"11\")"
   ]
  },
  {
   "cell_type": "code",
   "execution_count": 6,
   "id": "d3cba4e5",
   "metadata": {
    "execution": {
     "iopub.execute_input": "2023-10-15T20:23:30.104220Z",
     "iopub.status.busy": "2023-10-15T20:23:30.103782Z",
     "iopub.status.idle": "2023-10-15T20:23:30.825568Z",
     "shell.execute_reply": "2023-10-15T20:23:30.824562Z"
    }
   },
   "outputs": [
    {
     "data": {
      "text/plain": [
       "[Show(uuid='c239aa59-bc78-3180-9b58-5c911846630d', type='show', content=True, title='100 statečných', active=False, aired=False, podcast=False, priority=0, child_friendly=False, description='100 hostů, 52 hodin a dva zkušení moderátoři.', description_short='100 hostů, 52 hodin a dva zkušení moderátoři.', updated=datetime.datetime(2021, 3, 20, 23, 30, 9, tzinfo=tzoffset(None, 3600))),\n",
       " Show(uuid='af62bd59-1e49-3dae-a68b-90b11f5d2ae6', type='show', content=True, title='90 statečných', active=False, aired=False, podcast=False, priority=0, child_friendly=False, description='Dokázali jsme to a vytvořili jsme nový rekord v rozhlasovém moderování!', description_short='Dokázali jsme to a vytvořili jsme nový rekord v rozhlasovém moderování!', updated=datetime.datetime(2021, 3, 20, 23, 30, 9, tzinfo=tzoffset(None, 3600))),\n",
       " Show(uuid='d88f0d67-6ba1-3ba5-8fea-01e41a614037', type='show', content=True, title='Antivirus', active=True, aired=True, podcast=True, priority=0, child_friendly=False, description='Pořad o technologiích a bezpečnosti na internetu. Jan Cibulka a Jana Magdoňová se zaměří na nástrahy on-line světa. Budou mluvit o aktuálních kyberútocích a podvodech na internetu a přidají i tipy, jak chránit sebe i své děti nebo rodiče. Antivirus doplní články na zpravodajském webu iRozhlas.cz.', description_short='Pořad o technologiích a bezpečnosti na internetu. Jan Cibulka a Jana Magdoňová se zaměří na nástrahy on-line světa.\\xa0', updated=datetime.datetime(2023, 9, 4, 10, 0, 10, tzinfo=tzoffset(None, 7200)))]"
      ]
     },
     "execution_count": 6,
     "metadata": {},
     "output_type": "execute_result"
    }
   ],
   "source": [
    "list(shows)[:3]"
   ]
  },
  {
   "cell_type": "markdown",
   "id": "d41ce579",
   "metadata": {},
   "source": [
    "## Get particular show by UUID"
   ]
  },
  {
   "cell_type": "code",
   "execution_count": 7,
   "id": "aa86ff9b",
   "metadata": {
    "execution": {
     "iopub.execute_input": "2023-10-15T20:23:30.828922Z",
     "iopub.status.busy": "2023-10-15T20:23:30.828669Z",
     "iopub.status.idle": "2023-10-15T20:23:30.986838Z",
     "shell.execute_reply": "2023-10-15T20:23:30.984798Z"
    }
   },
   "outputs": [
    {
     "data": {
      "text/plain": [
       "Show(uuid='739a46c7-35e3-336e-a7d5-08a20b7e7677', type='show', content=True, title='Rozhovory Radiožurnálu', active=True, aired=True, podcast=False, priority=0, child_friendly=False, description='Ptáme se na všechno, co vás zajímá. Každý den se snažíme kontaktovat politiky, specialisty a odborníky z nejrůznějších profesí, abychom vám nabídli jejich názory a pohledy na nejaktuálnější témata.', description_short='Každý den se snažíme kontaktovat politiky, specialisty a odborníky z nejrůznějších profesí, abychom vám nabídli jejich názory a pohledy na nejaktuálnější témata.', updated=datetime.datetime(2023, 7, 14, 17, 0, 12, tzinfo=tzoffset(None, 7200)))"
      ]
     },
     "execution_count": 7,
     "metadata": {},
     "output_type": "execute_result"
    }
   ],
   "source": [
    "cl.get_show(\"739a46c7-35e3-336e-a7d5-08a20b7e7677\")"
   ]
  },
  {
   "cell_type": "markdown",
   "id": "373b29b3",
   "metadata": {},
   "source": [
    "## Get show episodes"
   ]
  },
  {
   "cell_type": "code",
   "execution_count": 8,
   "id": "1792d8ca",
   "metadata": {
    "execution": {
     "iopub.execute_input": "2023-10-15T20:23:30.994694Z",
     "iopub.status.busy": "2023-10-15T20:23:30.994104Z",
     "iopub.status.idle": "2023-10-15T20:23:31.018157Z",
     "shell.execute_reply": "2023-10-15T20:23:31.016910Z"
    }
   },
   "outputs": [],
   "source": [
    "episodes = cl.get_show_episodes(\"739a46c7-35e3-336e-a7d5-08a20b7e7677\")"
   ]
  },
  {
   "cell_type": "code",
   "execution_count": 9,
   "id": "d31efd62",
   "metadata": {
    "execution": {
     "iopub.execute_input": "2023-10-15T20:23:31.022871Z",
     "iopub.status.busy": "2023-10-15T20:23:31.022503Z",
     "iopub.status.idle": "2023-10-15T20:23:31.404492Z",
     "shell.execute_reply": "2023-10-15T20:23:31.403779Z"
    }
   },
   "outputs": [
    {
     "data": {
      "text/plain": [
       "[Episode(uuid='16df9e3d-b6e3-33af-994d-1aa1ccb4d25a', title='Pravidla musí platit pro všechny stejně, vylučuje hygienička Svrčinová možnost výjimky pro prezidenta', title_short='Pravidla platí pro všechny stejně, vylučuje hygienička Svrčinová možnost výjimky pro prezidenta', description='<p>Pražský hrad oznámil, že Miloš Zeman v neděli přijme Petra Fialu, aby ho jmenoval premiérem. Prezidentovi přitom ve čtvrtek vyšel pozitivní PCR test na koronavirus. Podle platných opatření by nyní u něj měla následovat dvoutýdenní karanténa. Jak by musela kancelář schůzku zorganizovat, aby proběhla z epidemiologického hlediska v pořádku?<br>\\nHanka Shánělová</p>', since=datetime.datetime(2021, 11, 26, 14, 14, tzinfo=tzoffset(None, 3600)), till=datetime.datetime(2021, 11, 26, 14, 17, 16, tzinfo=tzoffset(None, 3600)), updated=datetime.datetime(2021, 11, 26, 17, 0, 16, tzinfo=tzoffset(None, 3600)), part=None, title_mirrored='Rozhovory Radiožurnálu', content_creator='radiozurnal', content_id='10011355', base_id=None),\n",
       " Episode(uuid='a8c02e81-d2c1-355a-8ad5-97cf7a87cc47', title='EU se připravuje na omikron. Zakazuje vstup cizincům z jihoafrických zemí, přibližuje zpravodaj', title_short='EU se připravuje na omikron. Zakazuje vstup cizincům z jihoafrických zemí, přibližuje zpravodaj', description='<p>Evropská komise jedná s&nbsp;výrobci vakcín o dalším postupu kvůli výskytu nové varianty koronaviru omikron. Existuje riziko, že může být nakažlivější a potenciálně také rezistentnější než varianty předchozí. „Státy EU zakazují vstup na své území cizincům cestující ze zemí jihu Afriky a zavádějí zpřísněná opatření, například povinnou karanténu po návratu,“ říká bruselský zpravodaj Viktor Daněk s&nbsp;tím, že mezi takto postupující státy patří i Česko, Německo, Itálie, Belgie.<br>\\nJiří Chum, Viktor Daněk</p>', since=datetime.datetime(2021, 11, 27, 8, 20, tzinfo=tzoffset(None, 3600)), till=datetime.datetime(2021, 11, 27, 8, 22, 38, tzinfo=tzoffset(None, 3600)), updated=datetime.datetime(2021, 11, 27, 10, 20, 19, tzinfo=tzoffset(None, 3600)), part=None, title_mirrored='Rozhovory Radiožurnálu', content_creator='radiozurnal', content_id='10012081', base_id=None),\n",
       " Episode(uuid='fb7b67d5-8b7d-385a-91bd-e044000e5e1d', title='Varianta omikron má zhruba padesát mutací, rychle se šíří a moc toho o ní nevíme', title_short='Varianta omikron má zhruba padesát mutací, rychle se šíří a moc toho o ní nevíme', description='<p><span lang=\"cs-CZ\">Nová varianta koronaviru pojmenovaná omikron je potvrzená už i v Česku. Kvůli dosud nejvíc zmutované variantě koronaviru státy po celém světě opět omezují turismus (nejnověji Japonsko) a zavádějí karantény pro cestující ze zemí, kde se omikron objevil. Co vlastně ony mutace znamenají?</span><br>\\nMatěj Skalický</p>', since=datetime.datetime(2021, 11, 29, 10, 40, tzinfo=tzoffset(None, 3600)), till=datetime.datetime(2021, 11, 29, 10, 42, 30, tzinfo=tzoffset(None, 3600)), updated=datetime.datetime(2021, 11, 30, 19, 20, 19, tzinfo=tzoffset(None, 3600)), part=None, title_mirrored='Rozhovory Radiožurnálu', content_creator='radiozurnal', content_id='10013547', base_id=None)]"
      ]
     },
     "execution_count": 9,
     "metadata": {},
     "output_type": "execute_result"
    }
   ],
   "source": [
    "list(episodes)[:3]"
   ]
  },
  {
   "cell_type": "markdown",
   "id": "c74ff289",
   "metadata": {},
   "source": [
    "## Filter show episodes by date"
   ]
  },
  {
   "cell_type": "code",
   "execution_count": 10,
   "id": "4a62c393",
   "metadata": {
    "execution": {
     "iopub.execute_input": "2023-10-15T20:23:31.406996Z",
     "iopub.status.busy": "2023-10-15T20:23:31.406753Z",
     "iopub.status.idle": "2023-10-15T20:23:31.417218Z",
     "shell.execute_reply": "2023-10-15T20:23:31.416599Z"
    }
   },
   "outputs": [],
   "source": [
    "episodes = cl.show_episodes_filter(\n",
    "    \"739a46c7-35e3-336e-a7d5-08a20b7e7677\", \"2022\", \"2023\"\n",
    ")"
   ]
  },
  {
   "cell_type": "code",
   "execution_count": 11,
   "id": "4be17b13",
   "metadata": {
    "execution": {
     "iopub.execute_input": "2023-10-15T20:23:31.420322Z",
     "iopub.status.busy": "2023-10-15T20:23:31.420079Z",
     "iopub.status.idle": "2023-10-15T20:23:31.763523Z",
     "shell.execute_reply": "2023-10-15T20:23:31.762824Z"
    }
   },
   "outputs": [
    {
     "data": {
      "text/plain": [
       "[Episode(uuid='433d059c-f032-39d7-aee8-7dd42afa6773', title='Dirigent Jakub Hrůša povede Královskou operu v Londýně. „Hrát českou hudbu je samozřejmost,“ těší se', title_short='Dirigent Jakub Hrůša povede Královskou operu v Londýně. „Hrát českou hudbu je samozřejmost,“ těší se', description='<p>Novým ředitelem Královské opery v londýnské Covent Garden bude od roku 2025 světově uznávaný český dirigent Jakub Hrůša. Před ním tuto proslulou instituci jako jediný Čech řídil krátce Rafael Kubelík, a to v 50. letech&nbsp;20. století. Na postu Hruša vystřídá odcházejícího Antonia Pappana a měl by na něm setrvat 22 let. „Je to velká výzva toho nejsprávnějšího typu.&nbsp;Královská opera má absolutní top kvalitu, vyzařuje velkou prestiž a způsobuje velký respekt,“ říká 41letý Hrůša.<br>\\nPetr Král, Tomáš Pavlíček</p>', since=datetime.datetime(2022, 10, 18, 18, 40, tzinfo=tzoffset(None, 7200)), till=datetime.datetime(2022, 10, 18, 18, 44, 19, tzinfo=tzoffset(None, 7200)), updated=datetime.datetime(2022, 10, 18, 19, 0, 23, tzinfo=tzoffset(None, 7200)), part=None, title_mirrored='Rozhovory Radiožurnálu', content_creator='radiozurnal', content_id='10439973', base_id=None),\n",
       " Episode(uuid='e4265fba-7e31-3534-a01e-d0bacc1f034d', title='Británie opět bez premiéra. V létě trval výběr lídra skoro dva měsíce, teď to má být týden, komentuje zpravodaj', title_short='Británie bez premiéra. V létě trval výběr lídra dva měsíce, teď to má být týden, komentuje zpravodaj', description='<p>Velkou Británii čeká další změna na premiérském postu. Dosavadní předsedkyně vlády Liz Trussová ve čtvrtek oznámila rezignaci. „Do pondělního odpoledne jsou otevřené nominace, každý kandidát musí mít podporu alespoň stovky konzervativních poslanců,“&nbsp;vysvětluje&nbsp;zpravodaj v Londýně Jaromír Marek. Objevují se jména jako Rishi Sunak, Penny Mordauntová či Boris Johnson, jehož přijatelnost pro veřejnost je však otázkou. Poslechněte si rozhovor.<br>\\nJaromír Marek</p>', since=datetime.datetime(2022, 10, 21, 13, 16, tzinfo=tzoffset(None, 7200)), till=datetime.datetime(2022, 10, 21, 13, 18, 25, tzinfo=tzoffset(None, 7200)), updated=datetime.datetime(2022, 10, 21, 15, 0, 21, tzinfo=tzoffset(None, 7200)), part=None, title_mirrored='Rozhovory Radiožurnálu', content_creator='radiozurnal', content_id='10445358', base_id=None),\n",
       " Episode(uuid='faef4635-d9e7-35b8-9da6-c57286dd83d8', title='Ze zrádce opět hrdinou. Soud po více než půl století očistil jméno generála Jana Syrového', title_short='Ze zrádce opět hrdinou. Soud po více než půl století očistil jméno generála Jana Syrového', description='<p>Legionář Jan Syrový byl v prvorepublikovém Československu vnímán jako národní hrdina. Po válce byl ovšem odsouzen jako zrádce a kolaborant. Až teď soudy uznaly, že nespravedlivě. K úplnému očištění jeho jména dochází 52 let po jeho smrti. Armádní hodnost i všechna československá vojenská vyznamenání mu ve čtvrtek posmrtně znovu přidělila ministryně obrany Jana Černochová.<br>\\nVěra Štechrová</p>', since=datetime.datetime(2022, 10, 21, 16, 35, tzinfo=tzoffset(None, 7200)), till=datetime.datetime(2022, 10, 21, 16, 41, 28, tzinfo=tzoffset(None, 7200)), updated=datetime.datetime(2022, 10, 21, 20, 0, 31, tzinfo=tzoffset(None, 7200)), part=None, title_mirrored='Rozhovory Radiožurnálu', content_creator='radiozurnal', content_id='10446207', base_id=None)]"
      ]
     },
     "execution_count": 11,
     "metadata": {},
     "output_type": "execute_result"
    }
   ],
   "source": [
    "list(episodes)[:3]"
   ]
  },
  {
   "cell_type": "code",
   "execution_count": 12,
   "id": "8bd6e34b",
   "metadata": {
    "execution": {
     "iopub.execute_input": "2023-10-15T20:23:31.766608Z",
     "iopub.status.busy": "2023-10-15T20:23:31.766360Z",
     "iopub.status.idle": "2023-10-15T20:23:31.778032Z",
     "shell.execute_reply": "2023-10-15T20:23:31.777411Z"
    }
   },
   "outputs": [],
   "source": [
    "episodes = cl.show_episodes_filter(\n",
    "    \"739a46c7-35e3-336e-a7d5-08a20b7e7677\",\n",
    "    \"2022-08-11\",\n",
    "    \"2023-09-11\",\n",
    ")"
   ]
  },
  {
   "cell_type": "code",
   "execution_count": 13,
   "id": "034bc0a8",
   "metadata": {
    "execution": {
     "iopub.execute_input": "2023-10-15T20:23:31.781126Z",
     "iopub.status.busy": "2023-10-15T20:23:31.780909Z",
     "iopub.status.idle": "2023-10-15T20:23:31.838432Z",
     "shell.execute_reply": "2023-10-15T20:23:31.837762Z"
    }
   },
   "outputs": [
    {
     "data": {
      "text/plain": [
       "[Episode(uuid='ca15ae46-896e-37ba-87f3-65fa42af1bff', title='Královna dokázala dát každému pocit, že je zajímavý. Karel III. bude změna, ale kontinuita, myslí si britský velvyslanec', title_short='Karel III. bude změna, ale kontinuita, myslí si britský velvyslanec', description='<p>Londýn se chystá na pondělní pohřeb britské královny Alžběty II. Podle velvyslance Spojeného království v Praze Nicka Archera byla Alžběta II. pro Brity konstantou a pevným bodem ve světě, který se rychle a výrazně měnil. Nick Archer má ke královské rodině a zvláště k novému králi Karlu III. blízko, několik let by totiž asistentem princova osobního tajemníka. O změnách, které nyní monarchii čekají, si s ním povídal vedoucí zahraniční redakce Českého rozhlasu Filip Nerad.<br>\\nFilip Nerad</p>', since=datetime.datetime(2022, 9, 15, 16, 11, tzinfo=tzoffset(None, 7200)), till=datetime.datetime(2022, 9, 15, 16, 24, 58, tzinfo=tzoffset(None, 7200)), updated=datetime.datetime(2022, 9, 21, 14, 30, 32, tzinfo=tzoffset(None, 7200)), part=None, title_mirrored='Rozhovory Radiožurnálu', content_creator='radiozurnal', content_id='10393035', base_id=None),\n",
       " Episode(uuid='6c7778f7-c529-38f8-8054-71763f9fb542', title='Putin vyhlásil částečnou mobilizaci. „Je si vědom, jak se jí národ obává,“ myslí si komentátor', title_short='Putin vyhlásil částečnou mobilizaci. „Je si vědom, jak se jí národ obává,“ myslí si komentátor', description='<p>Ruský prezident ve svém středečním projevu vyhlásil v zemi částečnou mobilizaci. V televizním vystoupení uvedl, že je to na obranu před Západem, který se snaží oslabit, rozdělit a zničit Rusko. Okupační vedení ukrajinské Doněcké, Luhanské, Záporožské a Chersonské oblasti pak narychlo ohlásila konání referend o připojení k Rusku. Hlasování má začít už v pátek a bude trvat do úterý. Podle ukrajinského vedení jsou tato rozhodnutí důkazem, že Kremlu nevychází jeho válečné plány.<br>\\nLibor Dvořák, Petr Král</p>', since=datetime.datetime(2022, 9, 21, 10, 2, tzinfo=tzoffset(None, 7200)), till=datetime.datetime(2022, 9, 21, 10, 5, 29, tzinfo=tzoffset(None, 7200)), updated=datetime.datetime(2022, 9, 21, 10, 40, 21, tzinfo=tzoffset(None, 7200)), part=None, title_mirrored='Rozhovory Radiožurnálu', content_creator='radiozurnal', content_id='10400352', base_id=None),\n",
       " Episode(uuid='8b10e8d2-4c7d-3706-a078-f6bbffa4f51c', title='Ruští občané musejí vládě říct: Jsme proti válce, zastavte to! vyzývá starosta Kyjeva Vitalij Kličko', title_short='Ruští občané musejí vládě říct: Jsme proti válce, zastavte to! vyzývá starosta Kyjeva Vitalij Kličko', description='<p>Na pražský Summit Paktu svobodných měst dorazil i starosta Kyjeva Vitalij Kličko. „Chceme být na stejné straně evropské rodiny, jako jste vy,“ říká. Přijel podle svých slov také poděkovat za českou pomoc Ukrajině a inspirovat se&nbsp;proměnou České republiky&nbsp;po roce 1989. Jaká je současná situace ve městech na Ukrajině? A co si Kličko myslí o přijímání ruských uprchlíků před mobilizací? Poslechněte si celý rozhovor.<br>\\nAnna Košlerová</p>', since=datetime.datetime(2022, 9, 27, 11, 9, tzinfo=tzoffset(None, 7200)), till=datetime.datetime(2022, 9, 27, 11, 23, 45, tzinfo=tzoffset(None, 7200)), updated=datetime.datetime(2022, 9, 28, 21, 20, 12, tzinfo=tzoffset(None, 7200)), part=None, title_mirrored='Rozhovory Radiožurnálu', content_creator='radiozurnal', content_id='10411494', base_id=None)]"
      ]
     },
     "execution_count": 13,
     "metadata": {},
     "output_type": "execute_result"
    }
   ],
   "source": [
    "list(episodes)[:3]"
   ]
  },
  {
   "cell_type": "code",
   "execution_count": 14,
   "id": "cf6b8479",
   "metadata": {
    "execution": {
     "iopub.execute_input": "2023-10-15T20:23:31.841142Z",
     "iopub.status.busy": "2023-10-15T20:23:31.840684Z",
     "iopub.status.idle": "2023-10-15T20:23:31.850065Z",
     "shell.execute_reply": "2023-10-15T20:23:31.849498Z"
    }
   },
   "outputs": [],
   "source": [
    "eps_schedule = cl.get_schedule(\"2023-09-17\", \"2023-09-18\")"
   ]
  },
  {
   "cell_type": "code",
   "execution_count": 15,
   "id": "529fda0c",
   "metadata": {
    "execution": {
     "iopub.execute_input": "2023-10-15T20:23:31.852927Z",
     "iopub.status.busy": "2023-10-15T20:23:31.852739Z",
     "iopub.status.idle": "2023-10-15T20:23:32.002372Z",
     "shell.execute_reply": "2023-10-15T20:23:32.000090Z"
    }
   },
   "outputs": [
    {
     "data": {
      "text/plain": [
       "[]"
      ]
     },
     "execution_count": 15,
     "metadata": {},
     "output_type": "execute_result"
    }
   ],
   "source": [
    "list(eps_schedule)[:3]"
   ]
  },
  {
   "cell_type": "code",
   "execution_count": 16,
   "id": "c0805677",
   "metadata": {
    "execution": {
     "iopub.execute_input": "2023-10-15T20:23:32.010432Z",
     "iopub.status.busy": "2023-10-15T20:23:32.009012Z",
     "iopub.status.idle": "2023-10-15T20:23:32.033290Z",
     "shell.execute_reply": "2023-10-15T20:23:32.031734Z"
    }
   },
   "outputs": [],
   "source": [
    "eps_schedule = cl.get_schedule(\"2023-09-17T8:00\", \"2023-09-17T9:00\")"
   ]
  },
  {
   "cell_type": "code",
   "execution_count": 17,
   "id": "2a30f5e8",
   "metadata": {
    "execution": {
     "iopub.execute_input": "2023-10-15T20:23:32.039932Z",
     "iopub.status.busy": "2023-10-15T20:23:32.039483Z",
     "iopub.status.idle": "2023-10-15T20:23:32.186643Z",
     "shell.execute_reply": "2023-10-15T20:23:32.185382Z"
    }
   },
   "outputs": [
    {
     "data": {
      "text/plain": [
       "[]"
      ]
     },
     "execution_count": 17,
     "metadata": {},
     "output_type": "execute_result"
    }
   ],
   "source": [
    "list(eps_schedule)[:3]"
   ]
  },
  {
   "cell_type": "markdown",
   "id": "51a7fcad",
   "metadata": {},
   "source": [
    "### Get schedule filter by date and station (slow)list(eps_schedule)[:3]"
   ]
  },
  {
   "cell_type": "code",
   "execution_count": 18,
   "id": "efbdf660",
   "metadata": {
    "execution": {
     "iopub.execute_input": "2023-10-15T20:23:32.191936Z",
     "iopub.status.busy": "2023-10-15T20:23:32.191032Z",
     "iopub.status.idle": "2023-10-15T20:23:32.208149Z",
     "shell.execute_reply": "2023-10-15T20:23:32.206925Z"
    }
   },
   "outputs": [],
   "source": [
    "eps_schedule = cl.get_schedule(\"2023-09-17T8:00\", \"2023-09-17T9:00\", \"11\")"
   ]
  },
  {
   "cell_type": "code",
   "execution_count": 19,
   "id": "9932789e",
   "metadata": {
    "execution": {
     "iopub.execute_input": "2023-10-15T20:23:32.212998Z",
     "iopub.status.busy": "2023-10-15T20:23:32.211967Z",
     "iopub.status.idle": "2023-10-15T20:23:32.362794Z",
     "shell.execute_reply": "2023-10-15T20:23:32.361014Z"
    }
   },
   "outputs": [
    {
     "data": {
      "text/plain": [
       "[]"
      ]
     },
     "execution_count": 19,
     "metadata": {},
     "output_type": "execute_result"
    }
   ],
   "source": [
    "list(eps_schedule)[:3]"
   ]
  },
  {
   "cell_type": "markdown",
   "id": "9b58b211",
   "metadata": {},
   "source": [
    "## Get show participants with role"
   ]
  },
  {
   "cell_type": "code",
   "execution_count": 20,
   "id": "a6e68a73",
   "metadata": {
    "execution": {
     "iopub.execute_input": "2023-10-15T20:23:32.370148Z",
     "iopub.status.busy": "2023-10-15T20:23:32.369536Z",
     "iopub.status.idle": "2023-10-15T20:23:32.396364Z",
     "shell.execute_reply": "2023-10-15T20:23:32.395163Z"
    }
   },
   "outputs": [],
   "source": [
    "participants = cl.get_show_participants_with_roles(\n",
    "    \"c7374f41-ae14-3b5c-8c04-385e3241deb4\"\n",
    ")"
   ]
  },
  {
   "cell_type": "code",
   "execution_count": 21,
   "id": "afa9dfe9",
   "metadata": {
    "execution": {
     "iopub.execute_input": "2023-10-15T20:23:32.401901Z",
     "iopub.status.busy": "2023-10-15T20:23:32.401547Z",
     "iopub.status.idle": "2023-10-15T20:23:32.700985Z",
     "shell.execute_reply": "2023-10-15T20:23:32.699513Z"
    }
   },
   "outputs": [
    {
     "data": {
      "text/plain": [
       "[Person(uuid='4bb6cd4a-a5e8-3e48-a36e-06d7ac7e4f0f', title='Jiří Chum', description_short='<p>Moderuje každý všední den Dopolední Radiožurnál.</p>', description='<p><strong>Co dělám v rozhlase:</strong></p>\\n\\n<p><span>Na Radiožurnálu moderuji od roku 2002, od března 2008 do prosince 2010 Odpolední Radiožurnál a od ledna 2011\\xa0</span>Večerní Radiožurnál<span>\\xa0a ob týden\\xa0</span>Víkendový Ranní Radiožurnál<span>. Deset let jsem moderoval každý všední den Ranní Radiožurnál a od 1. července 2022 usedám za mikrofon Dopoledního Radiožurnálu. Ještě déle spolupracuji s regionální stanicí ČRo Region střední Čechy. V současnosti ale už jen v oblasti selfpromotion.</span></p>\\n\\n<p><strong>Před rozhlasem:</strong><br />\\nVystudoval jsem SSPoŠ Kolín se zaměřením na ekonomiku a management, poté si dal na pár let pauzu a v současnosti studuji Fakultu multimediálních komunikaci UTB ve Zlíně obor Marketingové komunikace. Z rádiové praxe: rádio City 937 a dlouhá léta Český rozhlas, kterému jsem nakonec zůstal věrný.</p>\\n\\n<p><strong></strong></p>\\n\\n', profile_id='5002938', role='moderator', participation_link='https://api.mujrozhlas.cz/persons/4bb6cd4a-a5e8-3e48-a36e-06d7ac7e4f0f/participation', participation_data=[{'type': 'station', 'id': '4082f63f-30e8-375d-a326-b32cf7d86e02', 'meta': {'role': 'Moderátoři'}}])]"
      ]
     },
     "execution_count": 21,
     "metadata": {},
     "output_type": "execute_result"
    }
   ],
   "source": [
    "list(participants)"
   ]
  },
  {
   "cell_type": "markdown",
   "id": "61205094",
   "metadata": {},
   "source": [
    "## Get show moderators"
   ]
  },
  {
   "cell_type": "code",
   "execution_count": 22,
   "id": "c7c885da",
   "metadata": {
    "execution": {
     "iopub.execute_input": "2023-10-15T20:23:32.706764Z",
     "iopub.status.busy": "2023-10-15T20:23:32.705933Z",
     "iopub.status.idle": "2023-10-15T20:23:32.726591Z",
     "shell.execute_reply": "2023-10-15T20:23:32.725312Z"
    }
   },
   "outputs": [],
   "source": [
    "moderators = cl.get_show_moderators(\"c7374f41-ae14-3b5c-8c04-385e3241deb4\")"
   ]
  },
  {
   "cell_type": "code",
   "execution_count": 23,
   "id": "2a6437e1",
   "metadata": {
    "execution": {
     "iopub.execute_input": "2023-10-15T20:23:32.732148Z",
     "iopub.status.busy": "2023-10-15T20:23:32.731222Z",
     "iopub.status.idle": "2023-10-15T20:23:32.914233Z",
     "shell.execute_reply": "2023-10-15T20:23:32.912167Z"
    }
   },
   "outputs": [],
   "source": [
    "mls = list(moderators)"
   ]
  },
  {
   "cell_type": "code",
   "execution_count": 24,
   "id": "85ca89b2",
   "metadata": {
    "execution": {
     "iopub.execute_input": "2023-10-15T20:23:32.922986Z",
     "iopub.status.busy": "2023-10-15T20:23:32.921402Z",
     "iopub.status.idle": "2023-10-15T20:23:32.950285Z",
     "shell.execute_reply": "2023-10-15T20:23:32.948993Z"
    }
   },
   "outputs": [
    {
     "name": "stdout",
     "output_type": "stream",
     "text": [
      "{\n",
      "  \"uuid\": \"4bb6cd4a-a5e8-3e48-a36e-06d7ac7e4f0f\",\n",
      "  \"title\": \"Jiří Chum\",\n",
      "  \"description_short\": \"<p>Moderuje každý všední den Dopolední Radiožurnál.</p>\",\n",
      "  \"description\": \"<p><strong>Co dělám v rozhlase:</strong></p>\\n\\n<p><span>Na Radiožurnálu moderuji od roku 2002, od března 2008 do prosince 2010 Odpolední Radiožurnál a od ledna 2011 </span>Večerní Radiožurnál<span> a ob týden </span>Víkendový Ranní Radiožurnál<span>. Deset let jsem moderoval každý všední den Ranní Radiožurnál a od 1. července 2022 usedám za mikrofon Dopoledního Radiožurnálu. Ještě déle spolupracuji s regionální stanicí ČRo Region střední Čechy. V současnosti ale už jen v oblasti selfpromotion.</span></p>\\n\\n<p><strong>Před rozhlasem:</strong><br />\\nVystudoval jsem SSPoŠ Kolín se zaměřením na ekonomiku a management, poté si dal na pár let pauzu a v současnosti studuji Fakultu multimediálních komunikaci UTB ve Zlíně obor Marketingové komunikace. Z rádiové praxe: rádio City 937 a dlouhá léta Český rozhlas, kterému jsem nakonec zůstal věrný.</p>\\n\\n<p><strong></strong></p>\\n\\n\",\n",
      "  \"profile_id\": \"5002938\",\n",
      "  \"role\": \"moderator\",\n",
      "  \"participation_link\": \"https://api.mujrozhlas.cz/persons/4bb6cd4a-a5e8-3e48-a36e-06d7ac7e4f0f/participation\",\n",
      "  \"participation_data\": [\n",
      "    {\n",
      "      \"type\": \"station\",\n",
      "      \"id\": \"4082f63f-30e8-375d-a326-b32cf7d86e02\",\n",
      "      \"meta\": {\n",
      "        \"role\": \"Moderátoři\"\n",
      "      }\n",
      "    }\n",
      "  ]\n",
      "}\n"
     ]
    }
   ],
   "source": [
    "print(mls[0])"
   ]
  },
  {
   "cell_type": "markdown",
   "id": "3f81bf61",
   "metadata": {},
   "source": [
    "## Get station schedule day"
   ]
  },
  {
   "cell_type": "markdown",
   "id": "0c6286b2",
   "metadata": {},
   "source": [
    "### Get station schedule day flat"
   ]
  },
  {
   "cell_type": "code",
   "execution_count": 25,
   "id": "3fe44be4",
   "metadata": {
    "execution": {
     "iopub.execute_input": "2023-10-15T20:23:32.955252Z",
     "iopub.status.busy": "2023-10-15T20:23:32.954834Z",
     "iopub.status.idle": "2023-10-15T20:23:32.970509Z",
     "shell.execute_reply": "2023-10-15T20:23:32.969514Z"
    }
   },
   "outputs": [],
   "source": [
    "day_schedule = cl.get_station_schedule_day_flat(\"2023-09-11\", \"11\")"
   ]
  },
  {
   "cell_type": "code",
   "execution_count": 26,
   "id": "c6d93120",
   "metadata": {
    "execution": {
     "iopub.execute_input": "2023-10-15T20:23:32.975327Z",
     "iopub.status.busy": "2023-10-15T20:23:32.974782Z",
     "iopub.status.idle": "2023-10-15T20:23:33.396105Z",
     "shell.execute_reply": "2023-10-15T20:23:33.395430Z"
    }
   },
   "outputs": [
    {
     "data": {
      "text/plain": [
       "[Episode_schedule(uuid='b76f6685-02dd-33ee-9bd8-5fcb5c19ba80', title='Zpravodajství z Česka i ze světa', description='Sport, Zelená vlna a předpověď počasí. O dopravní situaci informujte na bezplatné lince 800 553 553.', station='4082f63f-30e8-375d-a326-b32cf7d86e02', station_code=1, show_priority=0, show_times=None, since=datetime.datetime(2023, 9, 11, 0, 0, tzinfo=tzoffset(None, 7200)), till=datetime.datetime(2023, 9, 11, 0, 9, tzinfo=tzoffset(None, 7200))),\n",
       " Episode_schedule(uuid='b9973c2e-f6af-36ec-a281-0c0768c136c7', title='Informace o dopravní situaci volejte na bezplatnou linku 800 553 553.', description='', station='4082f63f-30e8-375d-a326-b32cf7d86e02', station_code=1, show_priority=0, show_times=None, since=datetime.datetime(2023, 9, 11, 0, 9, tzinfo=tzoffset(None, 7200)), till=datetime.datetime(2023, 9, 11, 0, 10, tzinfo=tzoffset(None, 7200))),\n",
       " Episode_schedule(uuid='003317bc-331d-3905-a318-62a1008bddc4', title='Aktuální reportáže a nejrychlejší zpravodajství', description='Moderuje Adam Carda a Jiří Štefl.', station='4082f63f-30e8-375d-a326-b32cf7d86e02', station_code=1, show_priority=0, show_times=None, since=datetime.datetime(2023, 9, 11, 0, 10, tzinfo=tzoffset(None, 7200)), till=datetime.datetime(2023, 9, 11, 0, 30, tzinfo=tzoffset(None, 7200)))]"
      ]
     },
     "execution_count": 26,
     "metadata": {},
     "output_type": "execute_result"
    }
   ],
   "source": [
    "list(day_schedule)[:3]"
   ]
  },
  {
   "cell_type": "markdown",
   "id": "c1cc5d6c",
   "metadata": {},
   "source": [
    "### Get station schedule day"
   ]
  },
  {
   "cell_type": "code",
   "execution_count": 27,
   "id": "1eda235f",
   "metadata": {
    "execution": {
     "iopub.execute_input": "2023-10-15T20:23:33.399335Z",
     "iopub.status.busy": "2023-10-15T20:23:33.398892Z",
     "iopub.status.idle": "2023-10-15T20:23:33.409816Z",
     "shell.execute_reply": "2023-10-15T20:23:33.409275Z"
    }
   },
   "outputs": [],
   "source": [
    "data = cl.get_station_schedule_day(\"2023-09-11\", \"11\")"
   ]
  },
  {
   "cell_type": "code",
   "execution_count": 28,
   "id": "0867d04c",
   "metadata": {
    "execution": {
     "iopub.execute_input": "2023-10-15T20:23:33.412732Z",
     "iopub.status.busy": "2023-10-15T20:23:33.412466Z",
     "iopub.status.idle": "2023-10-15T20:23:33.739071Z",
     "shell.execute_reply": "2023-10-15T20:23:33.738465Z"
    }
   },
   "outputs": [],
   "source": [
    "ldata = list(data)"
   ]
  },
  {
   "cell_type": "code",
   "execution_count": 29,
   "id": "e5eb1fc0",
   "metadata": {
    "execution": {
     "iopub.execute_input": "2023-10-15T20:23:33.741513Z",
     "iopub.status.busy": "2023-10-15T20:23:33.741277Z",
     "iopub.status.idle": "2023-10-15T20:23:33.753084Z",
     "shell.execute_reply": "2023-10-15T20:23:33.752334Z"
    }
   },
   "outputs": [
    {
     "data": {
      "text/plain": [
       "[Episode_schedule(uuid='b76f6685-02dd-33ee-9bd8-5fcb5c19ba80', title='Zpravodajství z Česka i ze světa', description='Sport, Zelená vlna a předpověď počasí. O dopravní situaci informujte na bezplatné lince 800 553 553.', station='4082f63f-30e8-375d-a326-b32cf7d86e02', station_code=1, show_priority=0, show_times=None, since=datetime.datetime(2023, 9, 11, 0, 0, tzinfo=tzoffset(None, 7200)), till=datetime.datetime(2023, 9, 11, 0, 9, tzinfo=tzoffset(None, 7200))),\n",
       " Episode_schedule(uuid='b9973c2e-f6af-36ec-a281-0c0768c136c7', title='Informace o dopravní situaci volejte na bezplatnou linku 800 553 553.', description='', station='4082f63f-30e8-375d-a326-b32cf7d86e02', station_code=1, show_priority=0, show_times=None, since=datetime.datetime(2023, 9, 11, 0, 9, tzinfo=tzoffset(None, 7200)), till=datetime.datetime(2023, 9, 11, 0, 10, tzinfo=tzoffset(None, 7200))),\n",
       " Episode_schedule(uuid='003317bc-331d-3905-a318-62a1008bddc4', title='Aktuální reportáže a nejrychlejší zpravodajství', description='Moderuje Adam Carda a Jiří Štefl.', station='4082f63f-30e8-375d-a326-b32cf7d86e02', station_code=1, show_priority=0, show_times=None, since=datetime.datetime(2023, 9, 11, 0, 10, tzinfo=tzoffset(None, 7200)), till=datetime.datetime(2023, 9, 11, 1, 0, tzinfo=tzoffset(None, 7200)))]"
      ]
     },
     "execution_count": 29,
     "metadata": {},
     "output_type": "execute_result"
    }
   ],
   "source": [
    "ldata[:3]"
   ]
  },
  {
   "cell_type": "code",
   "execution_count": 30,
   "id": "20bff52e",
   "metadata": {
    "execution": {
     "iopub.execute_input": "2023-10-15T20:23:33.756123Z",
     "iopub.status.busy": "2023-10-15T20:23:33.755879Z",
     "iopub.status.idle": "2023-10-15T20:23:33.769746Z",
     "shell.execute_reply": "2023-10-15T20:23:33.769062Z"
    }
   },
   "outputs": [
    {
     "data": {
      "text/plain": [
       "Episode_schedule(uuid='b9973c2e-f6af-36ec-a281-0c0768c136c7', title='Informace o dopravní situaci volejte na bezplatnou linku 800 553 553.', description='', station='4082f63f-30e8-375d-a326-b32cf7d86e02', station_code=1, show_priority=0, show_times=None, since=datetime.datetime(2023, 9, 11, 0, 9, tzinfo=tzoffset(None, 7200)), till=datetime.datetime(2023, 9, 11, 0, 10, tzinfo=tzoffset(None, 7200)))"
      ]
     },
     "execution_count": 30,
     "metadata": {},
     "output_type": "execute_result"
    }
   ],
   "source": [
    "ldata[1]"
   ]
  },
  {
   "cell_type": "code",
   "execution_count": 31,
   "id": "b71fd176",
   "metadata": {
    "execution": {
     "iopub.execute_input": "2023-10-15T20:23:33.772683Z",
     "iopub.status.busy": "2023-10-15T20:23:33.772240Z",
     "iopub.status.idle": "2023-10-15T20:23:33.781685Z",
     "shell.execute_reply": "2023-10-15T20:23:33.780846Z"
    }
   },
   "outputs": [
    {
     "name": "stdout",
     "output_type": "stream",
     "text": [
      "{\n",
      "  \"uuid\": \"b9973c2e-f6af-36ec-a281-0c0768c136c7\",\n",
      "  \"title\": \"Informace o dopravní situaci volejte na bezplatnou linku 800 553 553.\",\n",
      "  \"description\": \"\",\n",
      "  \"station\": \"4082f63f-30e8-375d-a326-b32cf7d86e02\",\n",
      "  \"station_code\": 1,\n",
      "  \"show_priority\": 0,\n",
      "  \"show_times\": null,\n",
      "  \"since\": \"2023-09-11T00:09:00+02:00\",\n",
      "  \"till\": \"2023-09-11T00:10:00+02:00\"\n",
      "}\n"
     ]
    }
   ],
   "source": [
    "print(ldata[1])"
   ]
  },
  {
   "cell_type": "code",
   "execution_count": null,
   "id": "fabcb46a",
   "metadata": {},
   "outputs": [],
   "source": []
  }
 ],
 "metadata": {
  "jupytext": {
   "formats": "ipynb,py:percent"
  },
  "kernelspec": {
   "display_name": "Python 3 (ipykernel)",
   "language": "python",
   "name": "python3"
  },
  "language_info": {
   "codemirror_mode": {
    "name": "ipython",
    "version": 3
   },
   "file_extension": ".py",
   "mimetype": "text/x-python",
   "name": "python",
   "nbconvert_exporter": "python",
   "pygments_lexer": "ipython3",
   "version": "3.11.5"
  }
 },
 "nbformat": 4,
 "nbformat_minor": 5
}
