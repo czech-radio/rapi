{
 "cells": [
  {
   "cell_type": "markdown",
   "id": "9bb8e543",
   "metadata": {},
   "source": [
    "# Library Showcase"
   ]
  },
  {
   "cell_type": "markdown",
   "id": "f20e40ec",
   "metadata": {},
   "source": [
    "FIXME: Add some description"
   ]
  },
  {
   "cell_type": "code",
   "execution_count": 1,
   "id": "832f7ce5",
   "metadata": {
    "execution": {
     "iopub.execute_input": "2023-10-23T19:00:16.439913Z",
     "iopub.status.busy": "2023-10-23T19:00:16.438156Z",
     "iopub.status.idle": "2023-10-23T19:00:16.468594Z",
     "shell.execute_reply": "2023-10-23T19:00:16.467799Z"
    }
   },
   "outputs": [],
   "source": [
    "%reload_ext autoreload\n",
    "%autoreload 2"
   ]
  },
  {
   "cell_type": "code",
   "execution_count": 2,
   "id": "a2cf35b0",
   "metadata": {
    "execution": {
     "iopub.execute_input": "2023-10-23T19:00:16.471767Z",
     "iopub.status.busy": "2023-10-23T19:00:16.471511Z",
     "iopub.status.idle": "2023-10-23T19:00:16.524596Z",
     "shell.execute_reply": "2023-10-23T19:00:16.523952Z"
    }
   },
   "outputs": [],
   "source": [
    "from rapi import Client"
   ]
  },
  {
   "cell_type": "code",
   "execution_count": 3,
   "id": "d46973fb",
   "metadata": {
    "execution": {
     "iopub.execute_input": "2023-10-23T19:00:16.527275Z",
     "iopub.status.busy": "2023-10-23T19:00:16.527050Z",
     "iopub.status.idle": "2023-10-23T19:00:16.539720Z",
     "shell.execute_reply": "2023-10-23T19:00:16.539048Z"
    }
   },
   "outputs": [],
   "source": [
    "cl = Client()"
   ]
  },
  {
   "cell_type": "markdown",
   "id": "041281a8",
   "metadata": {},
   "source": [
    "## Get all available stations"
   ]
  },
  {
   "cell_type": "code",
   "execution_count": 4,
   "id": "5f3f627b",
   "metadata": {
    "execution": {
     "iopub.execute_input": "2023-10-23T19:00:16.542489Z",
     "iopub.status.busy": "2023-10-23T19:00:16.542268Z",
     "iopub.status.idle": "2023-10-23T19:00:16.628455Z",
     "shell.execute_reply": "2023-10-23T19:00:16.627778Z"
    }
   },
   "outputs": [
    {
     "data": {
      "text/plain": [
       "27"
      ]
     },
     "execution_count": 4,
     "metadata": {},
     "output_type": "execute_result"
    }
   ],
   "source": [
    "stations = cl.get_stations()\n",
    "len(list(stations))"
   ]
  },
  {
   "cell_type": "markdown",
   "id": "27ba5a25",
   "metadata": {},
   "source": [
    "## Get all shows for given station"
   ]
  },
  {
   "cell_type": "code",
   "execution_count": 5,
   "id": "cc16ba4b",
   "metadata": {
    "execution": {
     "iopub.execute_input": "2023-10-23T19:00:16.631104Z",
     "iopub.status.busy": "2023-10-23T19:00:16.630871Z",
     "iopub.status.idle": "2023-10-23T19:00:16.642854Z",
     "shell.execute_reply": "2023-10-23T19:00:16.642219Z"
    }
   },
   "outputs": [],
   "source": [
    "shows = cl.get_station_shows(\"11\")"
   ]
  },
  {
   "cell_type": "code",
   "execution_count": 6,
   "id": "a2d646eb",
   "metadata": {
    "execution": {
     "iopub.execute_input": "2023-10-23T19:00:16.645381Z",
     "iopub.status.busy": "2023-10-23T19:00:16.645142Z",
     "iopub.status.idle": "2023-10-23T19:00:16.678052Z",
     "shell.execute_reply": "2023-10-23T19:00:16.677382Z"
    }
   },
   "outputs": [
    {
     "data": {
      "text/plain": [
       "[Show(uuid='c239aa59-bc78-3180-9b58-5c911846630d', type='show', content=True, title='100 statečných', active=False, aired=False, podcast=False, priority=0, child_friendly=False, description='100 hostů, 52 hodin a dva zkušení moderátoři.', description_short='100 hostů, 52 hodin a dva zkušení moderátoři.', updated=datetime.datetime(2021, 3, 20, 23, 30, 9, tzinfo=tzoffset(None, 3600))),\n",
       " Show(uuid='af62bd59-1e49-3dae-a68b-90b11f5d2ae6', type='show', content=True, title='90 statečných', active=False, aired=False, podcast=False, priority=0, child_friendly=False, description='Dokázali jsme to a vytvořili jsme nový rekord v rozhlasovém moderování!', description_short='Dokázali jsme to a vytvořili jsme nový rekord v rozhlasovém moderování!', updated=datetime.datetime(2021, 3, 20, 23, 30, 9, tzinfo=tzoffset(None, 3600))),\n",
       " Show(uuid='d88f0d67-6ba1-3ba5-8fea-01e41a614037', type='show', content=True, title='Antivirus', active=True, aired=True, podcast=True, priority=0, child_friendly=False, description='Pořad o technologiích a bezpečnosti na internetu. Jan Cibulka a Jana Magdoňová se zaměří na nástrahy on-line světa. Budou mluvit o aktuálních kyberútocích a podvodech na internetu a přidají i tipy, jak chránit sebe i své děti nebo rodiče. Antivirus doplní články na zpravodajském webu iRozhlas.cz.', description_short='Pořad o technologiích a bezpečnosti na internetu. Jan Cibulka a Jana Magdoňová se zaměří na nástrahy on-line světa.\\xa0', updated=datetime.datetime(2023, 9, 4, 10, 0, 10, tzinfo=tzoffset(None, 7200)))]"
      ]
     },
     "execution_count": 6,
     "metadata": {},
     "output_type": "execute_result"
    }
   ],
   "source": [
    "list(shows)[:3]"
   ]
  },
  {
   "cell_type": "markdown",
   "id": "5cb3782c",
   "metadata": {},
   "source": [
    "## Get particular show by UUID"
   ]
  },
  {
   "cell_type": "code",
   "execution_count": 7,
   "id": "f7a4959b",
   "metadata": {
    "execution": {
     "iopub.execute_input": "2023-10-23T19:00:16.681077Z",
     "iopub.status.busy": "2023-10-23T19:00:16.680762Z",
     "iopub.status.idle": "2023-10-23T19:00:16.702983Z",
     "shell.execute_reply": "2023-10-23T19:00:16.701813Z"
    }
   },
   "outputs": [
    {
     "data": {
      "text/plain": [
       "Show(uuid='739a46c7-35e3-336e-a7d5-08a20b7e7677', type='show', content=True, title='Rozhovory Radiožurnálu', active=True, aired=True, podcast=False, priority=0, child_friendly=False, description='Ptáme se na všechno, co vás zajímá. Každý den se snažíme kontaktovat politiky, specialisty a odborníky z nejrůznějších profesí, abychom vám nabídli jejich názory a pohledy na nejaktuálnější témata.', description_short='Každý den se snažíme kontaktovat politiky, specialisty a odborníky z nejrůznějších profesí, abychom vám nabídli jejich názory a pohledy na nejaktuálnější témata.', updated=datetime.datetime(2023, 7, 14, 17, 0, 12, tzinfo=tzoffset(None, 7200)))"
      ]
     },
     "execution_count": 7,
     "metadata": {},
     "output_type": "execute_result"
    }
   ],
   "source": [
    "cl.get_show(\"739a46c7-35e3-336e-a7d5-08a20b7e7677\")"
   ]
  },
  {
   "cell_type": "markdown",
   "id": "ae8779de",
   "metadata": {},
   "source": [
    "## Get show episodes"
   ]
  },
  {
   "cell_type": "code",
   "execution_count": 8,
   "id": "3f5665f4",
   "metadata": {
    "execution": {
     "iopub.execute_input": "2023-10-23T19:00:16.707647Z",
     "iopub.status.busy": "2023-10-23T19:00:16.707341Z",
     "iopub.status.idle": "2023-10-23T19:00:16.719208Z",
     "shell.execute_reply": "2023-10-23T19:00:16.718491Z"
    }
   },
   "outputs": [],
   "source": [
    "episodes = cl.get_show_episodes(\"739a46c7-35e3-336e-a7d5-08a20b7e7677\")"
   ]
  },
  {
   "cell_type": "code",
   "execution_count": 9,
   "id": "e75429b7",
   "metadata": {
    "execution": {
     "iopub.execute_input": "2023-10-23T19:00:16.722287Z",
     "iopub.status.busy": "2023-10-23T19:00:16.722047Z",
     "iopub.status.idle": "2023-10-23T19:00:16.791973Z",
     "shell.execute_reply": "2023-10-23T19:00:16.791259Z"
    }
   },
   "outputs": [
    {
     "data": {
      "text/plain": [
       "[Episode(uuid='16df9e3d-b6e3-33af-994d-1aa1ccb4d25a', title='Pravidla musí platit pro všechny stejně, vylučuje hygienička Svrčinová možnost výjimky pro prezidenta', title_short='Pravidla platí pro všechny stejně, vylučuje hygienička Svrčinová možnost výjimky pro prezidenta', description='<p>Pražský hrad oznámil, že Miloš Zeman v neděli přijme Petra Fialu, aby ho jmenoval premiérem. Prezidentovi přitom ve čtvrtek vyšel pozitivní PCR test na koronavirus. Podle platných opatření by nyní u něj měla následovat dvoutýdenní karanténa. Jak by musela kancelář schůzku zorganizovat, aby proběhla z epidemiologického hlediska v pořádku?<br>\\nHanka Shánělová</p>', since=datetime.datetime(2021, 11, 26, 14, 14, tzinfo=tzoffset(None, 3600)), till=datetime.datetime(2021, 11, 26, 14, 17, 16, tzinfo=tzoffset(None, 3600)), updated=datetime.datetime(2021, 11, 26, 17, 0, 16, tzinfo=tzoffset(None, 3600)), part=None, title_mirrored='Rozhovory Radiožurnálu', content_creator='radiozurnal', content_id='10011355', base_id=None),\n",
       " Episode(uuid='a8c02e81-d2c1-355a-8ad5-97cf7a87cc47', title='EU se připravuje na omikron. Zakazuje vstup cizincům z jihoafrických zemí, přibližuje zpravodaj', title_short='EU se připravuje na omikron. Zakazuje vstup cizincům z jihoafrických zemí, přibližuje zpravodaj', description='<p>Evropská komise jedná s&nbsp;výrobci vakcín o dalším postupu kvůli výskytu nové varianty koronaviru omikron. Existuje riziko, že může být nakažlivější a potenciálně také rezistentnější než varianty předchozí. „Státy EU zakazují vstup na své území cizincům cestující ze zemí jihu Afriky a zavádějí zpřísněná opatření, například povinnou karanténu po návratu,“ říká bruselský zpravodaj Viktor Daněk s&nbsp;tím, že mezi takto postupující státy patří i Česko, Německo, Itálie, Belgie.<br>\\nJiří Chum, Viktor Daněk</p>', since=datetime.datetime(2021, 11, 27, 8, 20, tzinfo=tzoffset(None, 3600)), till=datetime.datetime(2021, 11, 27, 8, 22, 38, tzinfo=tzoffset(None, 3600)), updated=datetime.datetime(2021, 11, 27, 10, 20, 19, tzinfo=tzoffset(None, 3600)), part=None, title_mirrored='Rozhovory Radiožurnálu', content_creator='radiozurnal', content_id='10012081', base_id=None),\n",
       " Episode(uuid='fb7b67d5-8b7d-385a-91bd-e044000e5e1d', title='Varianta omikron má zhruba padesát mutací, rychle se šíří a moc toho o ní nevíme', title_short='Varianta omikron má zhruba padesát mutací, rychle se šíří a moc toho o ní nevíme', description='<p><span lang=\"cs-CZ\">Nová varianta koronaviru pojmenovaná omikron je potvrzená už i v Česku. Kvůli dosud nejvíc zmutované variantě koronaviru státy po celém světě opět omezují turismus (nejnověji Japonsko) a zavádějí karantény pro cestující ze zemí, kde se omikron objevil. Co vlastně ony mutace znamenají?</span><br>\\nMatěj Skalický</p>', since=datetime.datetime(2021, 11, 29, 10, 40, tzinfo=tzoffset(None, 3600)), till=datetime.datetime(2021, 11, 29, 10, 42, 30, tzinfo=tzoffset(None, 3600)), updated=datetime.datetime(2021, 11, 30, 19, 20, 19, tzinfo=tzoffset(None, 3600)), part=None, title_mirrored='Rozhovory Radiožurnálu', content_creator='radiozurnal', content_id='10013547', base_id=None)]"
      ]
     },
     "execution_count": 9,
     "metadata": {},
     "output_type": "execute_result"
    }
   ],
   "source": [
    "list(episodes)[:3]"
   ]
  },
  {
   "cell_type": "markdown",
   "id": "4e014971",
   "metadata": {},
   "source": [
    "## Filter show episodes by date"
   ]
  },
  {
   "cell_type": "code",
   "execution_count": 10,
   "id": "0b21c423",
   "metadata": {
    "execution": {
     "iopub.execute_input": "2023-10-23T19:00:16.795050Z",
     "iopub.status.busy": "2023-10-23T19:00:16.794768Z",
     "iopub.status.idle": "2023-10-23T19:00:16.803613Z",
     "shell.execute_reply": "2023-10-23T19:00:16.803077Z"
    }
   },
   "outputs": [],
   "source": [
    "episodes = cl.show_episodes_filter(\n",
    "    \"739a46c7-35e3-336e-a7d5-08a20b7e7677\", \"2022\", \"2023\"\n",
    ")"
   ]
  },
  {
   "cell_type": "code",
   "execution_count": 11,
   "id": "c01f3ca8",
   "metadata": {
    "execution": {
     "iopub.execute_input": "2023-10-23T19:00:16.806188Z",
     "iopub.status.busy": "2023-10-23T19:00:16.805941Z",
     "iopub.status.idle": "2023-10-23T19:00:16.882584Z",
     "shell.execute_reply": "2023-10-23T19:00:16.881694Z"
    }
   },
   "outputs": [
    {
     "data": {
      "text/plain": [
       "[Episode(uuid='f0d6f493-3f38-30c3-9b4c-51aef1bf9d3e', title='Jak se slavil 28. říjen? „Za první republiky byly oslavy mohutné a zároveň povinné,“ popisuje historička', title_short='Jak se slavil 28. říjen? „Za první republiky byly oslavy mohutné a povinné,“ popisuje historička', description='<p>Dnes si připomínáme výročí vzniku samostatného Československa. Oslavy 28. října měly v&nbsp;průběhu historie našeho státu různé podoby v závislosti na střídání politických režimů. Historici z nich vyčtou cenné informace o tehdejší společnosti.&nbsp;Jak se k svátku stavěly národnostní menšiny?&nbsp;„V roce 1928 například Maďaři říkali, že je to jejich den smutku,“ popisuje v rozhovoru Dagmar Hájková.<br>\\nPetr Král</p>', since=datetime.datetime(2022, 10, 28, 10, 3, tzinfo=tzoffset(None, 7200)), till=datetime.datetime(2022, 10, 28, 10, 8, 46, tzinfo=tzoffset(None, 7200)), updated=datetime.datetime(2022, 10, 28, 11, 0, 29, tzinfo=tzoffset(None, 7200)), part=None, title_mirrored='Rozhovory Radiožurnálu', content_creator='radiozurnal', content_id='10454157', base_id=None),\n",
       " Episode(uuid='c952bac2-6662-3e61-90f2-9171c617dd24', title='Ještě je čas na záchrannou brzdu, říká člen NERV o návrhu úspor ve státním rozpočtu', title_short='Ještě je čas na záchrannou brzdu, říká člen NERV o návrhu úspor ve státním rozpočtu', description='<p>Součet&nbsp;schodku státního rozpočtu se za poslední tři roky vyšplhal na bilion korun a příští rok&nbsp;naroste o dalších 295 miliard.&nbsp;Národní ekonomická rada vlády (NERV) proto kabinetu Petra Fialy ve středu předložila návrhy opatření, která by měla vést&nbsp;k dlouhodobému zlepšení hospodaření státu.&nbsp;Co by hrozilo, pokud by se státní dluh dál zvyšoval podobným tempem? A v čem podle členů NERV dělá stát hlavní chyby?<br>\\nVěra Štechrová</p>', since=datetime.datetime(2022, 11, 3, 10, 52, tzinfo=tzoffset(None, 3600)), till=datetime.datetime(2022, 11, 3, 10, 58, 50, tzinfo=tzoffset(None, 3600)), updated=datetime.datetime(2022, 11, 4, 22, 0, 19, tzinfo=tzoffset(None, 3600)), part=None, title_mirrored='Rozhovory Radiožurnálu', content_creator='radiozurnal', content_id='10462509', base_id=None),\n",
       " Episode(uuid='f795186d-1748-354d-af6b-177fe7b068e0', title='V Rokytnici jsou stovky lidí bez dodávek tepla, hrozí přerušení výuky. Vyřeší se spor města s dodavatelem?', title_short='Část Rokytnice je bez dodávek tepla, hrozí přerušení výuky. Vyřeší se spor města s dodavatelem?', description='<p>Část domácností v Rokytnici v Orlických horách je už druhý den bez tepla a teplé vody. Dodavatel jim včera ráno kvůli dlouhodobým neshodám ohledně účtované ceny přerušil dodávky. Jde o stovky lidí v domácnostech na několika sídlištích. Kromě nich je ale od tepla odpojený taky dům s pečovatelskou službou nebo základní škola, kde hrozí přerušení výuky. Společnost Ekoenergy Moravia ten krok odůvodnila tím, že aktuálně na dodávky tepla nemá dostatek peněz.<br>\\nAnna Horáčková, Vojtěch Bidrman</p>', since=datetime.datetime(2022, 11, 6, 8, 40, tzinfo=tzoffset(None, 3600)), till=datetime.datetime(2022, 11, 6, 8, 42, 54, tzinfo=tzoffset(None, 3600)), updated=datetime.datetime(2022, 11, 6, 9, 0, 24, tzinfo=tzoffset(None, 3600)), part=None, title_mirrored='Rozhovory Radiožurnálu', content_creator='radiozurnal', content_id='10465998', base_id=None)]"
      ]
     },
     "execution_count": 11,
     "metadata": {},
     "output_type": "execute_result"
    }
   ],
   "source": [
    "list(episodes)[:3]"
   ]
  },
  {
   "cell_type": "code",
   "execution_count": 12,
   "id": "78fb7076",
   "metadata": {
    "execution": {
     "iopub.execute_input": "2023-10-23T19:00:16.886297Z",
     "iopub.status.busy": "2023-10-23T19:00:16.885952Z",
     "iopub.status.idle": "2023-10-23T19:00:16.898903Z",
     "shell.execute_reply": "2023-10-23T19:00:16.898077Z"
    }
   },
   "outputs": [],
   "source": [
    "episodes = cl.show_episodes_filter(\n",
    "    \"739a46c7-35e3-336e-a7d5-08a20b7e7677\",\n",
    "    \"2022-08-11\",\n",
    "    \"2023-09-11\",\n",
    ")"
   ]
  },
  {
   "cell_type": "code",
   "execution_count": 13,
   "id": "30fd5e44",
   "metadata": {
    "execution": {
     "iopub.execute_input": "2023-10-23T19:00:16.902064Z",
     "iopub.status.busy": "2023-10-23T19:00:16.901742Z",
     "iopub.status.idle": "2023-10-23T19:00:16.970489Z",
     "shell.execute_reply": "2023-10-23T19:00:16.969947Z"
    }
   },
   "outputs": [
    {
     "data": {
      "text/plain": [
       "[Episode(uuid='ca15ae46-896e-37ba-87f3-65fa42af1bff', title='Královna dokázala dát každému pocit, že je zajímavý. Karel III. bude změna, ale kontinuita, myslí si britský velvyslanec', title_short='Karel III. bude změna, ale kontinuita, myslí si britský velvyslanec', description='<p>Londýn se chystá na pondělní pohřeb britské královny Alžběty II. Podle velvyslance Spojeného království v Praze Nicka Archera byla Alžběta II. pro Brity konstantou a pevným bodem ve světě, který se rychle a výrazně měnil. Nick Archer má ke královské rodině a zvláště k novému králi Karlu III. blízko, několik let by totiž asistentem princova osobního tajemníka. O změnách, které nyní monarchii čekají, si s ním povídal vedoucí zahraniční redakce Českého rozhlasu Filip Nerad.<br>\\nFilip Nerad</p>', since=datetime.datetime(2022, 9, 15, 16, 11, tzinfo=tzoffset(None, 7200)), till=datetime.datetime(2022, 9, 15, 16, 24, 58, tzinfo=tzoffset(None, 7200)), updated=datetime.datetime(2022, 9, 21, 14, 30, 32, tzinfo=tzoffset(None, 7200)), part=None, title_mirrored='Rozhovory Radiožurnálu', content_creator='radiozurnal', content_id='10393035', base_id=None),\n",
       " Episode(uuid='6c7778f7-c529-38f8-8054-71763f9fb542', title='Putin vyhlásil částečnou mobilizaci. „Je si vědom, jak se jí národ obává,“ myslí si komentátor', title_short='Putin vyhlásil částečnou mobilizaci. „Je si vědom, jak se jí národ obává,“ myslí si komentátor', description='<p>Ruský prezident ve svém středečním projevu vyhlásil v zemi částečnou mobilizaci. V televizním vystoupení uvedl, že je to na obranu před Západem, který se snaží oslabit, rozdělit a zničit Rusko. Okupační vedení ukrajinské Doněcké, Luhanské, Záporožské a Chersonské oblasti pak narychlo ohlásila konání referend o připojení k Rusku. Hlasování má začít už v pátek a bude trvat do úterý. Podle ukrajinského vedení jsou tato rozhodnutí důkazem, že Kremlu nevychází jeho válečné plány.<br>\\nLibor Dvořák, Petr Král</p>', since=datetime.datetime(2022, 9, 21, 10, 2, tzinfo=tzoffset(None, 7200)), till=datetime.datetime(2022, 9, 21, 10, 5, 29, tzinfo=tzoffset(None, 7200)), updated=datetime.datetime(2022, 9, 21, 10, 40, 21, tzinfo=tzoffset(None, 7200)), part=None, title_mirrored='Rozhovory Radiožurnálu', content_creator='radiozurnal', content_id='10400352', base_id=None),\n",
       " Episode(uuid='8b10e8d2-4c7d-3706-a078-f6bbffa4f51c', title='Ruští občané musejí vládě říct: Jsme proti válce, zastavte to! vyzývá starosta Kyjeva Vitalij Kličko', title_short='Ruští občané musejí vládě říct: Jsme proti válce, zastavte to! vyzývá starosta Kyjeva Vitalij Kličko', description='<p>Na pražský Summit Paktu svobodných měst dorazil i starosta Kyjeva Vitalij Kličko. „Chceme být na stejné straně evropské rodiny, jako jste vy,“ říká. Přijel podle svých slov také poděkovat za českou pomoc Ukrajině a inspirovat se&nbsp;proměnou České republiky&nbsp;po roce 1989. Jaká je současná situace ve městech na Ukrajině? A co si Kličko myslí o přijímání ruských uprchlíků před mobilizací? Poslechněte si celý rozhovor.<br>\\nAnna Košlerová</p>', since=datetime.datetime(2022, 9, 27, 11, 9, tzinfo=tzoffset(None, 7200)), till=datetime.datetime(2022, 9, 27, 11, 23, 45, tzinfo=tzoffset(None, 7200)), updated=datetime.datetime(2022, 9, 28, 21, 20, 12, tzinfo=tzoffset(None, 7200)), part=None, title_mirrored='Rozhovory Radiožurnálu', content_creator='radiozurnal', content_id='10411494', base_id=None)]"
      ]
     },
     "execution_count": 13,
     "metadata": {},
     "output_type": "execute_result"
    }
   ],
   "source": [
    "list(episodes)[:3]"
   ]
  },
  {
   "cell_type": "code",
   "execution_count": 14,
   "id": "422a731d",
   "metadata": {
    "execution": {
     "iopub.execute_input": "2023-10-23T19:00:16.973123Z",
     "iopub.status.busy": "2023-10-23T19:00:16.972760Z",
     "iopub.status.idle": "2023-10-23T19:00:16.982299Z",
     "shell.execute_reply": "2023-10-23T19:00:16.981710Z"
    }
   },
   "outputs": [],
   "source": [
    "eps_schedule = cl.get_schedule(\"2023-09-17\", \"2023-09-18\")"
   ]
  },
  {
   "cell_type": "code",
   "execution_count": 15,
   "id": "892a8b05",
   "metadata": {
    "execution": {
     "iopub.execute_input": "2023-10-23T19:00:16.984613Z",
     "iopub.status.busy": "2023-10-23T19:00:16.984380Z",
     "iopub.status.idle": "2023-10-23T19:00:17.006806Z",
     "shell.execute_reply": "2023-10-23T19:00:17.005433Z"
    }
   },
   "outputs": [
    {
     "data": {
      "text/plain": [
       "[]"
      ]
     },
     "execution_count": 15,
     "metadata": {},
     "output_type": "execute_result"
    }
   ],
   "source": [
    "list(eps_schedule)[:3]"
   ]
  },
  {
   "cell_type": "code",
   "execution_count": 16,
   "id": "abbc7375",
   "metadata": {
    "execution": {
     "iopub.execute_input": "2023-10-23T19:00:17.010932Z",
     "iopub.status.busy": "2023-10-23T19:00:17.010514Z",
     "iopub.status.idle": "2023-10-23T19:00:17.025560Z",
     "shell.execute_reply": "2023-10-23T19:00:17.024950Z"
    }
   },
   "outputs": [],
   "source": [
    "eps_schedule = cl.get_schedule(\"2023-09-17T8:00\", \"2023-09-17T9:00\")"
   ]
  },
  {
   "cell_type": "code",
   "execution_count": 17,
   "id": "be2ba6f1",
   "metadata": {
    "execution": {
     "iopub.execute_input": "2023-10-23T19:00:17.028614Z",
     "iopub.status.busy": "2023-10-23T19:00:17.028376Z",
     "iopub.status.idle": "2023-10-23T19:00:17.050911Z",
     "shell.execute_reply": "2023-10-23T19:00:17.049552Z"
    }
   },
   "outputs": [
    {
     "data": {
      "text/plain": [
       "[]"
      ]
     },
     "execution_count": 17,
     "metadata": {},
     "output_type": "execute_result"
    }
   ],
   "source": [
    "list(eps_schedule)[:3]"
   ]
  },
  {
   "cell_type": "markdown",
   "id": "8d3342c0",
   "metadata": {},
   "source": [
    "### Get schedule filter by date and station (slow)list(eps_schedule)[:3]"
   ]
  },
  {
   "cell_type": "code",
   "execution_count": 18,
   "id": "a57ce9cf",
   "metadata": {
    "execution": {
     "iopub.execute_input": "2023-10-23T19:00:17.055504Z",
     "iopub.status.busy": "2023-10-23T19:00:17.054920Z",
     "iopub.status.idle": "2023-10-23T19:00:17.069046Z",
     "shell.execute_reply": "2023-10-23T19:00:17.068440Z"
    }
   },
   "outputs": [],
   "source": [
    "eps_schedule = cl.get_schedule(\"2023-09-17T8:00\", \"2023-09-17T9:00\", \"11\")"
   ]
  },
  {
   "cell_type": "code",
   "execution_count": 19,
   "id": "4c8edd68",
   "metadata": {
    "execution": {
     "iopub.execute_input": "2023-10-23T19:00:17.071981Z",
     "iopub.status.busy": "2023-10-23T19:00:17.071735Z",
     "iopub.status.idle": "2023-10-23T19:00:17.096145Z",
     "shell.execute_reply": "2023-10-23T19:00:17.094211Z"
    }
   },
   "outputs": [
    {
     "data": {
      "text/plain": [
       "[]"
      ]
     },
     "execution_count": 19,
     "metadata": {},
     "output_type": "execute_result"
    }
   ],
   "source": [
    "list(eps_schedule)[:3]"
   ]
  },
  {
   "cell_type": "markdown",
   "id": "115ddb01",
   "metadata": {},
   "source": [
    "## Get show participants with role"
   ]
  },
  {
   "cell_type": "code",
   "execution_count": 20,
   "id": "f73641e3",
   "metadata": {
    "execution": {
     "iopub.execute_input": "2023-10-23T19:00:17.103300Z",
     "iopub.status.busy": "2023-10-23T19:00:17.102266Z",
     "iopub.status.idle": "2023-10-23T19:00:17.121271Z",
     "shell.execute_reply": "2023-10-23T19:00:17.120353Z"
    }
   },
   "outputs": [],
   "source": [
    "participants = cl.get_show_participants_with_roles(\n",
    "    \"c7374f41-ae14-3b5c-8c04-385e3241deb4\"\n",
    ")"
   ]
  },
  {
   "cell_type": "code",
   "execution_count": 21,
   "id": "07ee9e57",
   "metadata": {
    "execution": {
     "iopub.execute_input": "2023-10-23T19:00:17.125163Z",
     "iopub.status.busy": "2023-10-23T19:00:17.124845Z",
     "iopub.status.idle": "2023-10-23T19:00:17.198619Z",
     "shell.execute_reply": "2023-10-23T19:00:17.196166Z"
    }
   },
   "outputs": [
    {
     "data": {
      "text/plain": [
       "[Person(uuid='4bb6cd4a-a5e8-3e48-a36e-06d7ac7e4f0f', title='Jiří Chum', description_short='<p>Moderuje každý všední den Dopolední Radiožurnál.</p>', description='<p><strong>Co dělám v rozhlase:</strong></p>\\n\\n<p><span>Na Radiožurnálu moderuji od roku 2002, od března 2008 do prosince 2010 Odpolední Radiožurnál a od ledna 2011\\xa0</span>Večerní Radiožurnál<span>\\xa0a ob týden\\xa0</span>Víkendový Ranní Radiožurnál<span>. Deset let jsem moderoval každý všední den Ranní Radiožurnál a od 1. července 2022 usedám za mikrofon Dopoledního Radiožurnálu. Ještě déle spolupracuji s regionální stanicí ČRo Region střední Čechy. V současnosti ale už jen v oblasti selfpromotion.</span></p>\\n\\n<p><strong>Před rozhlasem:</strong><br />\\nVystudoval jsem SSPoŠ Kolín se zaměřením na ekonomiku a management, poté si dal na pár let pauzu a v současnosti studuji Fakultu multimediálních komunikaci UTB ve Zlíně obor Marketingové komunikace. Z rádiové praxe: rádio City 937 a dlouhá léta Český rozhlas, kterému jsem nakonec zůstal věrný.</p>\\n\\n<p><strong></strong></p>\\n\\n', profile_id='5002938', role='moderator', participation_link='https://api.mujrozhlas.cz/persons/4bb6cd4a-a5e8-3e48-a36e-06d7ac7e4f0f/participation', participation_data=[{'type': 'station', 'id': '4082f63f-30e8-375d-a326-b32cf7d86e02', 'meta': {'role': 'Moderátoři'}}])]"
      ]
     },
     "execution_count": 21,
     "metadata": {},
     "output_type": "execute_result"
    }
   ],
   "source": [
    "list(participants)"
   ]
  },
  {
   "cell_type": "markdown",
   "id": "572f4e65",
   "metadata": {},
   "source": [
    "## Get show moderators"
   ]
  },
  {
   "cell_type": "code",
   "execution_count": 22,
   "id": "54e5acef",
   "metadata": {
    "execution": {
     "iopub.execute_input": "2023-10-23T19:00:17.202265Z",
     "iopub.status.busy": "2023-10-23T19:00:17.201803Z",
     "iopub.status.idle": "2023-10-23T19:00:17.215105Z",
     "shell.execute_reply": "2023-10-23T19:00:17.214376Z"
    }
   },
   "outputs": [],
   "source": [
    "moderators = cl.get_show_moderators(\"c7374f41-ae14-3b5c-8c04-385e3241deb4\")"
   ]
  },
  {
   "cell_type": "code",
   "execution_count": 23,
   "id": "0d6fc606",
   "metadata": {
    "execution": {
     "iopub.execute_input": "2023-10-23T19:00:17.219144Z",
     "iopub.status.busy": "2023-10-23T19:00:17.218736Z",
     "iopub.status.idle": "2023-10-23T19:00:17.252394Z",
     "shell.execute_reply": "2023-10-23T19:00:17.250541Z"
    }
   },
   "outputs": [],
   "source": [
    "mls = list(moderators)"
   ]
  },
  {
   "cell_type": "code",
   "execution_count": 24,
   "id": "a4f0f1fd",
   "metadata": {
    "execution": {
     "iopub.execute_input": "2023-10-23T19:00:17.259435Z",
     "iopub.status.busy": "2023-10-23T19:00:17.258863Z",
     "iopub.status.idle": "2023-10-23T19:00:17.281043Z",
     "shell.execute_reply": "2023-10-23T19:00:17.280166Z"
    }
   },
   "outputs": [
    {
     "name": "stdout",
     "output_type": "stream",
     "text": [
      "{\n",
      "  \"uuid\": \"4bb6cd4a-a5e8-3e48-a36e-06d7ac7e4f0f\",\n",
      "  \"title\": \"Jiří Chum\",\n",
      "  \"description_short\": \"<p>Moderuje každý všední den Dopolední Radiožurnál.</p>\",\n",
      "  \"description\": \"<p><strong>Co dělám v rozhlase:</strong></p>\\n\\n<p><span>Na Radiožurnálu moderuji od roku 2002, od března 2008 do prosince 2010 Odpolední Radiožurnál a od ledna 2011 </span>Večerní Radiožurnál<span> a ob týden </span>Víkendový Ranní Radiožurnál<span>. Deset let jsem moderoval každý všední den Ranní Radiožurnál a od 1. července 2022 usedám za mikrofon Dopoledního Radiožurnálu. Ještě déle spolupracuji s regionální stanicí ČRo Region střední Čechy. V současnosti ale už jen v oblasti selfpromotion.</span></p>\\n\\n<p><strong>Před rozhlasem:</strong><br />\\nVystudoval jsem SSPoŠ Kolín se zaměřením na ekonomiku a management, poté si dal na pár let pauzu a v současnosti studuji Fakultu multimediálních komunikaci UTB ve Zlíně obor Marketingové komunikace. Z rádiové praxe: rádio City 937 a dlouhá léta Český rozhlas, kterému jsem nakonec zůstal věrný.</p>\\n\\n<p><strong></strong></p>\\n\\n\",\n",
      "  \"profile_id\": \"5002938\",\n",
      "  \"role\": \"moderator\",\n",
      "  \"participation_link\": \"https://api.mujrozhlas.cz/persons/4bb6cd4a-a5e8-3e48-a36e-06d7ac7e4f0f/participation\",\n",
      "  \"participation_data\": [\n",
      "    {\n",
      "      \"type\": \"station\",\n",
      "      \"id\": \"4082f63f-30e8-375d-a326-b32cf7d86e02\",\n",
      "      \"meta\": {\n",
      "        \"role\": \"Moderátoři\"\n",
      "      }\n",
      "    }\n",
      "  ]\n",
      "}\n"
     ]
    }
   ],
   "source": [
    "print(mls[0])"
   ]
  },
  {
   "cell_type": "markdown",
   "id": "9fc55c9a",
   "metadata": {},
   "source": [
    "## Get station schedule day"
   ]
  },
  {
   "cell_type": "markdown",
   "id": "a23a48d4",
   "metadata": {},
   "source": [
    "### Get station schedule day flat"
   ]
  },
  {
   "cell_type": "code",
   "execution_count": 25,
   "id": "8d5c59d0",
   "metadata": {
    "execution": {
     "iopub.execute_input": "2023-10-23T19:00:17.284714Z",
     "iopub.status.busy": "2023-10-23T19:00:17.284132Z",
     "iopub.status.idle": "2023-10-23T19:00:17.294928Z",
     "shell.execute_reply": "2023-10-23T19:00:17.294306Z"
    }
   },
   "outputs": [],
   "source": [
    "day_schedule = cl.get_station_schedule_day_flat(\"2023-09-11\", \"11\")"
   ]
  },
  {
   "cell_type": "code",
   "execution_count": 26,
   "id": "2fea5bb6",
   "metadata": {
    "execution": {
     "iopub.execute_input": "2023-10-23T19:00:17.298043Z",
     "iopub.status.busy": "2023-10-23T19:00:17.297802Z",
     "iopub.status.idle": "2023-10-23T19:00:17.747330Z",
     "shell.execute_reply": "2023-10-23T19:00:17.746722Z"
    }
   },
   "outputs": [
    {
     "data": {
      "text/plain": [
       "[Episode_schedule(uuid='b76f6685-02dd-33ee-9bd8-5fcb5c19ba80', title='Zpravodajství z Česka i ze světa', description='Sport, Zelená vlna a předpověď počasí. O dopravní situaci informujte na bezplatné lince 800 553 553.', station='4082f63f-30e8-375d-a326-b32cf7d86e02', station_code=1, show_priority=0, show_times=None, since=datetime.datetime(2023, 9, 11, 0, 0, tzinfo=tzoffset(None, 7200)), till=datetime.datetime(2023, 9, 11, 0, 9, tzinfo=tzoffset(None, 7200))),\n",
       " Episode_schedule(uuid='b9973c2e-f6af-36ec-a281-0c0768c136c7', title='Informace o dopravní situaci volejte na bezplatnou linku 800 553 553.', description='', station='4082f63f-30e8-375d-a326-b32cf7d86e02', station_code=1, show_priority=0, show_times=None, since=datetime.datetime(2023, 9, 11, 0, 9, tzinfo=tzoffset(None, 7200)), till=datetime.datetime(2023, 9, 11, 0, 10, tzinfo=tzoffset(None, 7200))),\n",
       " Episode_schedule(uuid='003317bc-331d-3905-a318-62a1008bddc4', title='Aktuální reportáže a nejrychlejší zpravodajství', description='Moderuje Adam Carda a Jiří Štefl.', station='4082f63f-30e8-375d-a326-b32cf7d86e02', station_code=1, show_priority=0, show_times=None, since=datetime.datetime(2023, 9, 11, 0, 10, tzinfo=tzoffset(None, 7200)), till=datetime.datetime(2023, 9, 11, 0, 30, tzinfo=tzoffset(None, 7200)))]"
      ]
     },
     "execution_count": 26,
     "metadata": {},
     "output_type": "execute_result"
    }
   ],
   "source": [
    "list(day_schedule)[:3]"
   ]
  },
  {
   "cell_type": "markdown",
   "id": "6cfd3397",
   "metadata": {},
   "source": [
    "### Get station schedule day"
   ]
  },
  {
   "cell_type": "code",
   "execution_count": 27,
   "id": "c666d9e7",
   "metadata": {
    "execution": {
     "iopub.execute_input": "2023-10-23T19:00:17.749698Z",
     "iopub.status.busy": "2023-10-23T19:00:17.749512Z",
     "iopub.status.idle": "2023-10-23T19:00:17.760906Z",
     "shell.execute_reply": "2023-10-23T19:00:17.760316Z"
    }
   },
   "outputs": [],
   "source": [
    "data = cl.get_station_schedule_day(\"2023-09-11\", \"11\")"
   ]
  },
  {
   "cell_type": "code",
   "execution_count": 28,
   "id": "394ae765",
   "metadata": {
    "execution": {
     "iopub.execute_input": "2023-10-23T19:00:17.763507Z",
     "iopub.status.busy": "2023-10-23T19:00:17.763062Z",
     "iopub.status.idle": "2023-10-23T19:00:18.091966Z",
     "shell.execute_reply": "2023-10-23T19:00:18.091307Z"
    }
   },
   "outputs": [],
   "source": [
    "ldata = list(data)"
   ]
  },
  {
   "cell_type": "code",
   "execution_count": 29,
   "id": "9c7ac4c0",
   "metadata": {
    "execution": {
     "iopub.execute_input": "2023-10-23T19:00:18.094357Z",
     "iopub.status.busy": "2023-10-23T19:00:18.094170Z",
     "iopub.status.idle": "2023-10-23T19:00:18.107288Z",
     "shell.execute_reply": "2023-10-23T19:00:18.106593Z"
    }
   },
   "outputs": [
    {
     "data": {
      "text/plain": [
       "[Episode_schedule(uuid='b76f6685-02dd-33ee-9bd8-5fcb5c19ba80', title='Zpravodajství z Česka i ze světa', description='Sport, Zelená vlna a předpověď počasí. O dopravní situaci informujte na bezplatné lince 800 553 553.', station='4082f63f-30e8-375d-a326-b32cf7d86e02', station_code=1, show_priority=0, show_times=None, since=datetime.datetime(2023, 9, 11, 0, 0, tzinfo=tzoffset(None, 7200)), till=datetime.datetime(2023, 9, 11, 0, 9, tzinfo=tzoffset(None, 7200))),\n",
       " Episode_schedule(uuid='b9973c2e-f6af-36ec-a281-0c0768c136c7', title='Informace o dopravní situaci volejte na bezplatnou linku 800 553 553.', description='', station='4082f63f-30e8-375d-a326-b32cf7d86e02', station_code=1, show_priority=0, show_times=None, since=datetime.datetime(2023, 9, 11, 0, 9, tzinfo=tzoffset(None, 7200)), till=datetime.datetime(2023, 9, 11, 0, 10, tzinfo=tzoffset(None, 7200))),\n",
       " Episode_schedule(uuid='003317bc-331d-3905-a318-62a1008bddc4', title='Aktuální reportáže a nejrychlejší zpravodajství', description='Moderuje Adam Carda a Jiří Štefl.', station='4082f63f-30e8-375d-a326-b32cf7d86e02', station_code=1, show_priority=0, show_times=None, since=datetime.datetime(2023, 9, 11, 0, 10, tzinfo=tzoffset(None, 7200)), till=datetime.datetime(2023, 9, 11, 1, 0, tzinfo=tzoffset(None, 7200)))]"
      ]
     },
     "execution_count": 29,
     "metadata": {},
     "output_type": "execute_result"
    }
   ],
   "source": [
    "ldata[:3]"
   ]
  },
  {
   "cell_type": "code",
   "execution_count": 30,
   "id": "a4995f48",
   "metadata": {
    "execution": {
     "iopub.execute_input": "2023-10-23T19:00:18.109736Z",
     "iopub.status.busy": "2023-10-23T19:00:18.109517Z",
     "iopub.status.idle": "2023-10-23T19:00:18.122218Z",
     "shell.execute_reply": "2023-10-23T19:00:18.121538Z"
    }
   },
   "outputs": [
    {
     "data": {
      "text/plain": [
       "Episode_schedule(uuid='b9973c2e-f6af-36ec-a281-0c0768c136c7', title='Informace o dopravní situaci volejte na bezplatnou linku 800 553 553.', description='', station='4082f63f-30e8-375d-a326-b32cf7d86e02', station_code=1, show_priority=0, show_times=None, since=datetime.datetime(2023, 9, 11, 0, 9, tzinfo=tzoffset(None, 7200)), till=datetime.datetime(2023, 9, 11, 0, 10, tzinfo=tzoffset(None, 7200)))"
      ]
     },
     "execution_count": 30,
     "metadata": {},
     "output_type": "execute_result"
    }
   ],
   "source": [
    "ldata[1]"
   ]
  },
  {
   "cell_type": "code",
   "execution_count": 31,
   "id": "886b560b",
   "metadata": {
    "execution": {
     "iopub.execute_input": "2023-10-23T19:00:18.125264Z",
     "iopub.status.busy": "2023-10-23T19:00:18.125019Z",
     "iopub.status.idle": "2023-10-23T19:00:18.134594Z",
     "shell.execute_reply": "2023-10-23T19:00:18.133883Z"
    }
   },
   "outputs": [
    {
     "name": "stdout",
     "output_type": "stream",
     "text": [
      "{\n",
      "  \"uuid\": \"b9973c2e-f6af-36ec-a281-0c0768c136c7\",\n",
      "  \"title\": \"Informace o dopravní situaci volejte na bezplatnou linku 800 553 553.\",\n",
      "  \"description\": \"\",\n",
      "  \"station\": \"4082f63f-30e8-375d-a326-b32cf7d86e02\",\n",
      "  \"station_code\": 1,\n",
      "  \"show_priority\": 0,\n",
      "  \"show_times\": null,\n",
      "  \"since\": \"2023-09-11T00:09:00+02:00\",\n",
      "  \"till\": \"2023-09-11T00:10:00+02:00\"\n",
      "}\n"
     ]
    }
   ],
   "source": [
    "print(ldata[1])"
   ]
  },
  {
   "cell_type": "code",
   "execution_count": null,
   "id": "6f0be72f",
   "metadata": {},
   "outputs": [],
   "source": []
  }
 ],
 "metadata": {
  "jupytext": {
   "formats": "ipynb,py:percent"
  },
  "kernelspec": {
   "display_name": "Python 3 (ipykernel)",
   "language": "python",
   "name": "python3"
  },
  "language_info": {
   "codemirror_mode": {
    "name": "ipython",
    "version": 3
   },
   "file_extension": ".py",
   "mimetype": "text/x-python",
   "name": "python",
   "nbconvert_exporter": "python",
   "pygments_lexer": "ipython3",
   "version": "3.11.5"
  }
 },
 "nbformat": 4,
 "nbformat_minor": 5
}
