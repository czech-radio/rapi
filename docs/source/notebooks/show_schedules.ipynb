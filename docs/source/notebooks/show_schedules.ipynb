{
 "cells": [
  {
   "cell_type": "markdown",
   "id": "eac66992",
   "metadata": {
    "lines_to_next_cell": 0
   },
   "source": [
    "# Get schedules for given show\n",
    "## Create client"
   ]
  },
  {
   "cell_type": "code",
   "execution_count": 1,
   "id": "92fb6730",
   "metadata": {
    "execution": {
     "iopub.execute_input": "2023-10-16T14:33:33.244206Z",
     "iopub.status.busy": "2023-10-16T14:33:33.243164Z",
     "iopub.status.idle": "2023-10-16T14:33:33.378439Z",
     "shell.execute_reply": "2023-10-16T14:33:33.377797Z"
    }
   },
   "outputs": [],
   "source": [
    "from rapi import Client\n",
    "\n",
    "cl = Client()"
   ]
  },
  {
   "cell_type": "markdown",
   "id": "7aee1861",
   "metadata": {},
   "source": [
    "## Get schedule"
   ]
  },
  {
   "cell_type": "code",
   "execution_count": 2,
   "id": "134c061a",
   "metadata": {
    "execution": {
     "iopub.execute_input": "2023-10-16T14:33:33.381357Z",
     "iopub.status.busy": "2023-10-16T14:33:33.380957Z",
     "iopub.status.idle": "2023-10-16T14:33:33.384232Z",
     "shell.execute_reply": "2023-10-16T14:33:33.383607Z"
    }
   },
   "outputs": [],
   "source": [
    "show=\"2226c3be-7f0d-3c82-af47-0ec6abe992a8\"\n",
    "station=\"4082f63f-30e8-375d-a326-b32cf7d86e02\"\n",
    "since=\"2023-09-01\"\n",
    "till=\"2023-10-01\""
   ]
  },
  {
   "cell_type": "code",
   "execution_count": 3,
   "id": "dc8127e0",
   "metadata": {
    "execution": {
     "iopub.execute_input": "2023-10-16T14:33:33.386704Z",
     "iopub.status.busy": "2023-10-16T14:33:33.386450Z",
     "iopub.status.idle": "2023-10-16T14:33:33.767255Z",
     "shell.execute_reply": "2023-10-16T14:33:33.766361Z"
    }
   },
   "outputs": [
    {
     "name": "stdout",
     "output_type": "stream",
     "text": [
      "1413\n"
     ]
    }
   ],
   "source": [
    "data = list(cl.get_schedule(show))\n",
    "print(len(data))"
   ]
  },
  {
   "cell_type": "code",
   "execution_count": 4,
   "id": "25aa9ce3",
   "metadata": {
    "execution": {
     "iopub.execute_input": "2023-10-16T14:33:33.772712Z",
     "iopub.status.busy": "2023-10-16T14:33:33.772400Z",
     "iopub.status.idle": "2023-10-16T14:33:34.167947Z",
     "shell.execute_reply": "2023-10-16T14:33:34.167324Z"
    }
   },
   "outputs": [
    {
     "name": "stdout",
     "output_type": "stream",
     "text": [
      "1413\n"
     ]
    }
   ],
   "source": [
    "data = list(cl.get_schedule(show,station))\n",
    "print(len(data))"
   ]
  },
  {
   "cell_type": "code",
   "execution_count": 5,
   "id": "5cfb4c36",
   "metadata": {
    "execution": {
     "iopub.execute_input": "2023-10-16T14:33:34.170396Z",
     "iopub.status.busy": "2023-10-16T14:33:34.170063Z",
     "iopub.status.idle": "2023-10-16T14:33:34.239500Z",
     "shell.execute_reply": "2023-10-16T14:33:34.238706Z"
    }
   },
   "outputs": [
    {
     "name": "stdout",
     "output_type": "stream",
     "text": [
      "252\n"
     ]
    }
   ],
   "source": [
    "data = list(cl.get_schedule(show,station,since))\n",
    "print(len(data))"
   ]
  },
  {
   "cell_type": "code",
   "execution_count": 6,
   "id": "ac016835",
   "metadata": {
    "execution": {
     "iopub.execute_input": "2023-10-16T14:33:34.244292Z",
     "iopub.status.busy": "2023-10-16T14:33:34.243960Z",
     "iopub.status.idle": "2023-10-16T14:33:34.560793Z",
     "shell.execute_reply": "2023-10-16T14:33:34.560078Z"
    }
   },
   "outputs": [
    {
     "name": "stdout",
     "output_type": "stream",
     "text": [
      "1308\n"
     ]
    }
   ],
   "source": [
    "data = list(cl.get_schedule(show,station,\"\",till))\n",
    "print(len(data))"
   ]
  }
 ],
 "metadata": {
  "jupytext": {
   "formats": "ipynb,py:percent"
  },
  "kernelspec": {
   "display_name": "Python 3 (ipykernel)",
   "language": "python",
   "name": "python3"
  },
  "language_info": {
   "codemirror_mode": {
    "name": "ipython",
    "version": 3
   },
   "file_extension": ".py",
   "mimetype": "text/x-python",
   "name": "python",
   "nbconvert_exporter": "python",
   "pygments_lexer": "ipython3",
   "version": "3.11.5"
  }
 },
 "nbformat": 4,
 "nbformat_minor": 5
}
