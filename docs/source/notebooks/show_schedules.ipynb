{
 "cells": [
  {
   "cell_type": "markdown",
   "id": "efcf65be",
   "metadata": {
    "lines_to_next_cell": 0
   },
   "source": [
    "# Get schedules for given show\n",
    "## Create client"
   ]
  },
  {
   "cell_type": "code",
   "execution_count": 1,
   "id": "ff09aa98",
   "metadata": {
    "execution": {
     "iopub.execute_input": "2023-10-23T19:00:27.209275Z",
     "iopub.status.busy": "2023-10-23T19:00:27.207292Z",
     "iopub.status.idle": "2023-10-23T19:00:27.278048Z",
     "shell.execute_reply": "2023-10-23T19:00:27.277397Z"
    }
   },
   "outputs": [],
   "source": [
    "from rapi import Client\n",
    "\n",
    "cl = Client()"
   ]
  },
  {
   "cell_type": "markdown",
   "id": "628f17b7",
   "metadata": {},
   "source": [
    "## Get schedule"
   ]
  },
  {
   "cell_type": "code",
   "execution_count": 2,
   "id": "6f91f796",
   "metadata": {
    "execution": {
     "iopub.execute_input": "2023-10-23T19:00:27.281162Z",
     "iopub.status.busy": "2023-10-23T19:00:27.280924Z",
     "iopub.status.idle": "2023-10-23T19:00:27.284213Z",
     "shell.execute_reply": "2023-10-23T19:00:27.283529Z"
    }
   },
   "outputs": [],
   "source": [
    "show = \"2226c3be-7f0d-3c82-af47-0ec6abe992a8\"\n",
    "station = \"4082f63f-30e8-375d-a326-b32cf7d86e02\"\n",
    "since = \"2023-09-01\"\n",
    "till = \"2023-10-01\""
   ]
  },
  {
   "cell_type": "code",
   "execution_count": 3,
   "id": "9c4d72ef",
   "metadata": {
    "execution": {
     "iopub.execute_input": "2023-10-23T19:00:27.287323Z",
     "iopub.status.busy": "2023-10-23T19:00:27.287076Z",
     "iopub.status.idle": "2023-10-23T19:00:27.721716Z",
     "shell.execute_reply": "2023-10-23T19:00:27.721072Z"
    }
   },
   "outputs": [
    {
     "name": "stdout",
     "output_type": "stream",
     "text": [
      "1448\n"
     ]
    }
   ],
   "source": [
    "data = list(cl.get_schedule(show))\n",
    "print(len(data))"
   ]
  },
  {
   "cell_type": "code",
   "execution_count": 4,
   "id": "5c1ed190",
   "metadata": {
    "execution": {
     "iopub.execute_input": "2023-10-23T19:00:27.724457Z",
     "iopub.status.busy": "2023-10-23T19:00:27.724263Z",
     "iopub.status.idle": "2023-10-23T19:00:28.102724Z",
     "shell.execute_reply": "2023-10-23T19:00:28.102059Z"
    }
   },
   "outputs": [
    {
     "name": "stdout",
     "output_type": "stream",
     "text": [
      "1448\n"
     ]
    }
   ],
   "source": [
    "data = list(cl.get_schedule(show, station))\n",
    "print(len(data))"
   ]
  },
  {
   "cell_type": "code",
   "execution_count": 5,
   "id": "075c4e9a",
   "metadata": {
    "execution": {
     "iopub.execute_input": "2023-10-23T19:00:28.105575Z",
     "iopub.status.busy": "2023-10-23T19:00:28.105375Z",
     "iopub.status.idle": "2023-10-23T19:00:28.184198Z",
     "shell.execute_reply": "2023-10-23T19:00:28.183480Z"
    }
   },
   "outputs": [
    {
     "name": "stdout",
     "output_type": "stream",
     "text": [
      "287\n"
     ]
    }
   ],
   "source": [
    "data = list(cl.get_schedule(show, station, since))\n",
    "print(len(data))"
   ]
  },
  {
   "cell_type": "code",
   "execution_count": 6,
   "id": "c8910801",
   "metadata": {
    "execution": {
     "iopub.execute_input": "2023-10-23T19:00:28.186706Z",
     "iopub.status.busy": "2023-10-23T19:00:28.186464Z",
     "iopub.status.idle": "2023-10-23T19:00:28.650270Z",
     "shell.execute_reply": "2023-10-23T19:00:28.649619Z"
    }
   },
   "outputs": [
    {
     "name": "stdout",
     "output_type": "stream",
     "text": [
      "1308\n"
     ]
    }
   ],
   "source": [
    "data = list(cl.get_schedule(show, station, \"\", till))\n",
    "print(len(data))"
   ]
  }
 ],
 "metadata": {
  "jupytext": {
   "formats": "ipynb,py:percent"
  },
  "kernelspec": {
   "display_name": "Python 3 (ipykernel)",
   "language": "python",
   "name": "python3"
  },
  "language_info": {
   "codemirror_mode": {
    "name": "ipython",
    "version": 3
   },
   "file_extension": ".py",
   "mimetype": "text/x-python",
   "name": "python",
   "nbconvert_exporter": "python",
   "pygments_lexer": "ipython3",
   "version": "3.11.5"
  }
 },
 "nbformat": 4,
 "nbformat_minor": 5
}
