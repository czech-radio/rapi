{
 "cells": [
  {
   "cell_type": "markdown",
   "id": "0954293b",
   "metadata": {
    "lines_to_next_cell": 0
   },
   "source": [
    "# Get all participants for given show\n",
    "## Create client"
   ]
  },
  {
   "cell_type": "code",
   "execution_count": 1,
   "id": "402d3146",
   "metadata": {
    "execution": {
     "iopub.execute_input": "2023-10-08T18:05:10.657310Z",
     "iopub.status.busy": "2023-10-08T18:05:10.656525Z",
     "iopub.status.idle": "2023-10-08T18:05:10.782208Z",
     "shell.execute_reply": "2023-10-08T18:05:10.780919Z"
    }
   },
   "outputs": [],
   "source": [
    "from rapi import Client\n",
    "cl = Client()"
   ]
  },
  {
   "cell_type": "markdown",
   "id": "2fde43d8",
   "metadata": {
    "lines_to_next_cell": 0
   },
   "source": [
    "## Create show participants iterator\n",
    "- by default station identificator is openmedia id"
   ]
  },
  {
   "cell_type": "code",
   "execution_count": 2,
   "id": "d5c7e3b8",
   "metadata": {
    "execution": {
     "iopub.execute_input": "2023-10-08T18:05:10.786054Z",
     "iopub.status.busy": "2023-10-08T18:05:10.785700Z",
     "iopub.status.idle": "2023-10-08T18:05:10.990605Z",
     "shell.execute_reply": "2023-10-08T18:05:10.988463Z"
    }
   },
   "outputs": [],
   "source": [
    "show_uuid = \"c7374f41-ae14-3b5c-8c04-385e3241deb4\"\n",
    "participants_iterator = cl.get_show_moderators(show_uuid)\n",
    "participants = list(participants_iterator)"
   ]
  },
  {
   "cell_type": "markdown",
   "id": "f374c6f5",
   "metadata": {
    "lines_to_next_cell": 0
   },
   "source": [
    "## Number of participants"
   ]
  },
  {
   "cell_type": "code",
   "execution_count": 3,
   "id": "4e4d7fdb",
   "metadata": {
    "execution": {
     "iopub.execute_input": "2023-10-08T18:05:10.998940Z",
     "iopub.status.busy": "2023-10-08T18:05:10.998149Z",
     "iopub.status.idle": "2023-10-08T18:05:11.008686Z",
     "shell.execute_reply": "2023-10-08T18:05:11.006515Z"
    }
   },
   "outputs": [
    {
     "name": "stdout",
     "output_type": "stream",
     "text": [
      "1\n"
     ]
    }
   ],
   "source": [
    "print(len(participants))"
   ]
  },
  {
   "cell_type": "markdown",
   "id": "43a83112",
   "metadata": {
    "lines_to_next_cell": 0
   },
   "source": [
    "## List participants as python object"
   ]
  },
  {
   "cell_type": "code",
   "execution_count": 4,
   "id": "2f539333",
   "metadata": {
    "execution": {
     "iopub.execute_input": "2023-10-08T18:05:11.016371Z",
     "iopub.status.busy": "2023-10-08T18:05:11.015695Z",
     "iopub.status.idle": "2023-10-08T18:05:11.025785Z",
     "shell.execute_reply": "2023-10-08T18:05:11.023684Z"
    }
   },
   "outputs": [
    {
     "name": "stdout",
     "output_type": "stream",
     "text": [
      "[Person(uuid='4bb6cd4a-a5e8-3e48-a36e-06d7ac7e4f0f', title='Jiří Chum', description_short='<p>Moderuje každý všední den Dopolední Radiožurnál.</p>', description='<p><strong>Co dělám v rozhlase:</strong></p>\\n\\n<p><span>Na Radiožurnálu moderuji od roku 2002, od března 2008 do prosince 2010 Odpolední Radiožurnál a od ledna 2011\\xa0</span>Večerní Radiožurnál<span>\\xa0a ob týden\\xa0</span>Víkendový Ranní Radiožurnál<span>. Deset let jsem moderoval každý všední den Ranní Radiožurnál a od 1. července 2022 usedám za mikrofon Dopoledního Radiožurnálu. Ještě déle spolupracuji s regionální stanicí ČRo Region střední Čechy. V současnosti ale už jen v oblasti selfpromotion.</span></p>\\n\\n<p><strong>Před rozhlasem:</strong><br />\\nVystudoval jsem SSPoŠ Kolín se zaměřením na ekonomiku a management, poté si dal na pár let pauzu a v současnosti studuji Fakultu multimediálních komunikaci UTB ve Zlíně obor Marketingové komunikace. Z rádiové praxe: rádio City 937 a dlouhá léta Český rozhlas, kterému jsem nakonec zůstal věrný.</p>\\n\\n<p><strong></strong></p>\\n\\n', profile_id='5002938', role='moderator', participation_link='https://api.mujrozhlas.cz/persons/4bb6cd4a-a5e8-3e48-a36e-06d7ac7e4f0f/participation', participation_data=[{'type': 'station', 'id': '4082f63f-30e8-375d-a326-b32cf7d86e02', 'meta': {'role': 'Moderátoři'}}])]\n"
     ]
    }
   ],
   "source": [
    "print(participants[:3])"
   ]
  },
  {
   "cell_type": "markdown",
   "id": "0e81a66c",
   "metadata": {
    "lines_to_next_cell": 0
   },
   "source": [
    "## List participants as string object"
   ]
  },
  {
   "cell_type": "code",
   "execution_count": 5,
   "id": "44feb961",
   "metadata": {
    "execution": {
     "iopub.execute_input": "2023-10-08T18:05:11.034393Z",
     "iopub.status.busy": "2023-10-08T18:05:11.033243Z",
     "iopub.status.idle": "2023-10-08T18:05:11.040465Z",
     "shell.execute_reply": "2023-10-08T18:05:11.039374Z"
    },
    "lines_to_next_cell": 2
   },
   "outputs": [
    {
     "name": "stdout",
     "output_type": "stream",
     "text": [
      "{\n",
      "  \"uuid\": \"4bb6cd4a-a5e8-3e48-a36e-06d7ac7e4f0f\",\n",
      "  \"title\": \"Jiří Chum\",\n",
      "  \"description_short\": \"<p>Moderuje každý všední den Dopolední Radiožurnál.</p>\",\n",
      "  \"description\": \"<p><strong>Co dělám v rozhlase:</strong></p>\\n\\n<p><span>Na Radiožurnálu moderuji od roku 2002, od března 2008 do prosince 2010 Odpolední Radiožurnál a od ledna 2011 </span>Večerní Radiožurnál<span> a ob týden </span>Víkendový Ranní Radiožurnál<span>. Deset let jsem moderoval každý všední den Ranní Radiožurnál a od 1. července 2022 usedám za mikrofon Dopoledního Radiožurnálu. Ještě déle spolupracuji s regionální stanicí ČRo Region střední Čechy. V současnosti ale už jen v oblasti selfpromotion.</span></p>\\n\\n<p><strong>Před rozhlasem:</strong><br />\\nVystudoval jsem SSPoŠ Kolín se zaměřením na ekonomiku a management, poté si dal na pár let pauzu a v současnosti studuji Fakultu multimediálních komunikaci UTB ve Zlíně obor Marketingové komunikace. Z rádiové praxe: rádio City 937 a dlouhá léta Český rozhlas, kterému jsem nakonec zůstal věrný.</p>\\n\\n<p><strong></strong></p>\\n\\n\",\n",
      "  \"profile_id\": \"5002938\",\n",
      "  \"role\": \"moderator\",\n",
      "  \"participation_link\": \"https://api.mujrozhlas.cz/persons/4bb6cd4a-a5e8-3e48-a36e-06d7ac7e4f0f/participation\",\n",
      "  \"participation_data\": [\n",
      "    {\n",
      "      \"type\": \"station\",\n",
      "      \"id\": \"4082f63f-30e8-375d-a326-b32cf7d86e02\",\n",
      "      \"meta\": {\n",
      "        \"role\": \"Moderátoři\"\n",
      "      }\n",
      "    }\n",
      "  ]\n",
      "}\n"
     ]
    }
   ],
   "source": [
    "for p in participants[:3]:\n",
    "    print(p)"
   ]
  }
 ],
 "metadata": {
  "jupytext": {
   "formats": "ipynb,py:percent"
  },
  "kernelspec": {
   "display_name": "Python 3 (ipykernel)",
   "language": "python",
   "name": "python3"
  },
  "language_info": {
   "codemirror_mode": {
    "name": "ipython",
    "version": 3
   },
   "file_extension": ".py",
   "mimetype": "text/x-python",
   "name": "python",
   "nbconvert_exporter": "python",
   "pygments_lexer": "ipython3",
   "version": "3.11.5"
  }
 },
 "nbformat": 4,
 "nbformat_minor": 5
}
