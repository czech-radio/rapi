{
 "cells": [
  {
   "cell_type": "markdown",
   "id": "e1442889",
   "metadata": {
    "lines_to_next_cell": 0
   },
   "source": [
    "# Get all participants for given show\n",
    "## Create client"
   ]
  },
  {
   "cell_type": "code",
   "execution_count": 1,
   "id": "fb640178",
   "metadata": {
    "execution": {
     "iopub.execute_input": "2023-10-15T16:31:55.150704Z",
     "iopub.status.busy": "2023-10-15T16:31:55.149989Z",
     "iopub.status.idle": "2023-10-15T16:31:55.261077Z",
     "shell.execute_reply": "2023-10-15T16:31:55.260395Z"
    }
   },
   "outputs": [],
   "source": [
    "from rapi import Client\n",
    "\n",
    "cl = Client()"
   ]
  },
  {
   "cell_type": "markdown",
   "id": "667e8f57",
   "metadata": {
    "lines_to_next_cell": 0
   },
   "source": [
    "## Create show participants iterator\n",
    "- by default station identificator is openmedia id"
   ]
  },
  {
   "cell_type": "code",
   "execution_count": 2,
   "id": "39ce8e22",
   "metadata": {
    "execution": {
     "iopub.execute_input": "2023-10-15T16:31:55.264213Z",
     "iopub.status.busy": "2023-10-15T16:31:55.263852Z",
     "iopub.status.idle": "2023-10-15T16:31:55.322839Z",
     "shell.execute_reply": "2023-10-15T16:31:55.322093Z"
    }
   },
   "outputs": [],
   "source": [
    "show_uuid = \"c7374f41-ae14-3b5c-8c04-385e3241deb4\"\n",
    "participants_iterator = cl.get_show_moderators(show_uuid)\n",
    "participants = list(participants_iterator)"
   ]
  },
  {
   "cell_type": "markdown",
   "id": "65a50e09",
   "metadata": {
    "lines_to_next_cell": 0
   },
   "source": [
    "## Number of participants"
   ]
  },
  {
   "cell_type": "code",
   "execution_count": 3,
   "id": "59fc29b3",
   "metadata": {
    "execution": {
     "iopub.execute_input": "2023-10-15T16:31:55.327025Z",
     "iopub.status.busy": "2023-10-15T16:31:55.326485Z",
     "iopub.status.idle": "2023-10-15T16:31:55.330484Z",
     "shell.execute_reply": "2023-10-15T16:31:55.329795Z"
    }
   },
   "outputs": [
    {
     "name": "stdout",
     "output_type": "stream",
     "text": [
      "1\n"
     ]
    }
   ],
   "source": [
    "print(len(participants))"
   ]
  },
  {
   "cell_type": "markdown",
   "id": "a8e9dd25",
   "metadata": {
    "lines_to_next_cell": 0
   },
   "source": [
    "## List participants as python object"
   ]
  },
  {
   "cell_type": "code",
   "execution_count": 4,
   "id": "a4e0de27",
   "metadata": {
    "execution": {
     "iopub.execute_input": "2023-10-15T16:31:55.334073Z",
     "iopub.status.busy": "2023-10-15T16:31:55.333526Z",
     "iopub.status.idle": "2023-10-15T16:31:55.337964Z",
     "shell.execute_reply": "2023-10-15T16:31:55.337156Z"
    }
   },
   "outputs": [
    {
     "name": "stdout",
     "output_type": "stream",
     "text": [
      "[Person(uuid='4bb6cd4a-a5e8-3e48-a36e-06d7ac7e4f0f', title='Jiří Chum', description_short='<p>Moderuje každý všední den Dopolední Radiožurnál.</p>', description='<p><strong>Co dělám v rozhlase:</strong></p>\\n\\n<p><span>Na Radiožurnálu moderuji od roku 2002, od března 2008 do prosince 2010 Odpolední Radiožurnál a od ledna 2011\\xa0</span>Večerní Radiožurnál<span>\\xa0a ob týden\\xa0</span>Víkendový Ranní Radiožurnál<span>. Deset let jsem moderoval každý všední den Ranní Radiožurnál a od 1. července 2022 usedám za mikrofon Dopoledního Radiožurnálu. Ještě déle spolupracuji s regionální stanicí ČRo Region střední Čechy. V současnosti ale už jen v oblasti selfpromotion.</span></p>\\n\\n<p><strong>Před rozhlasem:</strong><br />\\nVystudoval jsem SSPoŠ Kolín se zaměřením na ekonomiku a management, poté si dal na pár let pauzu a v současnosti studuji Fakultu multimediálních komunikaci UTB ve Zlíně obor Marketingové komunikace. Z rádiové praxe: rádio City 937 a dlouhá léta Český rozhlas, kterému jsem nakonec zůstal věrný.</p>\\n\\n<p><strong></strong></p>\\n\\n', profile_id='5002938', role='moderator', participation_link='https://api.mujrozhlas.cz/persons/4bb6cd4a-a5e8-3e48-a36e-06d7ac7e4f0f/participation', participation_data=[{'type': 'station', 'id': '4082f63f-30e8-375d-a326-b32cf7d86e02', 'meta': {'role': 'Moderátoři'}}])]\n"
     ]
    }
   ],
   "source": [
    "print(participants[:3])"
   ]
  },
  {
   "cell_type": "markdown",
   "id": "32dce68e",
   "metadata": {
    "lines_to_next_cell": 0
   },
   "source": [
    "## List participants as string object"
   ]
  },
  {
   "cell_type": "code",
   "execution_count": 5,
   "id": "2203597a",
   "metadata": {
    "execution": {
     "iopub.execute_input": "2023-10-15T16:31:55.341238Z",
     "iopub.status.busy": "2023-10-15T16:31:55.340968Z",
     "iopub.status.idle": "2023-10-15T16:31:55.344937Z",
     "shell.execute_reply": "2023-10-15T16:31:55.344196Z"
    },
    "lines_to_next_cell": 2
   },
   "outputs": [
    {
     "name": "stdout",
     "output_type": "stream",
     "text": [
      "{\n",
      "  \"uuid\": \"4bb6cd4a-a5e8-3e48-a36e-06d7ac7e4f0f\",\n",
      "  \"title\": \"Jiří Chum\",\n",
      "  \"description_short\": \"<p>Moderuje každý všední den Dopolední Radiožurnál.</p>\",\n",
      "  \"description\": \"<p><strong>Co dělám v rozhlase:</strong></p>\\n\\n<p><span>Na Radiožurnálu moderuji od roku 2002, od března 2008 do prosince 2010 Odpolední Radiožurnál a od ledna 2011 </span>Večerní Radiožurnál<span> a ob týden </span>Víkendový Ranní Radiožurnál<span>. Deset let jsem moderoval každý všední den Ranní Radiožurnál a od 1. července 2022 usedám za mikrofon Dopoledního Radiožurnálu. Ještě déle spolupracuji s regionální stanicí ČRo Region střední Čechy. V současnosti ale už jen v oblasti selfpromotion.</span></p>\\n\\n<p><strong>Před rozhlasem:</strong><br />\\nVystudoval jsem SSPoŠ Kolín se zaměřením na ekonomiku a management, poté si dal na pár let pauzu a v současnosti studuji Fakultu multimediálních komunikaci UTB ve Zlíně obor Marketingové komunikace. Z rádiové praxe: rádio City 937 a dlouhá léta Český rozhlas, kterému jsem nakonec zůstal věrný.</p>\\n\\n<p><strong></strong></p>\\n\\n\",\n",
      "  \"profile_id\": \"5002938\",\n",
      "  \"role\": \"moderator\",\n",
      "  \"participation_link\": \"https://api.mujrozhlas.cz/persons/4bb6cd4a-a5e8-3e48-a36e-06d7ac7e4f0f/participation\",\n",
      "  \"participation_data\": [\n",
      "    {\n",
      "      \"type\": \"station\",\n",
      "      \"id\": \"4082f63f-30e8-375d-a326-b32cf7d86e02\",\n",
      "      \"meta\": {\n",
      "        \"role\": \"Moderátoři\"\n",
      "      }\n",
      "    }\n",
      "  ]\n",
      "}\n"
     ]
    }
   ],
   "source": [
    "for p in participants[:3]:\n",
    "    print(p)"
   ]
  }
 ],
 "metadata": {
  "jupytext": {
   "formats": "ipynb,py:percent"
  },
  "kernelspec": {
   "display_name": "Python 3 (ipykernel)",
   "language": "python",
   "name": "python3"
  },
  "language_info": {
   "codemirror_mode": {
    "name": "ipython",
    "version": 3
   },
   "file_extension": ".py",
   "mimetype": "text/x-python",
   "name": "python",
   "nbconvert_exporter": "python",
   "pygments_lexer": "ipython3",
   "version": "3.11.5"
  }
 },
 "nbformat": 4,
 "nbformat_minor": 5
}