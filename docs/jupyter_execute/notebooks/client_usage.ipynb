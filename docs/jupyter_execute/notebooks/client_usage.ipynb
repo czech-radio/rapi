{
 "cells": [
  {
   "cell_type": "markdown",
   "id": "ca1ceb7e",
   "metadata": {},
   "source": [
    "# Library Showcase"
   ]
  },
  {
   "cell_type": "markdown",
   "id": "33ebda92",
   "metadata": {},
   "source": [
    "FIXME: Add some description"
   ]
  },
  {
   "cell_type": "code",
   "execution_count": 1,
   "id": "4a1af64e",
   "metadata": {
    "execution": {
     "iopub.execute_input": "2023-10-22T18:23:25.216726Z",
     "iopub.status.busy": "2023-10-22T18:23:25.216406Z",
     "iopub.status.idle": "2023-10-22T18:23:25.243136Z",
     "shell.execute_reply": "2023-10-22T18:23:25.242212Z"
    }
   },
   "outputs": [],
   "source": [
    "%reload_ext autoreload\n",
    "%autoreload 2"
   ]
  },
  {
   "cell_type": "code",
   "execution_count": 2,
   "id": "312f157c",
   "metadata": {
    "execution": {
     "iopub.execute_input": "2023-10-22T18:23:25.249464Z",
     "iopub.status.busy": "2023-10-22T18:23:25.247857Z",
     "iopub.status.idle": "2023-10-22T18:23:25.377446Z",
     "shell.execute_reply": "2023-10-22T18:23:25.376662Z"
    }
   },
   "outputs": [],
   "source": [
    "from rapi import Client"
   ]
  },
  {
   "cell_type": "code",
   "execution_count": 3,
   "id": "2eb9dd2a",
   "metadata": {
    "execution": {
     "iopub.execute_input": "2023-10-22T18:23:25.382497Z",
     "iopub.status.busy": "2023-10-22T18:23:25.381710Z",
     "iopub.status.idle": "2023-10-22T18:23:25.397377Z",
     "shell.execute_reply": "2023-10-22T18:23:25.396544Z"
    }
   },
   "outputs": [],
   "source": [
    "cl = Client()"
   ]
  },
  {
   "cell_type": "markdown",
   "id": "48e5ec01",
   "metadata": {},
   "source": [
    "## Get all available stations"
   ]
  },
  {
   "cell_type": "code",
   "execution_count": 4,
   "id": "25ace146",
   "metadata": {
    "execution": {
     "iopub.execute_input": "2023-10-22T18:23:25.403884Z",
     "iopub.status.busy": "2023-10-22T18:23:25.402095Z",
     "iopub.status.idle": "2023-10-22T18:23:25.507521Z",
     "shell.execute_reply": "2023-10-22T18:23:25.506469Z"
    }
   },
   "outputs": [
    {
     "data": {
      "text/plain": [
       "28"
      ]
     },
     "execution_count": 4,
     "metadata": {},
     "output_type": "execute_result"
    }
   ],
   "source": [
    "stations = cl.get_stations()\n",
    "len(list(stations))"
   ]
  },
  {
   "cell_type": "markdown",
   "id": "de4823f8",
   "metadata": {},
   "source": [
    "## Get all shows for given station"
   ]
  },
  {
   "cell_type": "code",
   "execution_count": 5,
   "id": "6befe2f0",
   "metadata": {
    "execution": {
     "iopub.execute_input": "2023-10-22T18:23:25.511736Z",
     "iopub.status.busy": "2023-10-22T18:23:25.511349Z",
     "iopub.status.idle": "2023-10-22T18:23:25.526929Z",
     "shell.execute_reply": "2023-10-22T18:23:25.525921Z"
    }
   },
   "outputs": [],
   "source": [
    "shows = cl.get_station_shows(\"11\")"
   ]
  },
  {
   "cell_type": "code",
   "execution_count": 6,
   "id": "0a1986f4",
   "metadata": {
    "execution": {
     "iopub.execute_input": "2023-10-22T18:23:25.531241Z",
     "iopub.status.busy": "2023-10-22T18:23:25.530918Z",
     "iopub.status.idle": "2023-10-22T18:23:25.588465Z",
     "shell.execute_reply": "2023-10-22T18:23:25.587542Z"
    }
   },
   "outputs": [
    {
     "data": {
      "text/plain": [
       "[Show(uuid='c239aa59-bc78-3180-9b58-5c911846630d', type='show', content=True, title='100 statečných', active=False, aired=False, podcast=False, priority=0, child_friendly=False, description='100 hostů, 52 hodin a dva zkušení moderátoři.', description_short='100 hostů, 52 hodin a dva zkušení moderátoři.', updated=datetime.datetime(2021, 3, 20, 23, 30, 9, tzinfo=tzoffset(None, 3600))),\n",
       " Show(uuid='af62bd59-1e49-3dae-a68b-90b11f5d2ae6', type='show', content=True, title='90 statečných', active=False, aired=False, podcast=False, priority=0, child_friendly=False, description='Dokázali jsme to a vytvořili jsme nový rekord v rozhlasovém moderování!', description_short='Dokázali jsme to a vytvořili jsme nový rekord v rozhlasovém moderování!', updated=datetime.datetime(2021, 3, 20, 23, 30, 9, tzinfo=tzoffset(None, 3600))),\n",
       " Show(uuid='d88f0d67-6ba1-3ba5-8fea-01e41a614037', type='show', content=True, title='Antivirus', active=True, aired=True, podcast=True, priority=0, child_friendly=False, description='Pořad o technologiích a bezpečnosti na internetu. Jan Cibulka a Jana Magdoňová se zaměří na nástrahy on-line světa. Budou mluvit o aktuálních kyberútocích a podvodech na internetu a přidají i tipy, jak chránit sebe i své děti nebo rodiče. Antivirus doplní články na zpravodajském webu iRozhlas.cz.', description_short='Pořad o technologiích a bezpečnosti na internetu. Jan Cibulka a Jana Magdoňová se zaměří na nástrahy on-line světa.\\xa0', updated=datetime.datetime(2023, 9, 4, 10, 0, 10, tzinfo=tzoffset(None, 7200)))]"
      ]
     },
     "execution_count": 6,
     "metadata": {},
     "output_type": "execute_result"
    }
   ],
   "source": [
    "list(shows)[:3]"
   ]
  },
  {
   "cell_type": "markdown",
   "id": "fd4acebb",
   "metadata": {},
   "source": [
    "## Get particular show by UUID"
   ]
  },
  {
   "cell_type": "code",
   "execution_count": 7,
   "id": "c91767ed",
   "metadata": {
    "execution": {
     "iopub.execute_input": "2023-10-22T18:23:25.595229Z",
     "iopub.status.busy": "2023-10-22T18:23:25.594936Z",
     "iopub.status.idle": "2023-10-22T18:23:25.680560Z",
     "shell.execute_reply": "2023-10-22T18:23:25.679772Z"
    }
   },
   "outputs": [
    {
     "data": {
      "text/plain": [
       "Show(uuid='739a46c7-35e3-336e-a7d5-08a20b7e7677', type='show', content=True, title='Rozhovory Radiožurnálu', active=True, aired=True, podcast=False, priority=0, child_friendly=False, description='Ptáme se na všechno, co vás zajímá. Každý den se snažíme kontaktovat politiky, specialisty a odborníky z nejrůznějších profesí, abychom vám nabídli jejich názory a pohledy na nejaktuálnější témata.', description_short='Každý den se snažíme kontaktovat politiky, specialisty a odborníky z nejrůznějších profesí, abychom vám nabídli jejich názory a pohledy na nejaktuálnější témata.', updated=datetime.datetime(2023, 7, 14, 17, 0, 12, tzinfo=tzoffset(None, 7200)))"
      ]
     },
     "execution_count": 7,
     "metadata": {},
     "output_type": "execute_result"
    }
   ],
   "source": [
    "cl.get_show(\"739a46c7-35e3-336e-a7d5-08a20b7e7677\")"
   ]
  },
  {
   "cell_type": "markdown",
   "id": "b6d66475",
   "metadata": {},
   "source": [
    "## Get show episodes"
   ]
  },
  {
   "cell_type": "code",
   "execution_count": 8,
   "id": "70297dc8",
   "metadata": {
    "execution": {
     "iopub.execute_input": "2023-10-22T18:23:25.684158Z",
     "iopub.status.busy": "2023-10-22T18:23:25.683731Z",
     "iopub.status.idle": "2023-10-22T18:23:25.696591Z",
     "shell.execute_reply": "2023-10-22T18:23:25.695914Z"
    }
   },
   "outputs": [],
   "source": [
    "episodes = cl.get_show_episodes(\"739a46c7-35e3-336e-a7d5-08a20b7e7677\")"
   ]
  },
  {
   "cell_type": "code",
   "execution_count": 9,
   "id": "93a41155",
   "metadata": {
    "execution": {
     "iopub.execute_input": "2023-10-22T18:23:25.699814Z",
     "iopub.status.busy": "2023-10-22T18:23:25.699560Z",
     "iopub.status.idle": "2023-10-22T18:23:25.927304Z",
     "shell.execute_reply": "2023-10-22T18:23:25.926465Z"
    }
   },
   "outputs": [
    {
     "data": {
      "text/plain": [
       "[Episode(uuid='16df9e3d-b6e3-33af-994d-1aa1ccb4d25a', title='Pravidla musí platit pro všechny stejně, vylučuje hygienička Svrčinová možnost výjimky pro prezidenta', title_short='Pravidla platí pro všechny stejně, vylučuje hygienička Svrčinová možnost výjimky pro prezidenta', description='<p>Pražský hrad oznámil, že Miloš Zeman v neděli přijme Petra Fialu, aby ho jmenoval premiérem. Prezidentovi přitom ve čtvrtek vyšel pozitivní PCR test na koronavirus. Podle platných opatření by nyní u něj měla následovat dvoutýdenní karanténa. Jak by musela kancelář schůzku zorganizovat, aby proběhla z epidemiologického hlediska v pořádku?<br>\\nHanka Shánělová</p>', since=datetime.datetime(2021, 11, 26, 14, 14, tzinfo=tzoffset(None, 3600)), till=datetime.datetime(2021, 11, 26, 14, 17, 16, tzinfo=tzoffset(None, 3600)), updated=datetime.datetime(2021, 11, 26, 17, 0, 16, tzinfo=tzoffset(None, 3600)), part=None, title_mirrored='Rozhovory Radiožurnálu', content_creator='radiozurnal', content_id='10011355', base_id=None),\n",
       " Episode(uuid='a8c02e81-d2c1-355a-8ad5-97cf7a87cc47', title='EU se připravuje na omikron. Zakazuje vstup cizincům z jihoafrických zemí, přibližuje zpravodaj', title_short='EU se připravuje na omikron. Zakazuje vstup cizincům z jihoafrických zemí, přibližuje zpravodaj', description='<p>Evropská komise jedná s&nbsp;výrobci vakcín o dalším postupu kvůli výskytu nové varianty koronaviru omikron. Existuje riziko, že může být nakažlivější a potenciálně také rezistentnější než varianty předchozí. „Státy EU zakazují vstup na své území cizincům cestující ze zemí jihu Afriky a zavádějí zpřísněná opatření, například povinnou karanténu po návratu,“ říká bruselský zpravodaj Viktor Daněk s&nbsp;tím, že mezi takto postupující státy patří i Česko, Německo, Itálie, Belgie.<br>\\nJiří Chum, Viktor Daněk</p>', since=datetime.datetime(2021, 11, 27, 8, 20, tzinfo=tzoffset(None, 3600)), till=datetime.datetime(2021, 11, 27, 8, 22, 38, tzinfo=tzoffset(None, 3600)), updated=datetime.datetime(2021, 11, 27, 10, 20, 19, tzinfo=tzoffset(None, 3600)), part=None, title_mirrored='Rozhovory Radiožurnálu', content_creator='radiozurnal', content_id='10012081', base_id=None),\n",
       " Episode(uuid='fb7b67d5-8b7d-385a-91bd-e044000e5e1d', title='Varianta omikron má zhruba padesát mutací, rychle se šíří a moc toho o ní nevíme', title_short='Varianta omikron má zhruba padesát mutací, rychle se šíří a moc toho o ní nevíme', description='<p><span lang=\"cs-CZ\">Nová varianta koronaviru pojmenovaná omikron je potvrzená už i v Česku. Kvůli dosud nejvíc zmutované variantě koronaviru státy po celém světě opět omezují turismus (nejnověji Japonsko) a zavádějí karantény pro cestující ze zemí, kde se omikron objevil. Co vlastně ony mutace znamenají?</span><br>\\nMatěj Skalický</p>', since=datetime.datetime(2021, 11, 29, 10, 40, tzinfo=tzoffset(None, 3600)), till=datetime.datetime(2021, 11, 29, 10, 42, 30, tzinfo=tzoffset(None, 3600)), updated=datetime.datetime(2021, 11, 30, 19, 20, 19, tzinfo=tzoffset(None, 3600)), part=None, title_mirrored='Rozhovory Radiožurnálu', content_creator='radiozurnal', content_id='10013547', base_id=None)]"
      ]
     },
     "execution_count": 9,
     "metadata": {},
     "output_type": "execute_result"
    }
   ],
   "source": [
    "list(episodes)[:3]"
   ]
  },
  {
   "cell_type": "markdown",
   "id": "0bb20729",
   "metadata": {},
   "source": [
    "## Filter show episodes by date"
   ]
  },
  {
   "cell_type": "code",
   "execution_count": 10,
   "id": "0bc32b9f",
   "metadata": {
    "execution": {
     "iopub.execute_input": "2023-10-22T18:23:25.930684Z",
     "iopub.status.busy": "2023-10-22T18:23:25.930363Z",
     "iopub.status.idle": "2023-10-22T18:23:25.942210Z",
     "shell.execute_reply": "2023-10-22T18:23:25.941586Z"
    }
   },
   "outputs": [],
   "source": [
    "episodes = cl.show_episodes_filter(\n",
    "    \"739a46c7-35e3-336e-a7d5-08a20b7e7677\", \"2022\", \"2023\"\n",
    ")"
   ]
  },
  {
   "cell_type": "code",
   "execution_count": 11,
   "id": "529c7670",
   "metadata": {
    "execution": {
     "iopub.execute_input": "2023-10-22T18:23:25.945851Z",
     "iopub.status.busy": "2023-10-22T18:23:25.945243Z",
     "iopub.status.idle": "2023-10-22T18:23:26.021158Z",
     "shell.execute_reply": "2023-10-22T18:23:26.020430Z"
    }
   },
   "outputs": [
    {
     "data": {
      "text/plain": [
       "[Episode(uuid='f0d6f493-3f38-30c3-9b4c-51aef1bf9d3e', title='Jak se slavil 28. říjen? „Za první republiky byly oslavy mohutné a zároveň povinné,“ popisuje historička', title_short='Jak se slavil 28. říjen? „Za první republiky byly oslavy mohutné a povinné,“ popisuje historička', description='<p>Dnes si připomínáme výročí vzniku samostatného Československa. Oslavy 28. října měly v&nbsp;průběhu historie našeho státu různé podoby v závislosti na střídání politických režimů. Historici z nich vyčtou cenné informace o tehdejší společnosti.&nbsp;Jak se k svátku stavěly národnostní menšiny?&nbsp;„V roce 1928 například Maďaři říkali, že je to jejich den smutku,“ popisuje v rozhovoru Dagmar Hájková.<br>\\nPetr Král</p>', since=datetime.datetime(2022, 10, 28, 10, 3, tzinfo=tzoffset(None, 7200)), till=datetime.datetime(2022, 10, 28, 10, 8, 46, tzinfo=tzoffset(None, 7200)), updated=datetime.datetime(2022, 10, 28, 11, 0, 29, tzinfo=tzoffset(None, 7200)), part=None, title_mirrored='Rozhovory Radiožurnálu', content_creator='radiozurnal', content_id='10454157', base_id=None),\n",
       " Episode(uuid='c952bac2-6662-3e61-90f2-9171c617dd24', title='Ještě je čas na záchrannou brzdu, říká člen NERV o návrhu úspor ve státním rozpočtu', title_short='Ještě je čas na záchrannou brzdu, říká člen NERV o návrhu úspor ve státním rozpočtu', description='<p>Součet&nbsp;schodku státního rozpočtu se za poslední tři roky vyšplhal na bilion korun a příští rok&nbsp;naroste o dalších 295 miliard.&nbsp;Národní ekonomická rada vlády (NERV) proto kabinetu Petra Fialy ve středu předložila návrhy opatření, která by měla vést&nbsp;k dlouhodobému zlepšení hospodaření státu.&nbsp;Co by hrozilo, pokud by se státní dluh dál zvyšoval podobným tempem? A v čem podle členů NERV dělá stát hlavní chyby?<br>\\nVěra Štechrová</p>', since=datetime.datetime(2022, 11, 3, 10, 52, tzinfo=tzoffset(None, 3600)), till=datetime.datetime(2022, 11, 3, 10, 58, 50, tzinfo=tzoffset(None, 3600)), updated=datetime.datetime(2022, 11, 4, 22, 0, 19, tzinfo=tzoffset(None, 3600)), part=None, title_mirrored='Rozhovory Radiožurnálu', content_creator='radiozurnal', content_id='10462509', base_id=None),\n",
       " Episode(uuid='f795186d-1748-354d-af6b-177fe7b068e0', title='V Rokytnici jsou stovky lidí bez dodávek tepla, hrozí přerušení výuky. Vyřeší se spor města s dodavatelem?', title_short='Část Rokytnice je bez dodávek tepla, hrozí přerušení výuky. Vyřeší se spor města s dodavatelem?', description='<p>Část domácností v Rokytnici v Orlických horách je už druhý den bez tepla a teplé vody. Dodavatel jim včera ráno kvůli dlouhodobým neshodám ohledně účtované ceny přerušil dodávky. Jde o stovky lidí v domácnostech na několika sídlištích. Kromě nich je ale od tepla odpojený taky dům s pečovatelskou službou nebo základní škola, kde hrozí přerušení výuky. Společnost Ekoenergy Moravia ten krok odůvodnila tím, že aktuálně na dodávky tepla nemá dostatek peněz.<br>\\nAnna Horáčková, Vojtěch Bidrman</p>', since=datetime.datetime(2022, 11, 6, 8, 40, tzinfo=tzoffset(None, 3600)), till=datetime.datetime(2022, 11, 6, 8, 42, 54, tzinfo=tzoffset(None, 3600)), updated=datetime.datetime(2022, 11, 6, 9, 0, 24, tzinfo=tzoffset(None, 3600)), part=None, title_mirrored='Rozhovory Radiožurnálu', content_creator='radiozurnal', content_id='10465998', base_id=None)]"
      ]
     },
     "execution_count": 11,
     "metadata": {},
     "output_type": "execute_result"
    }
   ],
   "source": [
    "list(episodes)[:3]"
   ]
  },
  {
   "cell_type": "code",
   "execution_count": 12,
   "id": "adc73e53",
   "metadata": {
    "execution": {
     "iopub.execute_input": "2023-10-22T18:23:26.024538Z",
     "iopub.status.busy": "2023-10-22T18:23:26.024092Z",
     "iopub.status.idle": "2023-10-22T18:23:26.036940Z",
     "shell.execute_reply": "2023-10-22T18:23:26.036208Z"
    }
   },
   "outputs": [],
   "source": [
    "episodes = cl.show_episodes_filter(\n",
    "    \"739a46c7-35e3-336e-a7d5-08a20b7e7677\",\n",
    "    \"2022-08-11\",\n",
    "    \"2023-09-11\",\n",
    ")"
   ]
  },
  {
   "cell_type": "code",
   "execution_count": 13,
   "id": "a3d295db",
   "metadata": {
    "execution": {
     "iopub.execute_input": "2023-10-22T18:23:26.040287Z",
     "iopub.status.busy": "2023-10-22T18:23:26.039983Z",
     "iopub.status.idle": "2023-10-22T18:23:26.227758Z",
     "shell.execute_reply": "2023-10-22T18:23:26.227160Z"
    }
   },
   "outputs": [
    {
     "data": {
      "text/plain": [
       "[Episode(uuid='ca15ae46-896e-37ba-87f3-65fa42af1bff', title='Královna dokázala dát každému pocit, že je zajímavý. Karel III. bude změna, ale kontinuita, myslí si britský velvyslanec', title_short='Karel III. bude změna, ale kontinuita, myslí si britský velvyslanec', description='<p>Londýn se chystá na pondělní pohřeb britské královny Alžběty II. Podle velvyslance Spojeného království v Praze Nicka Archera byla Alžběta II. pro Brity konstantou a pevným bodem ve světě, který se rychle a výrazně měnil. Nick Archer má ke královské rodině a zvláště k novému králi Karlu III. blízko, několik let by totiž asistentem princova osobního tajemníka. O změnách, které nyní monarchii čekají, si s ním povídal vedoucí zahraniční redakce Českého rozhlasu Filip Nerad.<br>\\nFilip Nerad</p>', since=datetime.datetime(2022, 9, 15, 16, 11, tzinfo=tzoffset(None, 7200)), till=datetime.datetime(2022, 9, 15, 16, 24, 58, tzinfo=tzoffset(None, 7200)), updated=datetime.datetime(2022, 9, 21, 14, 30, 32, tzinfo=tzoffset(None, 7200)), part=None, title_mirrored='Rozhovory Radiožurnálu', content_creator='radiozurnal', content_id='10393035', base_id=None),\n",
       " Episode(uuid='6c7778f7-c529-38f8-8054-71763f9fb542', title='Putin vyhlásil částečnou mobilizaci. „Je si vědom, jak se jí národ obává,“ myslí si komentátor', title_short='Putin vyhlásil částečnou mobilizaci. „Je si vědom, jak se jí národ obává,“ myslí si komentátor', description='<p>Ruský prezident ve svém středečním projevu vyhlásil v zemi částečnou mobilizaci. V televizním vystoupení uvedl, že je to na obranu před Západem, který se snaží oslabit, rozdělit a zničit Rusko. Okupační vedení ukrajinské Doněcké, Luhanské, Záporožské a Chersonské oblasti pak narychlo ohlásila konání referend o připojení k Rusku. Hlasování má začít už v pátek a bude trvat do úterý. Podle ukrajinského vedení jsou tato rozhodnutí důkazem, že Kremlu nevychází jeho válečné plány.<br>\\nLibor Dvořák, Petr Král</p>', since=datetime.datetime(2022, 9, 21, 10, 2, tzinfo=tzoffset(None, 7200)), till=datetime.datetime(2022, 9, 21, 10, 5, 29, tzinfo=tzoffset(None, 7200)), updated=datetime.datetime(2022, 9, 21, 10, 40, 21, tzinfo=tzoffset(None, 7200)), part=None, title_mirrored='Rozhovory Radiožurnálu', content_creator='radiozurnal', content_id='10400352', base_id=None),\n",
       " Episode(uuid='8b10e8d2-4c7d-3706-a078-f6bbffa4f51c', title='Ruští občané musejí vládě říct: Jsme proti válce, zastavte to! vyzývá starosta Kyjeva Vitalij Kličko', title_short='Ruští občané musejí vládě říct: Jsme proti válce, zastavte to! vyzývá starosta Kyjeva Vitalij Kličko', description='<p>Na pražský Summit Paktu svobodných měst dorazil i starosta Kyjeva Vitalij Kličko. „Chceme být na stejné straně evropské rodiny, jako jste vy,“ říká. Přijel podle svých slov také poděkovat za českou pomoc Ukrajině a inspirovat se&nbsp;proměnou České republiky&nbsp;po roce 1989. Jaká je současná situace ve městech na Ukrajině? A co si Kličko myslí o přijímání ruských uprchlíků před mobilizací? Poslechněte si celý rozhovor.<br>\\nAnna Košlerová</p>', since=datetime.datetime(2022, 9, 27, 11, 9, tzinfo=tzoffset(None, 7200)), till=datetime.datetime(2022, 9, 27, 11, 23, 45, tzinfo=tzoffset(None, 7200)), updated=datetime.datetime(2022, 9, 28, 21, 20, 12, tzinfo=tzoffset(None, 7200)), part=None, title_mirrored='Rozhovory Radiožurnálu', content_creator='radiozurnal', content_id='10411494', base_id=None)]"
      ]
     },
     "execution_count": 13,
     "metadata": {},
     "output_type": "execute_result"
    }
   ],
   "source": [
    "list(episodes)[:3]"
   ]
  },
  {
   "cell_type": "code",
   "execution_count": 14,
   "id": "b678769c",
   "metadata": {
    "execution": {
     "iopub.execute_input": "2023-10-22T18:23:26.230496Z",
     "iopub.status.busy": "2023-10-22T18:23:26.230211Z",
     "iopub.status.idle": "2023-10-22T18:23:26.239627Z",
     "shell.execute_reply": "2023-10-22T18:23:26.239031Z"
    }
   },
   "outputs": [],
   "source": [
    "eps_schedule = cl.get_schedule(\"2023-09-17\", \"2023-09-18\")"
   ]
  },
  {
   "cell_type": "code",
   "execution_count": 15,
   "id": "7af262c2",
   "metadata": {
    "execution": {
     "iopub.execute_input": "2023-10-22T18:23:26.242164Z",
     "iopub.status.busy": "2023-10-22T18:23:26.241922Z",
     "iopub.status.idle": "2023-10-22T18:23:26.278339Z",
     "shell.execute_reply": "2023-10-22T18:23:26.277018Z"
    }
   },
   "outputs": [
    {
     "data": {
      "text/plain": [
       "[]"
      ]
     },
     "execution_count": 15,
     "metadata": {},
     "output_type": "execute_result"
    }
   ],
   "source": [
    "list(eps_schedule)[:3]"
   ]
  },
  {
   "cell_type": "code",
   "execution_count": 16,
   "id": "b29a8663",
   "metadata": {
    "execution": {
     "iopub.execute_input": "2023-10-22T18:23:26.283639Z",
     "iopub.status.busy": "2023-10-22T18:23:26.282966Z",
     "iopub.status.idle": "2023-10-22T18:23:26.307961Z",
     "shell.execute_reply": "2023-10-22T18:23:26.307076Z"
    }
   },
   "outputs": [],
   "source": [
    "eps_schedule = cl.get_schedule(\"2023-09-17T8:00\", \"2023-09-17T9:00\")"
   ]
  },
  {
   "cell_type": "code",
   "execution_count": 17,
   "id": "bf0724f3",
   "metadata": {
    "execution": {
     "iopub.execute_input": "2023-10-22T18:23:26.311540Z",
     "iopub.status.busy": "2023-10-22T18:23:26.311228Z",
     "iopub.status.idle": "2023-10-22T18:23:26.340907Z",
     "shell.execute_reply": "2023-10-22T18:23:26.340198Z"
    }
   },
   "outputs": [
    {
     "data": {
      "text/plain": [
       "[]"
      ]
     },
     "execution_count": 17,
     "metadata": {},
     "output_type": "execute_result"
    }
   ],
   "source": [
    "list(eps_schedule)[:3]"
   ]
  },
  {
   "cell_type": "markdown",
   "id": "0c0e5ead",
   "metadata": {},
   "source": [
    "### Get schedule filter by date and station (slow)list(eps_schedule)[:3]"
   ]
  },
  {
   "cell_type": "code",
   "execution_count": 18,
   "id": "bd6bf40d",
   "metadata": {
    "execution": {
     "iopub.execute_input": "2023-10-22T18:23:26.343778Z",
     "iopub.status.busy": "2023-10-22T18:23:26.343412Z",
     "iopub.status.idle": "2023-10-22T18:23:26.352718Z",
     "shell.execute_reply": "2023-10-22T18:23:26.352099Z"
    }
   },
   "outputs": [],
   "source": [
    "eps_schedule = cl.get_schedule(\"2023-09-17T8:00\", \"2023-09-17T9:00\", \"11\")"
   ]
  },
  {
   "cell_type": "code",
   "execution_count": 19,
   "id": "e35e1f09",
   "metadata": {
    "execution": {
     "iopub.execute_input": "2023-10-22T18:23:26.355779Z",
     "iopub.status.busy": "2023-10-22T18:23:26.355506Z",
     "iopub.status.idle": "2023-10-22T18:23:26.385645Z",
     "shell.execute_reply": "2023-10-22T18:23:26.384225Z"
    }
   },
   "outputs": [
    {
     "data": {
      "text/plain": [
       "[]"
      ]
     },
     "execution_count": 19,
     "metadata": {},
     "output_type": "execute_result"
    }
   ],
   "source": [
    "list(eps_schedule)[:3]"
   ]
  },
  {
   "cell_type": "markdown",
   "id": "db8e7513",
   "metadata": {},
   "source": [
    "## Get show participants with role"
   ]
  },
  {
   "cell_type": "code",
   "execution_count": 20,
   "id": "eb753e5f",
   "metadata": {
    "execution": {
     "iopub.execute_input": "2023-10-22T18:23:26.391013Z",
     "iopub.status.busy": "2023-10-22T18:23:26.390504Z",
     "iopub.status.idle": "2023-10-22T18:23:26.404573Z",
     "shell.execute_reply": "2023-10-22T18:23:26.403913Z"
    }
   },
   "outputs": [],
   "source": [
    "participants = cl.get_show_participants_with_roles(\n",
    "    \"c7374f41-ae14-3b5c-8c04-385e3241deb4\"\n",
    ")"
   ]
  },
  {
   "cell_type": "code",
   "execution_count": 21,
   "id": "d5971ba2",
   "metadata": {
    "execution": {
     "iopub.execute_input": "2023-10-22T18:23:26.407712Z",
     "iopub.status.busy": "2023-10-22T18:23:26.407338Z",
     "iopub.status.idle": "2023-10-22T18:23:26.435899Z",
     "shell.execute_reply": "2023-10-22T18:23:26.434700Z"
    }
   },
   "outputs": [
    {
     "data": {
      "text/plain": [
       "[Person(uuid='4bb6cd4a-a5e8-3e48-a36e-06d7ac7e4f0f', title='Jiří Chum', description_short='<p>Moderuje každý všední den Dopolední Radiožurnál.</p>', description='<p><strong>Co dělám v rozhlase:</strong></p>\\n\\n<p><span>Na Radiožurnálu moderuji od roku 2002, od března 2008 do prosince 2010 Odpolední Radiožurnál a od ledna 2011\\xa0</span>Večerní Radiožurnál<span>\\xa0a ob týden\\xa0</span>Víkendový Ranní Radiožurnál<span>. Deset let jsem moderoval každý všední den Ranní Radiožurnál a od 1. července 2022 usedám za mikrofon Dopoledního Radiožurnálu. Ještě déle spolupracuji s regionální stanicí ČRo Region střední Čechy. V současnosti ale už jen v oblasti selfpromotion.</span></p>\\n\\n<p><strong>Před rozhlasem:</strong><br />\\nVystudoval jsem SSPoŠ Kolín se zaměřením na ekonomiku a management, poté si dal na pár let pauzu a v současnosti studuji Fakultu multimediálních komunikaci UTB ve Zlíně obor Marketingové komunikace. Z rádiové praxe: rádio City 937 a dlouhá léta Český rozhlas, kterému jsem nakonec zůstal věrný.</p>\\n\\n<p><strong></strong></p>\\n\\n', profile_id='5002938', role='moderator', participation_link='https://api.mujrozhlas.cz/persons/4bb6cd4a-a5e8-3e48-a36e-06d7ac7e4f0f/participation', participation_data=[{'type': 'station', 'id': '4082f63f-30e8-375d-a326-b32cf7d86e02', 'meta': {'role': 'Moderátoři'}}])]"
      ]
     },
     "execution_count": 21,
     "metadata": {},
     "output_type": "execute_result"
    }
   ],
   "source": [
    "list(participants)"
   ]
  },
  {
   "cell_type": "markdown",
   "id": "8020ed74",
   "metadata": {},
   "source": [
    "## Get show moderators"
   ]
  },
  {
   "cell_type": "code",
   "execution_count": 22,
   "id": "3243320f",
   "metadata": {
    "execution": {
     "iopub.execute_input": "2023-10-22T18:23:26.440678Z",
     "iopub.status.busy": "2023-10-22T18:23:26.440095Z",
     "iopub.status.idle": "2023-10-22T18:23:26.452933Z",
     "shell.execute_reply": "2023-10-22T18:23:26.452159Z"
    }
   },
   "outputs": [],
   "source": [
    "moderators = cl.get_show_moderators(\"c7374f41-ae14-3b5c-8c04-385e3241deb4\")"
   ]
  },
  {
   "cell_type": "code",
   "execution_count": 23,
   "id": "1d5f85b0",
   "metadata": {
    "execution": {
     "iopub.execute_input": "2023-10-22T18:23:26.455902Z",
     "iopub.status.busy": "2023-10-22T18:23:26.455516Z",
     "iopub.status.idle": "2023-10-22T18:23:26.488437Z",
     "shell.execute_reply": "2023-10-22T18:23:26.487485Z"
    }
   },
   "outputs": [],
   "source": [
    "mls = list(moderators)"
   ]
  },
  {
   "cell_type": "code",
   "execution_count": 24,
   "id": "0e70d06d",
   "metadata": {
    "execution": {
     "iopub.execute_input": "2023-10-22T18:23:26.496840Z",
     "iopub.status.busy": "2023-10-22T18:23:26.496133Z",
     "iopub.status.idle": "2023-10-22T18:23:26.509915Z",
     "shell.execute_reply": "2023-10-22T18:23:26.509197Z"
    }
   },
   "outputs": [
    {
     "name": "stdout",
     "output_type": "stream",
     "text": [
      "{\n",
      "  \"uuid\": \"4bb6cd4a-a5e8-3e48-a36e-06d7ac7e4f0f\",\n",
      "  \"title\": \"Jiří Chum\",\n",
      "  \"description_short\": \"<p>Moderuje každý všední den Dopolední Radiožurnál.</p>\",\n",
      "  \"description\": \"<p><strong>Co dělám v rozhlase:</strong></p>\\n\\n<p><span>Na Radiožurnálu moderuji od roku 2002, od března 2008 do prosince 2010 Odpolední Radiožurnál a od ledna 2011 </span>Večerní Radiožurnál<span> a ob týden </span>Víkendový Ranní Radiožurnál<span>. Deset let jsem moderoval každý všední den Ranní Radiožurnál a od 1. července 2022 usedám za mikrofon Dopoledního Radiožurnálu. Ještě déle spolupracuji s regionální stanicí ČRo Region střední Čechy. V současnosti ale už jen v oblasti selfpromotion.</span></p>\\n\\n<p><strong>Před rozhlasem:</strong><br />\\nVystudoval jsem SSPoŠ Kolín se zaměřením na ekonomiku a management, poté si dal na pár let pauzu a v současnosti studuji Fakultu multimediálních komunikaci UTB ve Zlíně obor Marketingové komunikace. Z rádiové praxe: rádio City 937 a dlouhá léta Český rozhlas, kterému jsem nakonec zůstal věrný.</p>\\n\\n<p><strong></strong></p>\\n\\n\",\n",
      "  \"profile_id\": \"5002938\",\n",
      "  \"role\": \"moderator\",\n",
      "  \"participation_link\": \"https://api.mujrozhlas.cz/persons/4bb6cd4a-a5e8-3e48-a36e-06d7ac7e4f0f/participation\",\n",
      "  \"participation_data\": [\n",
      "    {\n",
      "      \"type\": \"station\",\n",
      "      \"id\": \"4082f63f-30e8-375d-a326-b32cf7d86e02\",\n",
      "      \"meta\": {\n",
      "        \"role\": \"Moderátoři\"\n",
      "      }\n",
      "    }\n",
      "  ]\n",
      "}\n"
     ]
    }
   ],
   "source": [
    "print(mls[0])"
   ]
  },
  {
   "cell_type": "markdown",
   "id": "ce93b498",
   "metadata": {},
   "source": [
    "## Get station schedule day"
   ]
  },
  {
   "cell_type": "markdown",
   "id": "80d53322",
   "metadata": {},
   "source": [
    "### Get station schedule day flat"
   ]
  },
  {
   "cell_type": "code",
   "execution_count": 25,
   "id": "34d3a8b8",
   "metadata": {
    "execution": {
     "iopub.execute_input": "2023-10-22T18:23:26.513238Z",
     "iopub.status.busy": "2023-10-22T18:23:26.513000Z",
     "iopub.status.idle": "2023-10-22T18:23:26.522350Z",
     "shell.execute_reply": "2023-10-22T18:23:26.521826Z"
    }
   },
   "outputs": [],
   "source": [
    "day_schedule = cl.get_station_schedule_day_flat(\"2023-09-11\", \"11\")"
   ]
  },
  {
   "cell_type": "code",
   "execution_count": 26,
   "id": "2bb3bad4",
   "metadata": {
    "execution": {
     "iopub.execute_input": "2023-10-22T18:23:26.525442Z",
     "iopub.status.busy": "2023-10-22T18:23:26.525212Z",
     "iopub.status.idle": "2023-10-22T18:23:26.937326Z",
     "shell.execute_reply": "2023-10-22T18:23:26.936645Z"
    }
   },
   "outputs": [
    {
     "data": {
      "text/plain": [
       "[Episode_schedule(uuid='b76f6685-02dd-33ee-9bd8-5fcb5c19ba80', title='Zpravodajství z Česka i ze světa', description='Sport, Zelená vlna a předpověď počasí. O dopravní situaci informujte na bezplatné lince 800 553 553.', station='4082f63f-30e8-375d-a326-b32cf7d86e02', station_code=1, show_priority=0, show_times=None, since=datetime.datetime(2023, 9, 11, 0, 0, tzinfo=tzoffset(None, 7200)), till=datetime.datetime(2023, 9, 11, 0, 9, tzinfo=tzoffset(None, 7200))),\n",
       " Episode_schedule(uuid='b9973c2e-f6af-36ec-a281-0c0768c136c7', title='Informace o dopravní situaci volejte na bezplatnou linku 800 553 553.', description='', station='4082f63f-30e8-375d-a326-b32cf7d86e02', station_code=1, show_priority=0, show_times=None, since=datetime.datetime(2023, 9, 11, 0, 9, tzinfo=tzoffset(None, 7200)), till=datetime.datetime(2023, 9, 11, 0, 10, tzinfo=tzoffset(None, 7200))),\n",
       " Episode_schedule(uuid='003317bc-331d-3905-a318-62a1008bddc4', title='Aktuální reportáže a nejrychlejší zpravodajství', description='Moderuje Adam Carda a Jiří Štefl.', station='4082f63f-30e8-375d-a326-b32cf7d86e02', station_code=1, show_priority=0, show_times=None, since=datetime.datetime(2023, 9, 11, 0, 10, tzinfo=tzoffset(None, 7200)), till=datetime.datetime(2023, 9, 11, 0, 30, tzinfo=tzoffset(None, 7200)))]"
      ]
     },
     "execution_count": 26,
     "metadata": {},
     "output_type": "execute_result"
    }
   ],
   "source": [
    "list(day_schedule)[:3]"
   ]
  },
  {
   "cell_type": "markdown",
   "id": "9c68b737",
   "metadata": {},
   "source": [
    "### Get station schedule day"
   ]
  },
  {
   "cell_type": "code",
   "execution_count": 27,
   "id": "777735ff",
   "metadata": {
    "execution": {
     "iopub.execute_input": "2023-10-22T18:23:26.940342Z",
     "iopub.status.busy": "2023-10-22T18:23:26.940106Z",
     "iopub.status.idle": "2023-10-22T18:23:26.951305Z",
     "shell.execute_reply": "2023-10-22T18:23:26.950701Z"
    }
   },
   "outputs": [],
   "source": [
    "data = cl.get_station_schedule_day(\"2023-09-11\", \"11\")"
   ]
  },
  {
   "cell_type": "code",
   "execution_count": 28,
   "id": "590806ee",
   "metadata": {
    "execution": {
     "iopub.execute_input": "2023-10-22T18:23:26.953722Z",
     "iopub.status.busy": "2023-10-22T18:23:26.953525Z",
     "iopub.status.idle": "2023-10-22T18:23:27.393919Z",
     "shell.execute_reply": "2023-10-22T18:23:27.393290Z"
    }
   },
   "outputs": [],
   "source": [
    "ldata = list(data)"
   ]
  },
  {
   "cell_type": "code",
   "execution_count": 29,
   "id": "32a27031",
   "metadata": {
    "execution": {
     "iopub.execute_input": "2023-10-22T18:23:27.396495Z",
     "iopub.status.busy": "2023-10-22T18:23:27.396223Z",
     "iopub.status.idle": "2023-10-22T18:23:27.408241Z",
     "shell.execute_reply": "2023-10-22T18:23:27.407591Z"
    }
   },
   "outputs": [
    {
     "data": {
      "text/plain": [
       "[Episode_schedule(uuid='b76f6685-02dd-33ee-9bd8-5fcb5c19ba80', title='Zpravodajství z Česka i ze světa', description='Sport, Zelená vlna a předpověď počasí. O dopravní situaci informujte na bezplatné lince 800 553 553.', station='4082f63f-30e8-375d-a326-b32cf7d86e02', station_code=1, show_priority=0, show_times=None, since=datetime.datetime(2023, 9, 11, 0, 0, tzinfo=tzoffset(None, 7200)), till=datetime.datetime(2023, 9, 11, 0, 9, tzinfo=tzoffset(None, 7200))),\n",
       " Episode_schedule(uuid='b9973c2e-f6af-36ec-a281-0c0768c136c7', title='Informace o dopravní situaci volejte na bezplatnou linku 800 553 553.', description='', station='4082f63f-30e8-375d-a326-b32cf7d86e02', station_code=1, show_priority=0, show_times=None, since=datetime.datetime(2023, 9, 11, 0, 9, tzinfo=tzoffset(None, 7200)), till=datetime.datetime(2023, 9, 11, 0, 10, tzinfo=tzoffset(None, 7200))),\n",
       " Episode_schedule(uuid='003317bc-331d-3905-a318-62a1008bddc4', title='Aktuální reportáže a nejrychlejší zpravodajství', description='Moderuje Adam Carda a Jiří Štefl.', station='4082f63f-30e8-375d-a326-b32cf7d86e02', station_code=1, show_priority=0, show_times=None, since=datetime.datetime(2023, 9, 11, 0, 10, tzinfo=tzoffset(None, 7200)), till=datetime.datetime(2023, 9, 11, 1, 0, tzinfo=tzoffset(None, 7200)))]"
      ]
     },
     "execution_count": 29,
     "metadata": {},
     "output_type": "execute_result"
    }
   ],
   "source": [
    "ldata[:3]"
   ]
  },
  {
   "cell_type": "code",
   "execution_count": 30,
   "id": "827fd61e",
   "metadata": {
    "execution": {
     "iopub.execute_input": "2023-10-22T18:23:27.411051Z",
     "iopub.status.busy": "2023-10-22T18:23:27.410823Z",
     "iopub.status.idle": "2023-10-22T18:23:27.421091Z",
     "shell.execute_reply": "2023-10-22T18:23:27.420379Z"
    }
   },
   "outputs": [
    {
     "data": {
      "text/plain": [
       "Episode_schedule(uuid='b9973c2e-f6af-36ec-a281-0c0768c136c7', title='Informace o dopravní situaci volejte na bezplatnou linku 800 553 553.', description='', station='4082f63f-30e8-375d-a326-b32cf7d86e02', station_code=1, show_priority=0, show_times=None, since=datetime.datetime(2023, 9, 11, 0, 9, tzinfo=tzoffset(None, 7200)), till=datetime.datetime(2023, 9, 11, 0, 10, tzinfo=tzoffset(None, 7200)))"
      ]
     },
     "execution_count": 30,
     "metadata": {},
     "output_type": "execute_result"
    }
   ],
   "source": [
    "ldata[1]"
   ]
  },
  {
   "cell_type": "code",
   "execution_count": 31,
   "id": "4de50d36",
   "metadata": {
    "execution": {
     "iopub.execute_input": "2023-10-22T18:23:27.423946Z",
     "iopub.status.busy": "2023-10-22T18:23:27.423757Z",
     "iopub.status.idle": "2023-10-22T18:23:27.434623Z",
     "shell.execute_reply": "2023-10-22T18:23:27.434022Z"
    }
   },
   "outputs": [
    {
     "name": "stdout",
     "output_type": "stream",
     "text": [
      "{\n",
      "  \"uuid\": \"b9973c2e-f6af-36ec-a281-0c0768c136c7\",\n",
      "  \"title\": \"Informace o dopravní situaci volejte na bezplatnou linku 800 553 553.\",\n",
      "  \"description\": \"\",\n",
      "  \"station\": \"4082f63f-30e8-375d-a326-b32cf7d86e02\",\n",
      "  \"station_code\": 1,\n",
      "  \"show_priority\": 0,\n",
      "  \"show_times\": null,\n",
      "  \"since\": \"2023-09-11T00:09:00+02:00\",\n",
      "  \"till\": \"2023-09-11T00:10:00+02:00\"\n",
      "}\n"
     ]
    }
   ],
   "source": [
    "print(ldata[1])"
   ]
  },
  {
   "cell_type": "code",
   "execution_count": null,
   "id": "79afeff5",
   "metadata": {},
   "outputs": [],
   "source": []
  }
 ],
 "metadata": {
  "jupytext": {
   "formats": "ipynb,py:percent"
  },
  "kernelspec": {
   "display_name": "Python 3 (ipykernel)",
   "language": "python",
   "name": "python3"
  },
  "language_info": {
   "codemirror_mode": {
    "name": "ipython",
    "version": 3
   },
   "file_extension": ".py",
   "mimetype": "text/x-python",
   "name": "python",
   "nbconvert_exporter": "python",
   "pygments_lexer": "ipython3",
   "version": "3.11.5"
  }
 },
 "nbformat": 4,
 "nbformat_minor": 5
}