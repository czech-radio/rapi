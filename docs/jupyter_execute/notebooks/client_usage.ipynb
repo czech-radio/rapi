{
 "cells": [
  {
   "attachments": {},
   "cell_type": "markdown",
   "id": "2d47e36a-9e3b-4ab5-8846-f7f3ad358a50",
   "metadata": {
    "scrolled": true
   },
   "source": [
    "# Library Showcase"
   ]
  },
  {
   "attachments": {},
   "cell_type": "markdown",
   "id": "c6d8d510",
   "metadata": {},
   "source": [
    "FIXME: Add some description"
   ]
  },
  {
   "cell_type": "code",
   "execution_count": 1,
   "id": "dbb67e18-771e-4ace-8bba-3d66407aa10f",
   "metadata": {},
   "outputs": [],
   "source": [
    "%reload_ext autoreload\n",
    "%autoreload 2"
   ]
  },
  {
   "cell_type": "code",
   "execution_count": 2,
   "id": "b1ee5230-a100-4525-b1af-052708fe7ce3",
   "metadata": {
    "scrolled": true
   },
   "outputs": [],
   "source": [
    "from rapi import Client"
   ]
  },
  {
   "cell_type": "code",
   "execution_count": 3,
   "id": "f01046d8-7014-4751-a0d4-d71990e6c565",
   "metadata": {
    "scrolled": true
   },
   "outputs": [],
   "source": [
    "cl = Client()"
   ]
  },
  {
   "attachments": {},
   "cell_type": "markdown",
   "id": "be16e53f",
   "metadata": {},
   "source": [
    "## Get all available stations"
   ]
  },
  {
   "cell_type": "code",
   "execution_count": 4,
   "id": "252f11ef",
   "metadata": {},
   "outputs": [
    {
     "data": {
      "text/plain": [
       "27"
      ]
     },
     "execution_count": 4,
     "metadata": {},
     "output_type": "execute_result"
    }
   ],
   "source": [
    "stations = cl.get_stations()\n",
    "len(list(stations))"
   ]
  },
  {
   "attachments": {},
   "cell_type": "markdown",
   "id": "2a4321a0",
   "metadata": {},
   "source": [
    "## Get all shows for given station"
   ]
  },
  {
   "cell_type": "code",
   "execution_count": 5,
   "id": "082adf7e-6f1f-4791-a361-a50cee8be563",
   "metadata": {},
   "outputs": [],
   "source": [
    "shows = cl.get_station_shows(\"11\")"
   ]
  },
  {
   "cell_type": "code",
   "execution_count": 6,
   "id": "a7354b72",
   "metadata": {},
   "outputs": [
    {
     "data": {
      "text/plain": [
       "[Show(uuid='c239aa59-bc78-3180-9b58-5c911846630d', type='show', content=True, title='100 statečných', active=False, aired=False, podcast=False, priority=0, child_friendly=False, description='100 hostů, 52 hodin a dva zkušení moderátoři.', description_short='100 hostů, 52 hodin a dva zkušení moderátoři.', updated=datetime.datetime(2021, 3, 20, 23, 30, 9, tzinfo=tzoffset(None, 3600))),\n",
       " Show(uuid='af62bd59-1e49-3dae-a68b-90b11f5d2ae6', type='show', content=True, title='90 statečných', active=False, aired=False, podcast=False, priority=0, child_friendly=False, description='Dokázali jsme to a vytvořili jsme nový rekord v rozhlasovém moderování!', description_short='Dokázali jsme to a vytvořili jsme nový rekord v rozhlasovém moderování!', updated=datetime.datetime(2021, 3, 20, 23, 30, 9, tzinfo=tzoffset(None, 3600))),\n",
       " Show(uuid='d88f0d67-6ba1-3ba5-8fea-01e41a614037', type='show', content=True, title='Antivirus', active=True, aired=True, podcast=True, priority=0, child_friendly=False, description='Pořad o technologiích a bezpečnosti na internetu. Jan Cibulka a Jana Magdoňová se zaměří na nástrahy on-line světa. Budou mluvit o aktuálních kyberútocích a podvodech na internetu a přidají i tipy, jak chránit sebe i své děti nebo rodiče. Antivirus doplní články na zpravodajském webu iRozhlas.cz.', description_short='Pořad o technologiích a bezpečnosti na internetu. Jan Cibulka a Jana Magdoňová se zaměří na nástrahy on-line světa.\\xa0', updated=datetime.datetime(2023, 9, 4, 10, 0, 10, tzinfo=tzoffset(None, 7200)))]"
      ]
     },
     "execution_count": 6,
     "metadata": {},
     "output_type": "execute_result"
    }
   ],
   "source": [
    "list(shows)[:3]"
   ]
  },
  {
   "cell_type": "markdown",
   "id": "e5a1c497-772e-42db-a69b-c387e86bad58",
   "metadata": {},
   "source": [
    "## Get particular show by UUID"
   ]
  },
  {
   "cell_type": "code",
   "execution_count": 7,
   "id": "7e3ff3c5",
   "metadata": {},
   "outputs": [
    {
     "data": {
      "text/plain": [
       "Show(uuid='739a46c7-35e3-336e-a7d5-08a20b7e7677', type='show', content=True, title='Rozhovory Radiožurnálu', active=True, aired=True, podcast=False, priority=0, child_friendly=False, description='Ptáme se na všechno, co vás zajímá. Každý den se snažíme kontaktovat politiky, specialisty a odborníky z nejrůznějších profesí, abychom vám nabídli jejich názory a pohledy na nejaktuálnější témata.', description_short='Každý den se snažíme kontaktovat politiky, specialisty a odborníky z nejrůznějších profesí, abychom vám nabídli jejich názory a pohledy na nejaktuálnější témata.', updated=datetime.datetime(2023, 7, 14, 17, 0, 12, tzinfo=tzoffset(None, 7200)))"
      ]
     },
     "execution_count": 7,
     "metadata": {},
     "output_type": "execute_result"
    }
   ],
   "source": [
    "cl.get_show(\"739a46c7-35e3-336e-a7d5-08a20b7e7677\")"
   ]
  },
  {
   "cell_type": "markdown",
   "id": "bada9b79-5eef-4b4f-83f9-1b2470007967",
   "metadata": {},
   "source": [
    "## Get show episodes"
   ]
  },
  {
   "cell_type": "code",
   "execution_count": 8,
   "id": "aeef3e5c-6a52-436b-ba7f-81ee3ce65e8a",
   "metadata": {},
   "outputs": [],
   "source": [
    "episodes = cl.get_show_episodes(\"739a46c7-35e3-336e-a7d5-08a20b7e7677\")"
   ]
  },
  {
   "cell_type": "code",
   "execution_count": 9,
   "id": "f7541344-fccd-4b31-861c-98c878d0d4d2",
   "metadata": {},
   "outputs": [
    {
     "data": {
      "text/plain": [
       "[Episode(uuid='036a7f04-ed74-35a1-9923-0e8210d42435', title='Šlápli jsme na záchrannou brzdu, blokované weby můžeme uvolnit po jednom měsíci, říká Filip z CZ.NIC', title_short='Šlápli jsme na záchrannou brzdu, blokované weby můžeme uvolnit po jednom měsíci, říká Filip z CZ.NIC', description='<p>Sdružení CZ.NIC, které spravuje českou internetovou doménu, před týdnem rozhodlo o zablokování osmi tuzemských webů. Svůj postup odůvodnilo tím, že zmíněné stránky šířily v souvislosti s ruskou invazí na Ukrajinu dezinformace a ohrožovaly tak národní bezpečnost. „Naše pravidla říkají, že blokace může být maximálně na jeden měsíc, pak je potřeba ji znovu zvážit,“ objasňuje výkonný ředitel sdružení CZ.NIC Ondřej Filip.<br>\\nJan Pokorný</p>', since=datetime.datetime(2022, 3, 6, 8, 40, tzinfo=tzoffset(None, 3600)), till=datetime.datetime(2022, 3, 6, 8, 43, 13, tzinfo=tzoffset(None, 3600)), updated=datetime.datetime(2022, 3, 6, 10, 40, 36, tzinfo=tzoffset(None, 3600)), part=None, title_mirrored='Rozhovory Radiožurnálu', content_creator='radiozurnal', content_id='10139151', base_id=None),\n",
       " Episode(uuid='07c812e2-6bc3-3f22-bb18-b7ec85c6cddc', title='Analytik: Kdo vydrží déle? Rusové se budou snažit Ukrajince vyhladovět. Jenže pod tlakem je i Rusko', title_short='Svárovský: Rusové se budou snažit Ukrajince vyhladovět. Západ musí zajistit dodávky jídla a zbraní', description='<p>Ruská armáda má zastavit palbu a otevřít humanitární koridory v několika ukrajinských městech, aby umožnila odchod civilistů. Podle britské vojenské rozvědky se ale ruské jednotky při odstřelování zaměřují na obydlené oblasti. „Věřit se ruské armádě moc nedá, zaměření se na města vyplývá z&nbsp;průběhu operace,“ říká vedoucí Programu bezpečnostních strategií Bezpečnostního centra Evropské hodnoty Martin Svárovský.<br>\\nJan Pokorný</p>', since=datetime.datetime(2022, 3, 7, 10, 20, tzinfo=tzoffset(None, 3600)), till=datetime.datetime(2022, 3, 7, 10, 24, 49, tzinfo=tzoffset(None, 3600)), updated=datetime.datetime(2022, 3, 7, 10, 30, 31, tzinfo=tzoffset(None, 3600)), part=None, title_mirrored='Rozhovory Radiožurnálu', content_creator='radiozurnal', content_id='10139979', base_id=None),\n",
       " Episode(uuid='143dc660-137c-3e51-8243-8436c068977f', title='Měsíc do prezidentských voleb. Karel Diviš se vrací do hry, Denise Rohanové naopak soud kandidaturu neuznal', title_short='Karel Diviš se vrací do hry, Denise Rohanové naopak soud prezidentskou kandidaturu neuznal', description='<p>Mezi kandidáty na prezidenta se zařadí podnikatel Karel Diviš. Podnikatel Karel Janeček naopak o Hrad bojovat nebude. Stejně jako Denisa Rohanová. Rozhodl o tom v úterý Nejvyšší správní soud, který tak uzavřel seznam lidí, kteří budou kandidovat na prezidenta. Bude jich celkem devět. Janeček a Rohanová se kvůli neuznané kandidatuře obrátí na Ústavní soud, řekli ve vysílání CNN Prima News.<br>\\nZuzana Machálková</p>', since=datetime.datetime(2022, 12, 13, 11, 47, tzinfo=tzoffset(None, 3600)), till=datetime.datetime(2022, 12, 13, 11, 57, 56, tzinfo=tzoffset(None, 3600)), updated=datetime.datetime(2023, 1, 2, 14, 0, 25, tzinfo=tzoffset(None, 3600)), part=None, title_mirrored='Rozhovory Radiožurnálu', content_creator='radiozurnal', content_id='10516074', base_id=None)]"
      ]
     },
     "execution_count": 9,
     "metadata": {},
     "output_type": "execute_result"
    }
   ],
   "source": [
    "list(episodes)[:3]"
   ]
  },
  {
   "cell_type": "markdown",
   "id": "7a56e5f3-dbf9-491f-a4a2-1d2543e5373a",
   "metadata": {},
   "source": [
    "## Filter show episodes by date"
   ]
  },
  {
   "cell_type": "code",
   "execution_count": 10,
   "id": "a47d13ac-2284-4c4b-8f7b-b9ebb2783a2e",
   "metadata": {},
   "outputs": [],
   "source": [
    "episodes = cl.show_episodes_filter(\n",
    "    \"739a46c7-35e3-336e-a7d5-08a20b7e7677\", \"2022\", \"2023\"\n",
    ")"
   ]
  },
  {
   "cell_type": "code",
   "execution_count": 11,
   "id": "f65052cd-2f01-482b-8933-fe78562d225c",
   "metadata": {},
   "outputs": [
    {
     "data": {
      "text/plain": [
       "[Episode(uuid='143dc660-137c-3e51-8243-8436c068977f', title='Měsíc do prezidentských voleb. Karel Diviš se vrací do hry, Denise Rohanové naopak soud kandidaturu neuznal', title_short='Karel Diviš se vrací do hry, Denise Rohanové naopak soud prezidentskou kandidaturu neuznal', description='<p>Mezi kandidáty na prezidenta se zařadí podnikatel Karel Diviš. Podnikatel Karel Janeček naopak o Hrad bojovat nebude. Stejně jako Denisa Rohanová. Rozhodl o tom v úterý Nejvyšší správní soud, který tak uzavřel seznam lidí, kteří budou kandidovat na prezidenta. Bude jich celkem devět. Janeček a Rohanová se kvůli neuznané kandidatuře obrátí na Ústavní soud, řekli ve vysílání CNN Prima News.<br>\\nZuzana Machálková</p>', since=datetime.datetime(2022, 12, 13, 11, 47, tzinfo=tzoffset(None, 3600)), till=datetime.datetime(2022, 12, 13, 11, 57, 56, tzinfo=tzoffset(None, 3600)), updated=datetime.datetime(2023, 1, 2, 14, 0, 25, tzinfo=tzoffset(None, 3600)), part=None, title_mirrored='Rozhovory Radiožurnálu', content_creator='radiozurnal', content_id='10516074', base_id=None),\n",
       " Episode(uuid='19c600d1-c560-3ac0-93f3-a8b4e03d78b3', title='Dvacetimetrová fronta na cigarety. Češi vyráží do Polska za předvánočními nákupy', title_short='Dvacetimetrová fronta na cigarety. Češi vyráží do Polska za předvánočními nákupy', description='<p>Podobně jako o minulých víkendech i dnes tisíce Čechů vyráží do Polska za předvánočními nákupy. Lákají je nízké ceny. Polská vláda totiž v únoru kvůli vysoké inflaci snížila daň z přidané hodnoty. „Parkoviště u obchodních řetězců jsou slušně zaplněná. Žena, která tu vybírá parkovné, mi v&nbsp;nadsázce řekla, že se sem vejde celé Česko,“ popisuje reportér Jakub Vik z&nbsp;města Kudowa Zdrój nedaleko Náchoda.<br>\\nVojtěch Bidrman</p>', since=datetime.datetime(2022, 12, 3, 11, 27, tzinfo=tzoffset(None, 3600)), till=datetime.datetime(2022, 12, 3, 11, 29, 27, tzinfo=tzoffset(None, 3600)), updated=datetime.datetime(2022, 12, 3, 11, 40, 11, tzinfo=tzoffset(None, 3600)), part=None, title_mirrored='Rozhovory Radiožurnálu', content_creator='radiozurnal', content_id='10502178', base_id=None),\n",
       " Episode(uuid='1ebd3d43-fc96-3e19-a494-73916e389a3e', title='Chůze je sexy. Přidejte si k denní chůzi dvacet procent, i to pomůže, radí lékař', title_short='Chůze je sexy. Přidejte si k denní chůzi dvacet procent, i to pomůže, radí lékař', description='<p>Jen čtyři tisíce kroků stačí k tomu, aby se snížilo riziko předčasného úmrtí, a pouhých 2300 prospěje srdci a cévám&nbsp;– to tvrdí tým z Lékařské univerzity v Lodži a americké Univerzity Johnse Hopkinse. Ještě před několika lety bylo ale ideálním číslem 10 000 kroků, čili zhruba sedm kilometrů denně. Jak to tedy je? Poslechněte si rozhovor s primářem II. interní kliniky kardiologie a angiologie Všeobecné fakultní nemocnice v Praze Alešem Linhartem.<br>\\nŠtěpán Pokorný</p>', since=datetime.datetime(2023, 8, 11, 9, 35, tzinfo=tzoffset(None, 7200)), till=datetime.datetime(2023, 8, 11, 9, 40, 14, tzinfo=tzoffset(None, 7200)), updated=datetime.datetime(2023, 8, 11, 10, 25, 15, tzinfo=tzoffset(None, 7200)), part=None, title_mirrored='Rozhovory Radiožurnálu', content_creator='radiozurnal', content_id='10875017', base_id=None)]"
      ]
     },
     "execution_count": 11,
     "metadata": {},
     "output_type": "execute_result"
    }
   ],
   "source": [
    "list(episodes)[:3]"
   ]
  },
  {
   "cell_type": "code",
   "execution_count": 12,
   "id": "65dab0cc-490a-4f06-a212-baedf5a811c7",
   "metadata": {},
   "outputs": [],
   "source": [
    "episodes = cl.show_episodes_filter(\n",
    "    \"739a46c7-35e3-336e-a7d5-08a20b7e7677\",\n",
    "    \"2022-08-11\",\n",
    "    \"2023-09-11\",\n",
    ")"
   ]
  },
  {
   "cell_type": "code",
   "execution_count": 13,
   "id": "7f66fbed-3f80-4935-b150-7ede335073a2",
   "metadata": {},
   "outputs": [
    {
     "data": {
      "text/plain": [
       "[Episode(uuid='143dc660-137c-3e51-8243-8436c068977f', title='Měsíc do prezidentských voleb. Karel Diviš se vrací do hry, Denise Rohanové naopak soud kandidaturu neuznal', title_short='Karel Diviš se vrací do hry, Denise Rohanové naopak soud prezidentskou kandidaturu neuznal', description='<p>Mezi kandidáty na prezidenta se zařadí podnikatel Karel Diviš. Podnikatel Karel Janeček naopak o Hrad bojovat nebude. Stejně jako Denisa Rohanová. Rozhodl o tom v úterý Nejvyšší správní soud, který tak uzavřel seznam lidí, kteří budou kandidovat na prezidenta. Bude jich celkem devět. Janeček a Rohanová se kvůli neuznané kandidatuře obrátí na Ústavní soud, řekli ve vysílání CNN Prima News.<br>\\nZuzana Machálková</p>', since=datetime.datetime(2022, 12, 13, 11, 47, tzinfo=tzoffset(None, 3600)), till=datetime.datetime(2022, 12, 13, 11, 57, 56, tzinfo=tzoffset(None, 3600)), updated=datetime.datetime(2023, 1, 2, 14, 0, 25, tzinfo=tzoffset(None, 3600)), part=None, title_mirrored='Rozhovory Radiožurnálu', content_creator='radiozurnal', content_id='10516074', base_id=None),\n",
       " Episode(uuid='19c600d1-c560-3ac0-93f3-a8b4e03d78b3', title='Dvacetimetrová fronta na cigarety. Češi vyráží do Polska za předvánočními nákupy', title_short='Dvacetimetrová fronta na cigarety. Češi vyráží do Polska za předvánočními nákupy', description='<p>Podobně jako o minulých víkendech i dnes tisíce Čechů vyráží do Polska za předvánočními nákupy. Lákají je nízké ceny. Polská vláda totiž v únoru kvůli vysoké inflaci snížila daň z přidané hodnoty. „Parkoviště u obchodních řetězců jsou slušně zaplněná. Žena, která tu vybírá parkovné, mi v&nbsp;nadsázce řekla, že se sem vejde celé Česko,“ popisuje reportér Jakub Vik z&nbsp;města Kudowa Zdrój nedaleko Náchoda.<br>\\nVojtěch Bidrman</p>', since=datetime.datetime(2022, 12, 3, 11, 27, tzinfo=tzoffset(None, 3600)), till=datetime.datetime(2022, 12, 3, 11, 29, 27, tzinfo=tzoffset(None, 3600)), updated=datetime.datetime(2022, 12, 3, 11, 40, 11, tzinfo=tzoffset(None, 3600)), part=None, title_mirrored='Rozhovory Radiožurnálu', content_creator='radiozurnal', content_id='10502178', base_id=None),\n",
       " Episode(uuid='1ebd3d43-fc96-3e19-a494-73916e389a3e', title='Chůze je sexy. Přidejte si k denní chůzi dvacet procent, i to pomůže, radí lékař', title_short='Chůze je sexy. Přidejte si k denní chůzi dvacet procent, i to pomůže, radí lékař', description='<p>Jen čtyři tisíce kroků stačí k tomu, aby se snížilo riziko předčasného úmrtí, a pouhých 2300 prospěje srdci a cévám&nbsp;– to tvrdí tým z Lékařské univerzity v Lodži a americké Univerzity Johnse Hopkinse. Ještě před několika lety bylo ale ideálním číslem 10 000 kroků, čili zhruba sedm kilometrů denně. Jak to tedy je? Poslechněte si rozhovor s primářem II. interní kliniky kardiologie a angiologie Všeobecné fakultní nemocnice v Praze Alešem Linhartem.<br>\\nŠtěpán Pokorný</p>', since=datetime.datetime(2023, 8, 11, 9, 35, tzinfo=tzoffset(None, 7200)), till=datetime.datetime(2023, 8, 11, 9, 40, 14, tzinfo=tzoffset(None, 7200)), updated=datetime.datetime(2023, 8, 11, 10, 25, 15, tzinfo=tzoffset(None, 7200)), part=None, title_mirrored='Rozhovory Radiožurnálu', content_creator='radiozurnal', content_id='10875017', base_id=None)]"
      ]
     },
     "execution_count": 13,
     "metadata": {},
     "output_type": "execute_result"
    }
   ],
   "source": [
    "list(episodes)[:3]"
   ]
  },
  {
   "cell_type": "code",
   "execution_count": 14,
   "id": "fd48392f-93f1-4f99-b1ba-3b62573ea285",
   "metadata": {},
   "outputs": [],
   "source": [
    "eps_schedule = cl.get_schedule(\"2023-09-17\", \"2023-09-18\")"
   ]
  },
  {
   "cell_type": "code",
   "execution_count": 15,
   "id": "27c0364f-1253-45b0-b920-dacfdf662457",
   "metadata": {},
   "outputs": [
    {
     "data": {
      "text/plain": [
       "[Episode_schedule(uuid='000b180f-3215-3cc4-abed-81c3c9d5cf27', title='Aktuální události doma i ve světě', description='', station='c639d927-f37b-3db8-a64f-1d64ee1469b2', station_code=97, show_priority=0, show_times=None, since=datetime.datetime(2023, 9, 17, 2, 0, tzinfo=tzoffset(None, 7200)), till=datetime.datetime(2023, 9, 17, 2, 5, tzinfo=tzoffset(None, 7200))),\n",
       " Episode_schedule(uuid='001db6b6-f7e1-3683-aba8-b408a7f45a50', title='Richard Mayer: Island', description='Fantazie pro klavír. Hraje Vlastimil Bialas. - Karl Ottó Runólfsson: Sonáta pro trubku a klavír. Hrají Vlastimil Bialas a Milan Bialas. - Jórunn Vidarová: Písně. Výběr. Zpívá Helga Rós Indridadóttir, hraje Gudrun Dalía Salómonsdóttir (klavír). - - Porkell Sigurbjörnsson: Šest islandských lidových písní pro violu a klavír. Hrají Svava Bernhardsdóttir a Anna Gudný Gudmundsdóttir. - Jón Leifs: Tři obrazy pro orchestr. Hraje Islandský symfonický orchestr, řídí Paul Zukofsky. (Brno)', station='0134ce01-8684-3556-b568-f208392ac0bd', station_code=3, show_priority=0, show_times=None, since=datetime.datetime(2023, 9, 17, 0, 30, tzinfo=tzoffset(None, 7200)), till=datetime.datetime(2023, 9, 17, 1, 30, tzinfo=tzoffset(None, 7200))),\n",
       " Episode_schedule(uuid='0050e40c-cb40-355a-88ae-fb37e594bbdd', title='Zprávy z Vysočiny - 17. 9. 2023', description='', station='36dc9675-1fe8-3c69-b362-ee6784b04ef0', station_code=84, show_priority=0, show_times=None, since=datetime.datetime(2023, 9, 17, 9, 0, tzinfo=tzoffset(None, 7200)), till=datetime.datetime(2023, 9, 17, 9, 3, 30, tzinfo=tzoffset(None, 7200)))]"
      ]
     },
     "execution_count": 15,
     "metadata": {},
     "output_type": "execute_result"
    }
   ],
   "source": [
    "list(eps_schedule)[:3]"
   ]
  },
  {
   "cell_type": "code",
   "execution_count": 16,
   "id": "a53eeb16-2100-4bb5-9b62-d4c5bd5b633b",
   "metadata": {},
   "outputs": [],
   "source": [
    "eps_schedule = cl.get_schedule(\"2023-09-17T8:00\", \"2023-09-17T9:00\")"
   ]
  },
  {
   "cell_type": "code",
   "execution_count": 17,
   "id": "0d4ef163-a340-4aa8-add3-1a8934e14e18",
   "metadata": {},
   "outputs": [
    {
     "data": {
      "text/plain": [
       "[Episode_schedule(uuid='078b9557-2841-3885-be54-47ff0585420d', title='Pozvánky a tipy na kulturní i společenské akce v Plzeňském kraji', description='Moderuje Ondřej Kapic', station='bbe67c0f-4848-355e-a0ab-28f40ade3d38', station_code=5, show_priority=0, show_times=None, since=datetime.datetime(2023, 9, 17, 8, 50, tzinfo=tzoffset(None, 7200)), till=datetime.datetime(2023, 9, 17, 8, 55, tzinfo=tzoffset(None, 7200))),\n",
       " Episode_schedule(uuid='0e4ef764-5bc2-3db0-b3f3-07fd068e6ed0', title='Vysílání v němčině - 17. 9. 2023', description='', station='6731e7ee-98e7-36c3-993b-3122ad1317d1', station_code=12, show_priority=0, show_times=None, since=datetime.datetime(2023, 9, 17, 8, 0, tzinfo=tzoffset(None, 7200)), till=datetime.datetime(2023, 9, 17, 8, 30, tzinfo=tzoffset(None, 7200))),\n",
       " Episode_schedule(uuid='0e64fddd-51b1-3b92-8bc9-bc7441c7f28e', title='Zpravodajství z Česka i ze světa', description='Sport, Zelená vlna a předpověď počasí. O dopravní situaci informujte na bezplatné lince 800 553 553.', station='4082f63f-30e8-375d-a326-b32cf7d86e02', station_code=1, show_priority=0, show_times=None, since=datetime.datetime(2023, 9, 17, 8, 45, tzinfo=tzoffset(None, 7200)), till=datetime.datetime(2023, 9, 17, 8, 45, 30, tzinfo=tzoffset(None, 7200)))]"
      ]
     },
     "execution_count": 17,
     "metadata": {},
     "output_type": "execute_result"
    }
   ],
   "source": [
    "list(eps_schedule)[:3]"
   ]
  },
  {
   "cell_type": "markdown",
   "id": "aa10e832-cc9c-4e4f-b03c-006cdc9849d7",
   "metadata": {},
   "source": [
    "### Get schedule filter by date and station (slow)list(eps_schedule)[:3]"
   ]
  },
  {
   "cell_type": "code",
   "execution_count": 18,
   "id": "22cfb1b0-a380-4f1f-b1cc-9a9265323c3c",
   "metadata": {},
   "outputs": [],
   "source": [
    "eps_schedule = cl.get_schedule(\"2023-09-17T8:00\", \"2023-09-17T9:00\", \"11\")"
   ]
  },
  {
   "cell_type": "code",
   "execution_count": 19,
   "id": "4168e3bb-e4b9-4a9d-91df-e8e41e5847b8",
   "metadata": {},
   "outputs": [
    {
     "data": {
      "text/plain": [
       "[Episode_schedule(uuid='0e64fddd-51b1-3b92-8bc9-bc7441c7f28e', title='Zpravodajství z Česka i ze světa', description='Sport, Zelená vlna a předpověď počasí. O dopravní situaci informujte na bezplatné lince 800 553 553.', station='4082f63f-30e8-375d-a326-b32cf7d86e02', station_code=1, show_priority=0, show_times=None, since=datetime.datetime(2023, 9, 17, 8, 45, tzinfo=tzoffset(None, 7200)), till=datetime.datetime(2023, 9, 17, 8, 45, 30, tzinfo=tzoffset(None, 7200))),\n",
       " Episode_schedule(uuid='528f6d40-3a45-3e23-af9c-27a033fdf1d5', title='V Ostravě pokračují Dny NATO', description='Na první den přehlídky armádní techniky a bezpečnostních složek dorazilo podle organizátorů asi 100 tisíc lidí. I dnes návštěvníci uvidí třeba americké stíhačky F35 nebo švédské gripeny. Obhájci extraligového titulu z Třince se poprvé v nové sezoně nejvyšší hokejové soutěže představí svým fanouškům na domácím ledě. Extraliga nabídne ale i dalších 6 zápasů. Všechny souboje v přímém přenosu naladíte na webových stránkách irozhlas.cz, radiozurnalsport.cz a také v aplikaci Můj rozhlas. Který z nich si vybrat, to vám napovíme. Pokud chcete změnit zdravotní pojišťovnu, máte na to už jen dva týdny. Další příležitost pak bude zase až po Novém roce. Na výši pojistného sice nic neuspoříte, jednotlivé pojišťovny se ale liší v nabízených benefitech třeba příspěvcích na výživu pro děti, nebo dentální hygienu. Na co si dát při změně pozor? Ještě mu není osmnáct, ale už má na tři stovky medailí z celého světa. Karel Korenc z Loun se od pěti let věnuje bojovému umění kung-fu a je několikanásobný mistr Evropy, šampion Ameriky a taky mistr světa. V dětství ho nadchly filmy o bojovnících, teď mezi ně díky svému talentu patří. Víc se dozvíte v dalším díle seriálu Mladí a nadaní. Aktuální reportáže a nejrychlejší zpravodajství, informace z denního tisku. Moderuje Štěpán Pokorný.', station='4082f63f-30e8-375d-a326-b32cf7d86e02', station_code=1, show_priority=0, show_times=None, since=datetime.datetime(2023, 9, 17, 8, 5, 30, tzinfo=tzoffset(None, 7200)), till=datetime.datetime(2023, 9, 17, 9, 0, tzinfo=tzoffset(None, 7200))),\n",
       " Episode_schedule(uuid='5a457c8f-588e-32e3-b8aa-b8fa0d1ba0aa', title='Z domova i ze světa', description='Sport, Zelená vlna a počasí. O dopravní situaci informujte na bezplatné lince 800 553 553.', station='4082f63f-30e8-375d-a326-b32cf7d86e02', station_code=1, show_priority=0, show_times=None, since=datetime.datetime(2023, 9, 17, 8, 0, tzinfo=tzoffset(None, 7200)), till=datetime.datetime(2023, 9, 17, 8, 4, 30, tzinfo=tzoffset(None, 7200)))]"
      ]
     },
     "execution_count": 19,
     "metadata": {},
     "output_type": "execute_result"
    }
   ],
   "source": [
    "list(eps_schedule)[:3]"
   ]
  },
  {
   "cell_type": "markdown",
   "id": "0121451b-be7f-4c88-afc9-5bc03e2cece9",
   "metadata": {},
   "source": [
    "## Get show participants with role"
   ]
  },
  {
   "cell_type": "code",
   "execution_count": 20,
   "id": "e4f541c3-f613-4090-8a41-e67088e58892",
   "metadata": {},
   "outputs": [],
   "source": [
    "participants = cl.get_show_participants_with_roles(\n",
    "    \"c7374f41-ae14-3b5c-8c04-385e3241deb4\"\n",
    ")"
   ]
  },
  {
   "cell_type": "code",
   "execution_count": 21,
   "id": "7c46d351-6b3f-4cf2-8114-c98c319d2e95",
   "metadata": {},
   "outputs": [
    {
     "data": {
      "text/plain": [
       "[Person(uuid='4bb6cd4a-a5e8-3e48-a36e-06d7ac7e4f0f', title='Jiří Chum', description_short='<p>Moderuje každý všední den Dopolední Radiožurnál.</p>', description='<p><strong>Co dělám v rozhlase:</strong></p>\\n\\n<p><span>Na Radiožurnálu moderuji od roku 2002, od března 2008 do prosince 2010 Odpolední Radiožurnál a od ledna 2011\\xa0</span>Večerní Radiožurnál<span>\\xa0a ob týden\\xa0</span>Víkendový Ranní Radiožurnál<span>. Deset let jsem moderoval každý všední den Ranní Radiožurnál a od 1. července 2022 usedám za mikrofon Dopoledního Radiožurnálu. Ještě déle spolupracuji s regionální stanicí ČRo Region střední Čechy. V současnosti ale už jen v oblasti selfpromotion.</span></p>\\n\\n<p><strong>Před rozhlasem:</strong><br />\\nVystudoval jsem SSPoŠ Kolín se zaměřením na ekonomiku a management, poté si dal na pár let pauzu a v současnosti studuji Fakultu multimediálních komunikaci UTB ve Zlíně obor Marketingové komunikace. Z rádiové praxe: rádio City 937 a dlouhá léta Český rozhlas, kterému jsem nakonec zůstal věrný.</p>\\n\\n<p><strong></strong></p>\\n\\n', profile_id='5002938', role='moderator', participation_link='https://api.mujrozhlas.cz/persons/4bb6cd4a-a5e8-3e48-a36e-06d7ac7e4f0f/participation', participation_data=[{'type': 'station', 'id': '4082f63f-30e8-375d-a326-b32cf7d86e02', 'meta': {'role': 'Moderátoři'}}])]"
      ]
     },
     "execution_count": 21,
     "metadata": {},
     "output_type": "execute_result"
    }
   ],
   "source": [
    "list(participants)"
   ]
  },
  {
   "cell_type": "markdown",
   "id": "14373f36-3b4e-4d73-a67d-e46cdc19371b",
   "metadata": {},
   "source": [
    "## Get show moderators"
   ]
  },
  {
   "cell_type": "code",
   "execution_count": 22,
   "id": "367b8394-84a7-4581-af5a-734d6699ddad",
   "metadata": {},
   "outputs": [],
   "source": [
    "moderators = cl.get_show_moderators(\"c7374f41-ae14-3b5c-8c04-385e3241deb4\")"
   ]
  },
  {
   "cell_type": "code",
   "execution_count": 23,
   "id": "5793879a-0ac0-4f4e-81fe-914027252e23",
   "metadata": {},
   "outputs": [],
   "source": [
    "mls = list(moderators)"
   ]
  },
  {
   "cell_type": "code",
   "execution_count": 24,
   "id": "ada4e527-5a6c-4d20-a9f9-82d77740118f",
   "metadata": {},
   "outputs": [
    {
     "name": "stdout",
     "output_type": "stream",
     "text": [
      "{\n",
      "  \"uuid\": \"4bb6cd4a-a5e8-3e48-a36e-06d7ac7e4f0f\",\n",
      "  \"title\": \"Jiří Chum\",\n",
      "  \"description_short\": \"<p>Moderuje každý všední den Dopolední Radiožurnál.</p>\",\n",
      "  \"description\": \"<p><strong>Co dělám v rozhlase:</strong></p>\\n\\n<p><span>Na Radiožurnálu moderuji od roku 2002, od března 2008 do prosince 2010 Odpolední Radiožurnál a od ledna 2011 </span>Večerní Radiožurnál<span> a ob týden </span>Víkendový Ranní Radiožurnál<span>. Deset let jsem moderoval každý všední den Ranní Radiožurnál a od 1. července 2022 usedám za mikrofon Dopoledního Radiožurnálu. Ještě déle spolupracuji s regionální stanicí ČRo Region střední Čechy. V současnosti ale už jen v oblasti selfpromotion.</span></p>\\n\\n<p><strong>Před rozhlasem:</strong><br />\\nVystudoval jsem SSPoŠ Kolín se zaměřením na ekonomiku a management, poté si dal na pár let pauzu a v současnosti studuji Fakultu multimediálních komunikaci UTB ve Zlíně obor Marketingové komunikace. Z rádiové praxe: rádio City 937 a dlouhá léta Český rozhlas, kterému jsem nakonec zůstal věrný.</p>\\n\\n<p><strong></strong></p>\\n\\n\",\n",
      "  \"profile_id\": \"5002938\",\n",
      "  \"role\": \"moderator\",\n",
      "  \"participation_link\": \"https://api.mujrozhlas.cz/persons/4bb6cd4a-a5e8-3e48-a36e-06d7ac7e4f0f/participation\",\n",
      "  \"participation_data\": [\n",
      "    {\n",
      "      \"type\": \"station\",\n",
      "      \"id\": \"4082f63f-30e8-375d-a326-b32cf7d86e02\",\n",
      "      \"meta\": {\n",
      "        \"role\": \"Moderátoři\"\n",
      "      }\n",
      "    }\n",
      "  ]\n",
      "}\n"
     ]
    }
   ],
   "source": [
    "print(mls[0])"
   ]
  },
  {
   "cell_type": "markdown",
   "id": "a13cf7e3-7f8f-48ea-af7c-db0d3f60cee2",
   "metadata": {},
   "source": [
    "## Get station schedule day"
   ]
  },
  {
   "cell_type": "markdown",
   "id": "0be026fd-2245-47a9-a08a-a9f949620ffe",
   "metadata": {},
   "source": [
    "### Get station schedule day flat"
   ]
  },
  {
   "cell_type": "code",
   "execution_count": 25,
   "id": "221b1663-abc3-4c16-9649-de5fed6dce48",
   "metadata": {},
   "outputs": [],
   "source": [
    "day_schedule = cl.get_station_schedule_day_flat(\"2023-09-11\", \"11\")"
   ]
  },
  {
   "cell_type": "code",
   "execution_count": 26,
   "id": "a7c972bc-b6f8-414e-859d-edded98bed76",
   "metadata": {},
   "outputs": [
    {
     "data": {
      "text/plain": [
       "[Episode_schedule(uuid='b76f6685-02dd-33ee-9bd8-5fcb5c19ba80', title='Zpravodajství z Česka i ze světa', description='Sport, Zelená vlna a předpověď počasí. O dopravní situaci informujte na bezplatné lince 800 553 553.', station='4082f63f-30e8-375d-a326-b32cf7d86e02', station_code=1, show_priority=0, show_times=None, since=datetime.datetime(2023, 9, 11, 0, 0, tzinfo=tzoffset(None, 7200)), till=datetime.datetime(2023, 9, 11, 0, 9, tzinfo=tzoffset(None, 7200))),\n",
       " Episode_schedule(uuid='b9973c2e-f6af-36ec-a281-0c0768c136c7', title='Informace o dopravní situaci volejte na bezplatnou linku 800 553 553.', description='', station='4082f63f-30e8-375d-a326-b32cf7d86e02', station_code=1, show_priority=0, show_times=None, since=datetime.datetime(2023, 9, 11, 0, 9, tzinfo=tzoffset(None, 7200)), till=datetime.datetime(2023, 9, 11, 0, 10, tzinfo=tzoffset(None, 7200))),\n",
       " Episode_schedule(uuid='003317bc-331d-3905-a318-62a1008bddc4', title='Aktuální reportáže a nejrychlejší zpravodajství', description='Moderuje Adam Carda a Jiří Štefl.', station='4082f63f-30e8-375d-a326-b32cf7d86e02', station_code=1, show_priority=0, show_times=None, since=datetime.datetime(2023, 9, 11, 0, 10, tzinfo=tzoffset(None, 7200)), till=datetime.datetime(2023, 9, 11, 0, 30, tzinfo=tzoffset(None, 7200)))]"
      ]
     },
     "execution_count": 26,
     "metadata": {},
     "output_type": "execute_result"
    }
   ],
   "source": [
    "list(day_schedule)[:3]"
   ]
  },
  {
   "cell_type": "markdown",
   "id": "2d957362-f1fc-4335-9751-8a6e297a2728",
   "metadata": {},
   "source": [
    "### Get station schedule day"
   ]
  },
  {
   "cell_type": "code",
   "execution_count": 27,
   "id": "a9d67ffc-a54e-4f74-820d-3da9bd0d7603",
   "metadata": {},
   "outputs": [],
   "source": [
    "data = cl.get_station_schedule_day(\"2023-09-11\", \"11\")"
   ]
  },
  {
   "cell_type": "code",
   "execution_count": 28,
   "id": "b5a68341-20ad-4bcd-ae89-0cdccb6f0cd0",
   "metadata": {},
   "outputs": [],
   "source": [
    "ldata = list(data)"
   ]
  },
  {
   "cell_type": "code",
   "execution_count": 29,
   "id": "28434b8d-5553-42df-b663-f313021922b4",
   "metadata": {},
   "outputs": [
    {
     "data": {
      "text/plain": [
       "[Episode_schedule(uuid='b76f6685-02dd-33ee-9bd8-5fcb5c19ba80', title='Zpravodajství z Česka i ze světa', description='Sport, Zelená vlna a předpověď počasí. O dopravní situaci informujte na bezplatné lince 800 553 553.', station='4082f63f-30e8-375d-a326-b32cf7d86e02', station_code=1, show_priority=0, show_times=None, since=datetime.datetime(2023, 9, 11, 0, 0, tzinfo=tzoffset(None, 7200)), till=datetime.datetime(2023, 9, 11, 0, 9, tzinfo=tzoffset(None, 7200))),\n",
       " Episode_schedule(uuid='b9973c2e-f6af-36ec-a281-0c0768c136c7', title='Informace o dopravní situaci volejte na bezplatnou linku 800 553 553.', description='', station='4082f63f-30e8-375d-a326-b32cf7d86e02', station_code=1, show_priority=0, show_times=None, since=datetime.datetime(2023, 9, 11, 0, 9, tzinfo=tzoffset(None, 7200)), till=datetime.datetime(2023, 9, 11, 0, 10, tzinfo=tzoffset(None, 7200))),\n",
       " Episode_schedule(uuid='003317bc-331d-3905-a318-62a1008bddc4', title='Aktuální reportáže a nejrychlejší zpravodajství', description='Moderuje Adam Carda a Jiří Štefl.', station='4082f63f-30e8-375d-a326-b32cf7d86e02', station_code=1, show_priority=0, show_times=None, since=datetime.datetime(2023, 9, 11, 0, 10, tzinfo=tzoffset(None, 7200)), till=datetime.datetime(2023, 9, 11, 1, 0, tzinfo=tzoffset(None, 7200)))]"
      ]
     },
     "execution_count": 29,
     "metadata": {},
     "output_type": "execute_result"
    }
   ],
   "source": [
    "ldata[:3]"
   ]
  },
  {
   "cell_type": "code",
   "execution_count": 30,
   "id": "d90da67c-81c1-4f83-9d6a-e0ba08a2ae65",
   "metadata": {},
   "outputs": [
    {
     "data": {
      "text/plain": [
       "Episode_schedule(uuid='b9973c2e-f6af-36ec-a281-0c0768c136c7', title='Informace o dopravní situaci volejte na bezplatnou linku 800 553 553.', description='', station='4082f63f-30e8-375d-a326-b32cf7d86e02', station_code=1, show_priority=0, show_times=None, since=datetime.datetime(2023, 9, 11, 0, 9, tzinfo=tzoffset(None, 7200)), till=datetime.datetime(2023, 9, 11, 0, 10, tzinfo=tzoffset(None, 7200)))"
      ]
     },
     "execution_count": 30,
     "metadata": {},
     "output_type": "execute_result"
    }
   ],
   "source": [
    "ldata[1]"
   ]
  },
  {
   "cell_type": "code",
   "execution_count": 31,
   "id": "5b85e92b-26da-4baa-8c43-ff6875ffc1d9",
   "metadata": {},
   "outputs": [
    {
     "name": "stdout",
     "output_type": "stream",
     "text": [
      "{\n",
      "  \"uuid\": \"b9973c2e-f6af-36ec-a281-0c0768c136c7\",\n",
      "  \"title\": \"Informace o dopravní situaci volejte na bezplatnou linku 800 553 553.\",\n",
      "  \"description\": \"\",\n",
      "  \"station\": \"4082f63f-30e8-375d-a326-b32cf7d86e02\",\n",
      "  \"station_code\": 1,\n",
      "  \"show_priority\": 0,\n",
      "  \"show_times\": null,\n",
      "  \"since\": \"2023-09-11T00:09:00+02:00\",\n",
      "  \"till\": \"2023-09-11T00:10:00+02:00\"\n",
      "}\n"
     ]
    }
   ],
   "source": [
    "print(ldata[1])"
   ]
  },
  {
   "cell_type": "code",
   "execution_count": null,
   "id": "96eb53ce-4bab-41db-91df-00f00d8c72a2",
   "metadata": {},
   "outputs": [],
   "source": []
  }
 ],
 "metadata": {
  "kernelspec": {
   "display_name": "Python 3 (ipykernel)",
   "language": "python",
   "name": "python3"
  },
  "language_info": {
   "codemirror_mode": {
    "name": "ipython",
    "version": 3
   },
   "file_extension": ".py",
   "mimetype": "text/x-python",
   "name": "python",
   "nbconvert_exporter": "python",
   "pygments_lexer": "ipython3",
   "version": "3.11.5"
  },
  "vscode": {
   "interpreter": {
    "hash": "c3b5eb6392fb8915b6a4bc94f0cb34158f05b46b7d234e0040f9bf5fc3a28a58"
   }
  }
 },
 "nbformat": 4,
 "nbformat_minor": 5
}