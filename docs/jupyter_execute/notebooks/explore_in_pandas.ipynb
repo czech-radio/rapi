{
 "cells": [
  {
   "cell_type": "code",
   "execution_count": null,
   "id": "31922750",
   "metadata": {},
   "outputs": [],
   "source": []
  },
  {
   "cell_type": "markdown",
   "id": "bfc87b34",
   "metadata": {
    "lines_to_next_cell": 0
   },
   "source": [
    "# Explore data in pandas\n",
    "## Create client"
   ]
  },
  {
   "cell_type": "code",
   "execution_count": 1,
   "id": "ca6e4a71",
   "metadata": {
    "execution": {
     "iopub.execute_input": "2023-10-16T17:01:56.466391Z",
     "iopub.status.busy": "2023-10-16T17:01:56.465303Z",
     "iopub.status.idle": "2023-10-16T17:01:56.593047Z",
     "shell.execute_reply": "2023-10-16T17:01:56.592386Z"
    }
   },
   "outputs": [],
   "source": [
    "from rapi import Client\n",
    "\n",
    "cl = Client()"
   ]
  },
  {
   "cell_type": "markdown",
   "id": "d50d98f7",
   "metadata": {},
   "source": [
    "## Get schedule"
   ]
  },
  {
   "cell_type": "code",
   "execution_count": 2,
   "id": "fd9c6273",
   "metadata": {
    "execution": {
     "iopub.execute_input": "2023-10-16T17:01:56.596614Z",
     "iopub.status.busy": "2023-10-16T17:01:56.596212Z",
     "iopub.status.idle": "2023-10-16T17:01:56.599729Z",
     "shell.execute_reply": "2023-10-16T17:01:56.599077Z"
    }
   },
   "outputs": [],
   "source": [
    "show=\"2226c3be-7f0d-3c82-af47-0ec6abe992a8\"\n",
    "station=\"4082f63f-30e8-375d-a326-b32cf7d86e02\"\n",
    "since=\"2023_09-01\"\n",
    "till=\"2023_10-01\""
   ]
  },
  {
   "cell_type": "code",
   "execution_count": 3,
   "id": "fad1696a",
   "metadata": {
    "execution": {
     "iopub.execute_input": "2023-10-16T17:01:56.602838Z",
     "iopub.status.busy": "2023-10-16T17:01:56.602585Z",
     "iopub.status.idle": "2023-10-16T17:01:57.238048Z",
     "shell.execute_reply": "2023-10-16T17:01:57.237434Z"
    }
   },
   "outputs": [],
   "source": [
    "data = list(cl.get_schedule(show,station,since,till))\n",
    "import pandas as pd\n",
    "\n",
    "pdata=pd.DataFrame(data)"
   ]
  },
  {
   "cell_type": "markdown",
   "id": "b2298ac6",
   "metadata": {
    "lines_to_next_cell": 0
   },
   "source": [
    "## Show columns in dataframe"
   ]
  },
  {
   "cell_type": "code",
   "execution_count": 4,
   "id": "32a234ec",
   "metadata": {
    "execution": {
     "iopub.execute_input": "2023-10-16T17:01:57.240604Z",
     "iopub.status.busy": "2023-10-16T17:01:57.240342Z",
     "iopub.status.idle": "2023-10-16T17:01:57.250232Z",
     "shell.execute_reply": "2023-10-16T17:01:57.249621Z"
    }
   },
   "outputs": [
    {
     "name": "stdout",
     "output_type": "stream",
     "text": [
      "<class 'pandas.core.frame.DataFrame'>\n",
      "RangeIndex: 147 entries, 0 to 146\n",
      "Data columns (total 9 columns):\n",
      " #   Column         Non-Null Count  Dtype                               \n",
      "---  ------         --------------  -----                               \n",
      " 0   uuid           147 non-null    object                              \n",
      " 1   title          147 non-null    object                              \n",
      " 2   description    147 non-null    object                              \n",
      " 3   station        147 non-null    object                              \n",
      " 4   station_code   147 non-null    int64                               \n",
      " 5   show_priority  147 non-null    int64                               \n",
      " 6   show_times     0 non-null      object                              \n",
      " 7   since          147 non-null    datetime64[ns, tzoffset(None, 7200)]\n",
      " 8   till           147 non-null    datetime64[ns, tzoffset(None, 7200)]\n",
      "dtypes: datetime64[ns, tzoffset(None, 7200)](2), int64(2), object(5)\n",
      "memory usage: 10.5+ KB\n"
     ]
    }
   ],
   "source": [
    "pdata.info()"
   ]
  },
  {
   "cell_type": "markdown",
   "id": "05c9f31a",
   "metadata": {
    "lines_to_next_cell": 0
   },
   "source": [
    "## Select columns, (subset dataframe)"
   ]
  },
  {
   "cell_type": "code",
   "execution_count": 5,
   "id": "b4510182",
   "metadata": {
    "execution": {
     "iopub.execute_input": "2023-10-16T17:01:57.253723Z",
     "iopub.status.busy": "2023-10-16T17:01:57.253019Z",
     "iopub.status.idle": "2023-10-16T17:01:57.261037Z",
     "shell.execute_reply": "2023-10-16T17:01:57.260369Z"
    }
   },
   "outputs": [
    {
     "name": "stdout",
     "output_type": "stream",
     "text": [
      "                                                 title  \\\n",
      "0    Je 1. září a ve školách by už mělo být všechno...   \n",
      "1    Některá města od září zdražila hromadnou dopravou   \n",
      "2    Do Řecka už dorazila další skupina zhruba pade...   \n",
      "3        Prezident Petr Pavel podepsal penzijní novelu   \n",
      "4    Devět tříd ze 4. základní školy v Plzni zahájí...   \n",
      "..                                                 ...   \n",
      "142  Policisté v Moravskoslezském kraji zpřísnili n...   \n",
      "143  Stovky Slováků dnes odjely z Prahy mimořádným ...   \n",
      "144  Duchové bývalých přítelkyň, náhodná svatební k...   \n",
      "145  Lidé s nízkým příjmem mají v Liberci problém s...   \n",
      "146  Přesně před osmdesáti pěty lety se svět přiblí...   \n",
      "\n",
      "                        since  \n",
      "0   2023-09-01 13:06:00+02:00  \n",
      "1   2023-09-01 14:06:00+02:00  \n",
      "2   2023-09-01 15:06:00+02:00  \n",
      "3   2023-09-01 16:06:00+02:00  \n",
      "4   2023-09-01 17:06:00+02:00  \n",
      "..                        ...  \n",
      "142 2023-09-29 15:06:00+02:00  \n",
      "143 2023-09-29 16:06:00+02:00  \n",
      "144 2023-09-29 17:06:00+02:00  \n",
      "145 2023-09-29 18:33:30+02:00  \n",
      "146 2023-09-29 19:06:00+02:00  \n",
      "\n",
      "[147 rows x 2 columns]\n"
     ]
    }
   ],
   "source": [
    "sdata=(pdata[['title','since']])\n",
    "print(sdata)"
   ]
  },
  {
   "cell_type": "markdown",
   "id": "ed5eb4e4",
   "metadata": {
    "lines_to_next_cell": 0
   },
   "source": [
    "## Select columns when creating dataframe"
   ]
  },
  {
   "cell_type": "code",
   "execution_count": 6,
   "id": "5e84e22c",
   "metadata": {
    "execution": {
     "iopub.execute_input": "2023-10-16T17:01:57.264339Z",
     "iopub.status.busy": "2023-10-16T17:01:57.263793Z",
     "iopub.status.idle": "2023-10-16T17:01:57.520737Z",
     "shell.execute_reply": "2023-10-16T17:01:57.520089Z"
    }
   },
   "outputs": [],
   "source": [
    "data = list(cl.get_schedule(show,station,since,till))\n",
    "pdata=pd.DataFrame(data,columns=['title','since'])"
   ]
  },
  {
   "cell_type": "markdown",
   "id": "a93ddc35",
   "metadata": {
    "lines_to_next_cell": 0
   },
   "source": [
    "## Save dataframe to csv"
   ]
  },
  {
   "cell_type": "code",
   "execution_count": 7,
   "id": "c6a9c496",
   "metadata": {
    "execution": {
     "iopub.execute_input": "2023-10-16T17:01:57.523916Z",
     "iopub.status.busy": "2023-10-16T17:01:57.523620Z",
     "iopub.status.idle": "2023-10-16T17:01:57.532756Z",
     "shell.execute_reply": "2023-10-16T17:01:57.532119Z"
    }
   },
   "outputs": [],
   "source": [
    "output_file_path='../../../runtime/out.csv'\n",
    "pdata.to_csv(output_file_path)"
   ]
  }
 ],
 "metadata": {
  "jupytext": {
   "formats": "ipynb,py:percent"
  },
  "kernelspec": {
   "display_name": "Python 3 (ipykernel)",
   "language": "python",
   "name": "python3"
  },
  "language_info": {
   "codemirror_mode": {
    "name": "ipython",
    "version": 3
   },
   "file_extension": ".py",
   "mimetype": "text/x-python",
   "name": "python",
   "nbconvert_exporter": "python",
   "pygments_lexer": "ipython3",
   "version": "3.11.5"
  }
 },
 "nbformat": 4,
 "nbformat_minor": 5
}