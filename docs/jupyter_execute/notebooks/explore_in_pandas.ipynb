{
 "cells": [
  {
   "cell_type": "code",
   "execution_count": null,
   "id": "2ddc78ba",
   "metadata": {},
   "outputs": [],
   "source": []
  },
  {
   "cell_type": "markdown",
   "id": "301c5a82",
   "metadata": {
    "lines_to_next_cell": 0
   },
   "source": [
    "# Explore data in pandas\n",
    "## Create client"
   ]
  },
  {
   "cell_type": "code",
   "execution_count": 1,
   "id": "ac91c298",
   "metadata": {
    "execution": {
     "iopub.execute_input": "2023-10-22T18:23:28.476864Z",
     "iopub.status.busy": "2023-10-22T18:23:28.475198Z",
     "iopub.status.idle": "2023-10-22T18:23:28.571836Z",
     "shell.execute_reply": "2023-10-22T18:23:28.571226Z"
    }
   },
   "outputs": [],
   "source": [
    "from rapi import Client\n",
    "\n",
    "cl = Client()"
   ]
  },
  {
   "cell_type": "markdown",
   "id": "4ad4d8e6",
   "metadata": {},
   "source": [
    "## Get schedule"
   ]
  },
  {
   "cell_type": "code",
   "execution_count": 2,
   "id": "98784d82",
   "metadata": {
    "execution": {
     "iopub.execute_input": "2023-10-22T18:23:28.574739Z",
     "iopub.status.busy": "2023-10-22T18:23:28.574362Z",
     "iopub.status.idle": "2023-10-22T18:23:28.577720Z",
     "shell.execute_reply": "2023-10-22T18:23:28.577103Z"
    }
   },
   "outputs": [],
   "source": [
    "show = \"2226c3be-7f0d-3c82-af47-0ec6abe992a8\"\n",
    "station = \"4082f63f-30e8-375d-a326-b32cf7d86e02\"\n",
    "since = \"2023_09-01\"\n",
    "till = \"2023_10-01\""
   ]
  },
  {
   "cell_type": "code",
   "execution_count": 3,
   "id": "062428ba",
   "metadata": {
    "execution": {
     "iopub.execute_input": "2023-10-22T18:23:28.580211Z",
     "iopub.status.busy": "2023-10-22T18:23:28.579924Z",
     "iopub.status.idle": "2023-10-22T18:23:29.300247Z",
     "shell.execute_reply": "2023-10-22T18:23:29.299129Z"
    }
   },
   "outputs": [],
   "source": [
    "data = list(cl.get_schedule(show, station, since, till))\n",
    "import pandas as pd\n",
    "\n",
    "pdata = pd.DataFrame(data)"
   ]
  },
  {
   "cell_type": "markdown",
   "id": "46f37612",
   "metadata": {
    "lines_to_next_cell": 0
   },
   "source": [
    "## Show columns in dataframe"
   ]
  },
  {
   "cell_type": "code",
   "execution_count": 4,
   "id": "02d3f4e6",
   "metadata": {
    "execution": {
     "iopub.execute_input": "2023-10-22T18:23:29.308447Z",
     "iopub.status.busy": "2023-10-22T18:23:29.306078Z",
     "iopub.status.idle": "2023-10-22T18:23:29.330419Z",
     "shell.execute_reply": "2023-10-22T18:23:29.329626Z"
    }
   },
   "outputs": [
    {
     "name": "stdout",
     "output_type": "stream",
     "text": [
      "<class 'pandas.core.frame.DataFrame'>\n",
      "RangeIndex: 147 entries, 0 to 146\n",
      "Data columns (total 9 columns):\n",
      " #   Column         Non-Null Count  Dtype                               \n",
      "---  ------         --------------  -----                               \n",
      " 0   uuid           147 non-null    object                              \n",
      " 1   title          147 non-null    object                              \n",
      " 2   description    147 non-null    object                              \n",
      " 3   station        147 non-null    object                              \n",
      " 4   station_code   147 non-null    int64                               \n",
      " 5   show_priority  147 non-null    int64                               \n",
      " 6   show_times     0 non-null      object                              \n",
      " 7   since          147 non-null    datetime64[ns, tzoffset(None, 7200)]\n",
      " 8   till           147 non-null    datetime64[ns, tzoffset(None, 7200)]\n",
      "dtypes: datetime64[ns, tzoffset(None, 7200)](2), int64(2), object(5)\n",
      "memory usage: 10.5+ KB\n"
     ]
    }
   ],
   "source": [
    "pdata.info()"
   ]
  },
  {
   "cell_type": "markdown",
   "id": "90b64b5e",
   "metadata": {
    "lines_to_next_cell": 0
   },
   "source": [
    "## Select columns, (subset dataframe)"
   ]
  },
  {
   "cell_type": "code",
   "execution_count": 5,
   "id": "ce1f2f8c",
   "metadata": {
    "execution": {
     "iopub.execute_input": "2023-10-22T18:23:29.334341Z",
     "iopub.status.busy": "2023-10-22T18:23:29.334000Z",
     "iopub.status.idle": "2023-10-22T18:23:29.343494Z",
     "shell.execute_reply": "2023-10-22T18:23:29.342733Z"
    }
   },
   "outputs": [
    {
     "name": "stdout",
     "output_type": "stream",
     "text": [
      "                                                 title  \\\n",
      "0    Je 1. září a ve školách by už mělo být všechno...   \n",
      "1    Některá města od září zdražila hromadnou dopravou   \n",
      "2    Do Řecka už dorazila další skupina zhruba pade...   \n",
      "3        Prezident Petr Pavel podepsal penzijní novelu   \n",
      "4    Devět tříd ze 4. základní školy v Plzni zahájí...   \n",
      "..                                                 ...   \n",
      "142  Policisté v Moravskoslezském kraji zpřísnili n...   \n",
      "143  Stovky Slováků dnes odjely z Prahy mimořádným ...   \n",
      "144  Duchové bývalých přítelkyň, náhodná svatební k...   \n",
      "145  Lidé s nízkým příjmem mají v Liberci problém s...   \n",
      "146  Přesně před osmdesáti pěty lety se svět přiblí...   \n",
      "\n",
      "                        since  \n",
      "0   2023-09-01 13:06:00+02:00  \n",
      "1   2023-09-01 14:06:00+02:00  \n",
      "2   2023-09-01 15:06:00+02:00  \n",
      "3   2023-09-01 16:06:00+02:00  \n",
      "4   2023-09-01 17:06:00+02:00  \n",
      "..                        ...  \n",
      "142 2023-09-29 15:06:00+02:00  \n",
      "143 2023-09-29 16:06:00+02:00  \n",
      "144 2023-09-29 17:06:00+02:00  \n",
      "145 2023-09-29 18:33:30+02:00  \n",
      "146 2023-09-29 19:06:00+02:00  \n",
      "\n",
      "[147 rows x 2 columns]\n"
     ]
    }
   ],
   "source": [
    "sdata = pdata[[\"title\", \"since\"]]\n",
    "print(sdata)"
   ]
  },
  {
   "cell_type": "markdown",
   "id": "a14fa2e9",
   "metadata": {
    "lines_to_next_cell": 0
   },
   "source": [
    "## Select columns when creating dataframe"
   ]
  },
  {
   "cell_type": "code",
   "execution_count": 6,
   "id": "fbc2cdd3",
   "metadata": {
    "execution": {
     "iopub.execute_input": "2023-10-22T18:23:29.347129Z",
     "iopub.status.busy": "2023-10-22T18:23:29.346879Z",
     "iopub.status.idle": "2023-10-22T18:23:29.498249Z",
     "shell.execute_reply": "2023-10-22T18:23:29.497522Z"
    }
   },
   "outputs": [],
   "source": [
    "data = list(cl.get_schedule(show, station, since, till))\n",
    "pdata = pd.DataFrame(data, columns=[\"title\", \"since\"])"
   ]
  },
  {
   "cell_type": "markdown",
   "id": "b5811f4c",
   "metadata": {
    "lines_to_next_cell": 0
   },
   "source": [
    "## Save dataframe to csv"
   ]
  },
  {
   "cell_type": "code",
   "execution_count": 7,
   "id": "08b53351",
   "metadata": {
    "execution": {
     "iopub.execute_input": "2023-10-22T18:23:29.502195Z",
     "iopub.status.busy": "2023-10-22T18:23:29.501496Z",
     "iopub.status.idle": "2023-10-22T18:23:29.509438Z",
     "shell.execute_reply": "2023-10-22T18:23:29.508471Z"
    }
   },
   "outputs": [],
   "source": [
    "output_file_path = \"../../../runtime/out.csv\"\n",
    "pdata.to_csv(output_file_path)"
   ]
  }
 ],
 "metadata": {
  "jupytext": {
   "formats": "ipynb,py:percent"
  },
  "kernelspec": {
   "display_name": "Python 3 (ipykernel)",
   "language": "python",
   "name": "python3"
  },
  "language_info": {
   "codemirror_mode": {
    "name": "ipython",
    "version": 3
   },
   "file_extension": ".py",
   "mimetype": "text/x-python",
   "name": "python",
   "nbconvert_exporter": "python",
   "pygments_lexer": "ipython3",
   "version": "3.12.0"
  }
 },
 "nbformat": 4,
 "nbformat_minor": 5
}