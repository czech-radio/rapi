{
 "cells": [
  {
   "cell_type": "markdown",
   "id": "2d01f7f6",
   "metadata": {
    "lines_to_next_cell": 0
   },
   "source": [
    "# Get schedules for given show\n",
    "## Create client"
   ]
  },
  {
   "cell_type": "code",
   "execution_count": 1,
   "id": "7fdd8823",
   "metadata": {
    "execution": {
     "iopub.execute_input": "2023-10-15T20:23:44.029033Z",
     "iopub.status.busy": "2023-10-15T20:23:44.027320Z",
     "iopub.status.idle": "2023-10-15T20:23:44.157275Z",
     "shell.execute_reply": "2023-10-15T20:23:44.156298Z"
    }
   },
   "outputs": [],
   "source": [
    "from rapi import Client\n",
    "\n",
    "cl = Client()"
   ]
  },
  {
   "cell_type": "markdown",
   "id": "9ce3f9db",
   "metadata": {},
   "source": [
    "## Get schedule"
   ]
  },
  {
   "cell_type": "code",
   "execution_count": 2,
   "id": "7dc5638e",
   "metadata": {
    "execution": {
     "iopub.execute_input": "2023-10-15T20:23:44.161711Z",
     "iopub.status.busy": "2023-10-15T20:23:44.160939Z",
     "iopub.status.idle": "2023-10-15T20:23:44.487094Z",
     "shell.execute_reply": "2023-10-15T20:23:44.486461Z"
    }
   },
   "outputs": [],
   "source": [
    "import pandas as pd\n",
    "\n",
    "show=\"2226c3be-7f0d-3c82-af47-0ec6abe992a8\"\n",
    "station=\"4082f63f-30e8-375d-a326-b32cf7d86e02\"\n",
    "since=\"2023-09-01\"\n",
    "till=\"2023-10-01\""
   ]
  },
  {
   "cell_type": "code",
   "execution_count": 3,
   "id": "12418dbe",
   "metadata": {
    "execution": {
     "iopub.execute_input": "2023-10-15T20:23:44.490160Z",
     "iopub.status.busy": "2023-10-15T20:23:44.489475Z",
     "iopub.status.idle": "2023-10-15T20:23:45.162234Z",
     "shell.execute_reply": "2023-10-15T20:23:45.161388Z"
    }
   },
   "outputs": [
    {
     "name": "stdout",
     "output_type": "stream",
     "text": [
      "1413\n"
     ]
    }
   ],
   "source": [
    "data = list(cl.get_schedule(show))\n",
    "print(len(data))\n",
    "pdata=pd.DataFrame(data)\n",
    "output_file_path='../../../runtime/get_schedule.csv'\n",
    "pdata.to_csv(output_file_path)"
   ]
  },
  {
   "cell_type": "code",
   "execution_count": 4,
   "id": "317fe995",
   "metadata": {
    "execution": {
     "iopub.execute_input": "2023-10-15T20:23:45.166315Z",
     "iopub.status.busy": "2023-10-15T20:23:45.165748Z",
     "iopub.status.idle": "2023-10-15T20:23:45.458173Z",
     "shell.execute_reply": "2023-10-15T20:23:45.457394Z"
    },
    "lines_to_next_cell": 2
   },
   "outputs": [
    {
     "name": "stdout",
     "output_type": "stream",
     "text": [
      "72\n"
     ]
    }
   ],
   "source": [
    "data = list(cl.get_show_episodes(show))\n",
    "print(len(data))\n",
    "pdata=pd.DataFrame(data)\n",
    "output_file_path='../../../runtime/get_show_episodes.csv'\n",
    "pdata.to_csv(output_file_path)"
   ]
  }
 ],
 "metadata": {
  "jupytext": {
   "formats": "ipynb,py:percent"
  },
  "kernelspec": {
   "display_name": "Python 3 (ipykernel)",
   "language": "python",
   "name": "python3"
  },
  "language_info": {
   "codemirror_mode": {
    "name": "ipython",
    "version": 3
   },
   "file_extension": ".py",
   "mimetype": "text/x-python",
   "name": "python",
   "nbconvert_exporter": "python",
   "pygments_lexer": "ipython3",
   "version": "3.11.5"
  }
 },
 "nbformat": 4,
 "nbformat_minor": 5
}