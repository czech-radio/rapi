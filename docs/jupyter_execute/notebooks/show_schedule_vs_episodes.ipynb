{
 "cells": [
  {
   "cell_type": "markdown",
   "id": "ccce3f8e",
   "metadata": {
    "lines_to_next_cell": 0
   },
   "source": [
    "# Get schedules for given show\n",
    "## Create client"
   ]
  },
  {
   "cell_type": "code",
   "execution_count": 1,
   "id": "7fac8478",
   "metadata": {
    "execution": {
     "iopub.execute_input": "2023-10-20T09:48:12.194632Z",
     "iopub.status.busy": "2023-10-20T09:48:12.194261Z",
     "iopub.status.idle": "2023-10-20T09:48:12.476553Z",
     "shell.execute_reply": "2023-10-20T09:48:12.475632Z"
    }
   },
   "outputs": [],
   "source": [
    "from rapi import Client\n",
    "\n",
    "cl = Client()"
   ]
  },
  {
   "cell_type": "markdown",
   "id": "0de93941",
   "metadata": {
    "lines_to_next_cell": 2
   },
   "source": [
    "## Get schedule"
   ]
  },
  {
   "cell_type": "code",
   "execution_count": 2,
   "id": "774d1ad9",
   "metadata": {
    "execution": {
     "iopub.execute_input": "2023-10-20T09:48:12.484048Z",
     "iopub.status.busy": "2023-10-20T09:48:12.481451Z",
     "iopub.status.idle": "2023-10-20T09:48:13.140256Z",
     "shell.execute_reply": "2023-10-20T09:48:13.137802Z"
    }
   },
   "outputs": [],
   "source": [
    "import logging\n",
    "\n",
    "import pandas as pd\n",
    "\n",
    "lg = logging.getLogger(\"log_stdout\")\n",
    "# lg.setLevel(logging.DEBUG)\n",
    "\n",
    "show = \"2226c3be-7f0d-3c82-af47-0ec6abe992a8\"\n",
    "station = \"4082f63f-30e8-375d-a326-b32cf7d86e02\"\n",
    "since = \"2023-09-01\"\n",
    "till = \"2023-10-01\""
   ]
  },
  {
   "cell_type": "code",
   "execution_count": 3,
   "id": "59fafc0b",
   "metadata": {
    "execution": {
     "iopub.execute_input": "2023-10-20T09:48:13.153033Z",
     "iopub.status.busy": "2023-10-20T09:48:13.149164Z",
     "iopub.status.idle": "2023-10-20T09:48:14.446052Z",
     "shell.execute_reply": "2023-10-20T09:48:14.443156Z"
    }
   },
   "outputs": [
    {
     "name": "stdout",
     "output_type": "stream",
     "text": [
      "1448\n",
      "<class 'pandas.core.frame.DataFrame'>\n",
      "RangeIndex: 1448 entries, 0 to 1447\n",
      "Data columns (total 9 columns):\n",
      " #   Column         Non-Null Count  Dtype \n",
      "---  ------         --------------  ----- \n",
      " 0   uuid           1448 non-null   object\n",
      " 1   title          1448 non-null   object\n",
      " 2   description    1448 non-null   object\n",
      " 3   station        1448 non-null   object\n",
      " 4   station_code   1448 non-null   int64 \n",
      " 5   show_priority  1448 non-null   int64 \n",
      " 6   show_times     0 non-null      object\n",
      " 7   since          1448 non-null   object\n",
      " 8   till           1448 non-null   object\n",
      "dtypes: int64(2), object(7)\n",
      "memory usage: 101.9+ KB\n"
     ]
    }
   ],
   "source": [
    "data1 = list(cl.get_schedule(show))\n",
    "print(len(data1))\n",
    "pdata1 = pd.DataFrame(data1)\n",
    "output_file_path = \"../../../runtime/get_schedule.csv\"\n",
    "pdata1.info()\n",
    "# pdata.to_csv(output_file_path)"
   ]
  },
  {
   "cell_type": "code",
   "execution_count": 4,
   "id": "86ff73a5",
   "metadata": {
    "execution": {
     "iopub.execute_input": "2023-10-20T09:48:14.455956Z",
     "iopub.status.busy": "2023-10-20T09:48:14.453132Z",
     "iopub.status.idle": "2023-10-20T09:48:25.196675Z",
     "shell.execute_reply": "2023-10-20T09:48:25.195843Z"
    }
   },
   "outputs": [
    {
     "name": "stdout",
     "output_type": "stream",
     "text": [
      "72\n",
      "<class 'pandas.core.frame.DataFrame'>\n",
      "RangeIndex: 72 entries, 0 to 71\n",
      "Data columns (total 12 columns):\n",
      " #   Column           Non-Null Count  Dtype  \n",
      "---  ------           --------------  -----  \n",
      " 0   uuid             72 non-null     object \n",
      " 1   title            72 non-null     object \n",
      " 2   title_short      72 non-null     object \n",
      " 3   description      72 non-null     object \n",
      " 4   since            72 non-null     object \n",
      " 5   till             72 non-null     object \n",
      " 6   updated          72 non-null     object \n",
      " 7   part             1 non-null      float64\n",
      " 8   title_mirrored   72 non-null     object \n",
      " 9   content_creator  72 non-null     object \n",
      " 10  content_id       72 non-null     object \n",
      " 11  base_id          0 non-null      object \n",
      "dtypes: float64(1), object(11)\n",
      "memory usage: 6.9+ KB\n"
     ]
    },
    {
     "name": "stdout",
     "output_type": "stream",
     "text": [
      "72\n",
      "21\n",
      "1448\n",
      "1448\n",
      "1469\n"
     ]
    }
   ],
   "source": [
    "data2 = list(cl.get_show_episodes(show))\n",
    "print(len(data2))\n",
    "pdata2 = pd.DataFrame(data2)\n",
    "pdata2.info()\n",
    "output_file_path = \"../../../runtime/get_show_episodes.csv\"\n",
    "# pdata.to_csv(output_file_path)\n",
    "\n",
    "\n",
    "def FindSameDate(dataframe, value):\n",
    "    for idx, row in dataframe.iterrows():\n",
    "        if row[\"since\"] == value:\n",
    "            print(\"found\", idx)\n",
    "\n",
    "\n",
    "for idx, row in pdata2.iterrows():\n",
    "    FindSameDate(pdata1, row[\"updated\"])\n",
    "\n",
    "out1 = list()\n",
    "for idx, row in pdata2.iterrows():\n",
    "    out1.append(row[\"updated\"])\n",
    "\n",
    "out2 = list()\n",
    "for idx, row in pdata1.iterrows():\n",
    "    out2.append(row[\"since\"])\n",
    "\n",
    "print(len(out1))\n",
    "print(len(list(set(out1))))\n",
    "print(len(out2))\n",
    "print(len(list(set(out2))))\n",
    "out3 = out2 + list(set(out1))\n",
    "print(len(out3))"
   ]
  }
 ],
 "metadata": {
  "jupytext": {
   "formats": "ipynb,py:percent"
  },
  "kernelspec": {
   "display_name": "Python 3 (ipykernel)",
   "language": "python",
   "name": "python3"
  },
  "language_info": {
   "codemirror_mode": {
    "name": "ipython",
    "version": 3
   },
   "file_extension": ".py",
   "mimetype": "text/x-python",
   "name": "python",
   "nbconvert_exporter": "python",
   "pygments_lexer": "ipython3",
   "version": "3.11.5"
  }
 },
 "nbformat": 4,
 "nbformat_minor": 5
}