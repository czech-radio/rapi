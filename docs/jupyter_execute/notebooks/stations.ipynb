{
 "cells": [
  {
   "cell_type": "markdown",
   "id": "e48ee277",
   "metadata": {
    "lines_to_next_cell": 0
   },
   "source": [
    "# Get all available stations\n",
    "## Create client"
   ]
  },
  {
   "cell_type": "code",
   "execution_count": 1,
   "id": "d88638ef",
   "metadata": {
    "execution": {
     "iopub.execute_input": "2023-10-22T18:23:48.651304Z",
     "iopub.status.busy": "2023-10-22T18:23:48.650471Z",
     "iopub.status.idle": "2023-10-22T18:23:48.722082Z",
     "shell.execute_reply": "2023-10-22T18:23:48.721396Z"
    }
   },
   "outputs": [],
   "source": [
    "from rapi import Client\n",
    "\n",
    "cl = Client()"
   ]
  },
  {
   "cell_type": "markdown",
   "id": "5c5acd37",
   "metadata": {
    "lines_to_next_cell": 0
   },
   "source": [
    "## Create stations iterator"
   ]
  },
  {
   "cell_type": "code",
   "execution_count": 2,
   "id": "4c58b57f",
   "metadata": {
    "execution": {
     "iopub.execute_input": "2023-10-22T18:23:48.725796Z",
     "iopub.status.busy": "2023-10-22T18:23:48.725457Z",
     "iopub.status.idle": "2023-10-22T18:23:48.816685Z",
     "shell.execute_reply": "2023-10-22T18:23:48.815795Z"
    }
   },
   "outputs": [],
   "source": [
    "stations_iterator = cl.get_stations()\n",
    "stations = list(stations_iterator)"
   ]
  },
  {
   "cell_type": "markdown",
   "id": "5f540c0a",
   "metadata": {
    "lines_to_next_cell": 0
   },
   "source": [
    "## Number of stations"
   ]
  },
  {
   "cell_type": "code",
   "execution_count": 3,
   "id": "a2633e16",
   "metadata": {
    "execution": {
     "iopub.execute_input": "2023-10-22T18:23:48.820115Z",
     "iopub.status.busy": "2023-10-22T18:23:48.819857Z",
     "iopub.status.idle": "2023-10-22T18:23:48.824748Z",
     "shell.execute_reply": "2023-10-22T18:23:48.823877Z"
    }
   },
   "outputs": [
    {
     "name": "stdout",
     "output_type": "stream",
     "text": [
      "28\n"
     ]
    }
   ],
   "source": [
    "print(len(stations))"
   ]
  },
  {
   "cell_type": "markdown",
   "id": "d08ed9ad",
   "metadata": {
    "lines_to_next_cell": 0
   },
   "source": [
    "## List stations as python object"
   ]
  },
  {
   "cell_type": "code",
   "execution_count": 4,
   "id": "4af9206a",
   "metadata": {
    "execution": {
     "iopub.execute_input": "2023-10-22T18:23:48.828334Z",
     "iopub.status.busy": "2023-10-22T18:23:48.827769Z",
     "iopub.status.idle": "2023-10-22T18:23:48.832621Z",
     "shell.execute_reply": "2023-10-22T18:23:48.831624Z"
    }
   },
   "outputs": [
    {
     "name": "stdout",
     "output_type": "stream",
     "text": [
      "[Station(uuid='4082f63f-30e8-375d-a326-b32cf7d86e02', title='Český rozhlas Radiožurnál', title_short='Radiožurnál', subtitle='', color='#ED2E38', code='radiozurnal', priority=100, span='allover', broadcast_name='radiozurnal'), Station(uuid='17821883-be2d-3880-b971-eceb794388fa', title='Český rozhlas Dvojka', title_short='Dvojka', subtitle='', color='#85248F', code='dvojka', priority=200, span='allover', broadcast_name='dvojka'), Station(uuid='0134ce01-8684-3556-b568-f208392ac0bd', title='Český rozhlas Vltava', title_short='Vltava', subtitle='', color='#00B8E0', code='vltava', priority=300, span='allover', broadcast_name='vltava')]\n"
     ]
    }
   ],
   "source": [
    "print(stations[:3])"
   ]
  },
  {
   "cell_type": "markdown",
   "id": "ec00040d",
   "metadata": {
    "lines_to_next_cell": 0
   },
   "source": [
    "## List stations as string object"
   ]
  },
  {
   "cell_type": "code",
   "execution_count": 5,
   "id": "919bd531",
   "metadata": {
    "execution": {
     "iopub.execute_input": "2023-10-22T18:23:48.836592Z",
     "iopub.status.busy": "2023-10-22T18:23:48.836288Z",
     "iopub.status.idle": "2023-10-22T18:23:48.841232Z",
     "shell.execute_reply": "2023-10-22T18:23:48.840304Z"
    }
   },
   "outputs": [
    {
     "name": "stdout",
     "output_type": "stream",
     "text": [
      "{\n",
      "  \"uuid\": \"4082f63f-30e8-375d-a326-b32cf7d86e02\",\n",
      "  \"title\": \"Český rozhlas Radiožurnál\",\n",
      "  \"title_short\": \"Radiožurnál\",\n",
      "  \"subtitle\": \"\",\n",
      "  \"color\": \"#ED2E38\",\n",
      "  \"code\": \"radiozurnal\",\n",
      "  \"priority\": 100,\n",
      "  \"span\": \"allover\",\n",
      "  \"broadcast_name\": \"radiozurnal\"\n",
      "}\n",
      "{\n",
      "  \"uuid\": \"17821883-be2d-3880-b971-eceb794388fa\",\n",
      "  \"title\": \"Český rozhlas Dvojka\",\n",
      "  \"title_short\": \"Dvojka\",\n",
      "  \"subtitle\": \"\",\n",
      "  \"color\": \"#85248F\",\n",
      "  \"code\": \"dvojka\",\n",
      "  \"priority\": 200,\n",
      "  \"span\": \"allover\",\n",
      "  \"broadcast_name\": \"dvojka\"\n",
      "}\n",
      "{\n",
      "  \"uuid\": \"0134ce01-8684-3556-b568-f208392ac0bd\",\n",
      "  \"title\": \"Český rozhlas Vltava\",\n",
      "  \"title_short\": \"Vltava\",\n",
      "  \"subtitle\": \"\",\n",
      "  \"color\": \"#00B8E0\",\n",
      "  \"code\": \"vltava\",\n",
      "  \"priority\": 300,\n",
      "  \"span\": \"allover\",\n",
      "  \"broadcast_name\": \"vltava\"\n",
      "}\n"
     ]
    }
   ],
   "source": [
    "for st in stations[:3]:\n",
    "    print(st)"
   ]
  }
 ],
 "metadata": {
  "jupytext": {
   "formats": "ipynb,py:percent"
  },
  "kernelspec": {
   "display_name": "Python 3 (ipykernel)",
   "language": "python",
   "name": "python3"
  },
  "language_info": {
   "codemirror_mode": {
    "name": "ipython",
    "version": 3
   },
   "file_extension": ".py",
   "mimetype": "text/x-python",
   "name": "python",
   "nbconvert_exporter": "python",
   "pygments_lexer": "ipython3",
   "version": "3.11.5"
  }
 },
 "nbformat": 4,
 "nbformat_minor": 5
}