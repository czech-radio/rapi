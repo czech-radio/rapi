{
 "cells": [
  {
   "cell_type": "markdown",
   "id": "720cb1f8",
   "metadata": {
    "lines_to_next_cell": 0
   },
   "source": [
    "# Get all available stations\n",
    "## Create client"
   ]
  },
  {
   "cell_type": "code",
   "execution_count": 1,
   "id": "0154a9cf",
   "metadata": {
    "execution": {
     "iopub.execute_input": "2023-10-16T17:02:15.329002Z",
     "iopub.status.busy": "2023-10-16T17:02:15.327597Z",
     "iopub.status.idle": "2023-10-16T17:02:15.482642Z",
     "shell.execute_reply": "2023-10-16T17:02:15.481492Z"
    }
   },
   "outputs": [],
   "source": [
    "from rapi import Client\n",
    "\n",
    "cl = Client()"
   ]
  },
  {
   "cell_type": "markdown",
   "id": "1736b619",
   "metadata": {
    "lines_to_next_cell": 0
   },
   "source": [
    "## Create stations iterator"
   ]
  },
  {
   "cell_type": "code",
   "execution_count": 2,
   "id": "cb3b94a1",
   "metadata": {
    "execution": {
     "iopub.execute_input": "2023-10-16T17:02:15.489107Z",
     "iopub.status.busy": "2023-10-16T17:02:15.488772Z",
     "iopub.status.idle": "2023-10-16T17:02:15.687758Z",
     "shell.execute_reply": "2023-10-16T17:02:15.685653Z"
    }
   },
   "outputs": [],
   "source": [
    "stations_iterator = cl.get_stations()\n",
    "stations = list(stations_iterator)"
   ]
  },
  {
   "cell_type": "markdown",
   "id": "a7d2ba31",
   "metadata": {
    "lines_to_next_cell": 0
   },
   "source": [
    "## Number of stations"
   ]
  },
  {
   "cell_type": "code",
   "execution_count": 3,
   "id": "20b8d96c",
   "metadata": {
    "execution": {
     "iopub.execute_input": "2023-10-16T17:02:15.696064Z",
     "iopub.status.busy": "2023-10-16T17:02:15.695402Z",
     "iopub.status.idle": "2023-10-16T17:02:15.705816Z",
     "shell.execute_reply": "2023-10-16T17:02:15.703514Z"
    }
   },
   "outputs": [
    {
     "name": "stdout",
     "output_type": "stream",
     "text": [
      "28\n"
     ]
    }
   ],
   "source": [
    "print(len(stations))"
   ]
  },
  {
   "cell_type": "markdown",
   "id": "649771d1",
   "metadata": {
    "lines_to_next_cell": 0
   },
   "source": [
    "## List stations as python object"
   ]
  },
  {
   "cell_type": "code",
   "execution_count": 4,
   "id": "62e46ab8",
   "metadata": {
    "execution": {
     "iopub.execute_input": "2023-10-16T17:02:15.714746Z",
     "iopub.status.busy": "2023-10-16T17:02:15.714196Z",
     "iopub.status.idle": "2023-10-16T17:02:15.721547Z",
     "shell.execute_reply": "2023-10-16T17:02:15.720224Z"
    }
   },
   "outputs": [
    {
     "name": "stdout",
     "output_type": "stream",
     "text": [
      "[Station(uuid='4082f63f-30e8-375d-a326-b32cf7d86e02', title='Český rozhlas Radiožurnál', title_short='Radiožurnál', subtitle='', color='#ED2E38', code='radiozurnal', priority=100, span='allover', broadcast_name='radiozurnal'), Station(uuid='17821883-be2d-3880-b971-eceb794388fa', title='Český rozhlas Dvojka', title_short='Dvojka', subtitle='', color='#85248F', code='dvojka', priority=200, span='allover', broadcast_name='dvojka'), Station(uuid='0134ce01-8684-3556-b568-f208392ac0bd', title='Český rozhlas Vltava', title_short='Vltava', subtitle='', color='#00B8E0', code='vltava', priority=300, span='allover', broadcast_name='vltava')]\n"
     ]
    }
   ],
   "source": [
    "print(stations[:3])"
   ]
  },
  {
   "cell_type": "markdown",
   "id": "3e33ec5e",
   "metadata": {
    "lines_to_next_cell": 0
   },
   "source": [
    "## List stations as string object"
   ]
  },
  {
   "cell_type": "code",
   "execution_count": 5,
   "id": "97669236",
   "metadata": {
    "execution": {
     "iopub.execute_input": "2023-10-16T17:02:15.729161Z",
     "iopub.status.busy": "2023-10-16T17:02:15.728713Z",
     "iopub.status.idle": "2023-10-16T17:02:15.735619Z",
     "shell.execute_reply": "2023-10-16T17:02:15.734343Z"
    },
    "lines_to_next_cell": 2
   },
   "outputs": [
    {
     "name": "stdout",
     "output_type": "stream",
     "text": [
      "{\n",
      "  \"uuid\": \"4082f63f-30e8-375d-a326-b32cf7d86e02\",\n",
      "  \"title\": \"Český rozhlas Radiožurnál\",\n",
      "  \"title_short\": \"Radiožurnál\",\n",
      "  \"subtitle\": \"\",\n",
      "  \"color\": \"#ED2E38\",\n",
      "  \"code\": \"radiozurnal\",\n",
      "  \"priority\": 100,\n",
      "  \"span\": \"allover\",\n",
      "  \"broadcast_name\": \"radiozurnal\"\n",
      "}\n",
      "{\n",
      "  \"uuid\": \"17821883-be2d-3880-b971-eceb794388fa\",\n",
      "  \"title\": \"Český rozhlas Dvojka\",\n",
      "  \"title_short\": \"Dvojka\",\n",
      "  \"subtitle\": \"\",\n",
      "  \"color\": \"#85248F\",\n",
      "  \"code\": \"dvojka\",\n",
      "  \"priority\": 200,\n",
      "  \"span\": \"allover\",\n",
      "  \"broadcast_name\": \"dvojka\"\n",
      "}\n",
      "{\n",
      "  \"uuid\": \"0134ce01-8684-3556-b568-f208392ac0bd\",\n",
      "  \"title\": \"Český rozhlas Vltava\",\n",
      "  \"title_short\": \"Vltava\",\n",
      "  \"subtitle\": \"\",\n",
      "  \"color\": \"#00B8E0\",\n",
      "  \"code\": \"vltava\",\n",
      "  \"priority\": 300,\n",
      "  \"span\": \"allover\",\n",
      "  \"broadcast_name\": \"vltava\"\n",
      "}\n"
     ]
    }
   ],
   "source": [
    "for st in stations[:3]:\n",
    "    print(st)"
   ]
  }
 ],
 "metadata": {
  "jupytext": {
   "formats": "ipynb,py:percent"
  },
  "kernelspec": {
   "display_name": "Python 3 (ipykernel)",
   "language": "python",
   "name": "python3"
  },
  "language_info": {
   "codemirror_mode": {
    "name": "ipython",
    "version": 3
   },
   "file_extension": ".py",
   "mimetype": "text/x-python",
   "name": "python",
   "nbconvert_exporter": "python",
   "pygments_lexer": "ipython3",
   "version": "3.11.5"
  }
 },
 "nbformat": 4,
 "nbformat_minor": 5
}