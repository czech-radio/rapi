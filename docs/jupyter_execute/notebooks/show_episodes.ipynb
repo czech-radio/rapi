{
 "cells": [
  {
   "cell_type": "markdown",
   "id": "2cd7bbf8",
   "metadata": {
    "lines_to_next_cell": 0
   },
   "source": [
    "# Get episodes for given show\n",
    "## Create client"
   ]
  },
  {
   "cell_type": "code",
   "execution_count": 1,
   "id": "501961b9",
   "metadata": {
    "execution": {
     "iopub.execute_input": "2023-10-08T18:05:12.293969Z",
     "iopub.status.busy": "2023-10-08T18:05:12.292921Z",
     "iopub.status.idle": "2023-10-08T18:05:12.413466Z",
     "shell.execute_reply": "2023-10-08T18:05:12.412793Z"
    }
   },
   "outputs": [],
   "source": [
    "from rapi import Client\n",
    "cl = Client()"
   ]
  },
  {
   "cell_type": "markdown",
   "id": "6928ff28",
   "metadata": {
    "lines_to_next_cell": 0
   },
   "source": [
    "## Create episodes iterator"
   ]
  },
  {
   "cell_type": "code",
   "execution_count": 2,
   "id": "fd20480e",
   "metadata": {
    "execution": {
     "iopub.execute_input": "2023-10-08T18:05:12.416561Z",
     "iopub.status.busy": "2023-10-08T18:05:12.416358Z",
     "iopub.status.idle": "2023-10-08T18:05:12.580109Z",
     "shell.execute_reply": "2023-10-08T18:05:12.579470Z"
    }
   },
   "outputs": [],
   "source": [
    "show_uuid = \"739a46c7-35e3-336e-a7d5-08a20b7e7677\"\n",
    "episodes_iterator = cl.get_show_episodes(show_uuid)\n",
    "episodes = list(episodes_iterator)"
   ]
  },
  {
   "cell_type": "markdown",
   "id": "fc0011b1",
   "metadata": {
    "lines_to_next_cell": 0
   },
   "source": [
    "## Number of episodes"
   ]
  },
  {
   "cell_type": "code",
   "execution_count": 3,
   "id": "ec62dcb4",
   "metadata": {
    "execution": {
     "iopub.execute_input": "2023-10-08T18:05:12.582497Z",
     "iopub.status.busy": "2023-10-08T18:05:12.582300Z",
     "iopub.status.idle": "2023-10-08T18:05:12.586135Z",
     "shell.execute_reply": "2023-10-08T18:05:12.585439Z"
    }
   },
   "outputs": [
    {
     "name": "stdout",
     "output_type": "stream",
     "text": [
      "103\n"
     ]
    }
   ],
   "source": [
    "print(len(episodes))"
   ]
  },
  {
   "cell_type": "markdown",
   "id": "5780af3f",
   "metadata": {
    "lines_to_next_cell": 0
   },
   "source": [
    "## List episodes as python object"
   ]
  },
  {
   "cell_type": "code",
   "execution_count": 4,
   "id": "7e71ec86",
   "metadata": {
    "execution": {
     "iopub.execute_input": "2023-10-08T18:05:12.588749Z",
     "iopub.status.busy": "2023-10-08T18:05:12.588454Z",
     "iopub.status.idle": "2023-10-08T18:05:12.592216Z",
     "shell.execute_reply": "2023-10-08T18:05:12.591530Z"
    }
   },
   "outputs": [
    {
     "name": "stdout",
     "output_type": "stream",
     "text": [
      "[Episode(uuid='036a7f04-ed74-35a1-9923-0e8210d42435', title='Šlápli jsme na záchrannou brzdu, blokované weby můžeme uvolnit po jednom měsíci, říká Filip z CZ.NIC', title_short='Šlápli jsme na záchrannou brzdu, blokované weby můžeme uvolnit po jednom měsíci, říká Filip z CZ.NIC', description='<p>Sdružení CZ.NIC, které spravuje českou internetovou doménu, před týdnem rozhodlo o zablokování osmi tuzemských webů. Svůj postup odůvodnilo tím, že zmíněné stránky šířily v souvislosti s ruskou invazí na Ukrajinu dezinformace a ohrožovaly tak národní bezpečnost. „Naše pravidla říkají, že blokace může být maximálně na jeden měsíc, pak je potřeba ji znovu zvážit,“ objasňuje výkonný ředitel sdružení CZ.NIC Ondřej Filip.<br>\\nJan Pokorný</p>', since=datetime.datetime(2022, 3, 6, 8, 40, tzinfo=tzoffset(None, 3600)), till=datetime.datetime(2022, 3, 6, 8, 43, 13, tzinfo=tzoffset(None, 3600)), updated=datetime.datetime(2022, 3, 6, 10, 40, 36, tzinfo=tzoffset(None, 3600)), part=None, title_mirrored='Rozhovory Radiožurnálu', content_creator='radiozurnal', content_id='10139151', base_id=None), Episode(uuid='07c812e2-6bc3-3f22-bb18-b7ec85c6cddc', title='Analytik: Kdo vydrží déle? Rusové se budou snažit Ukrajince vyhladovět. Jenže pod tlakem je i Rusko', title_short='Svárovský: Rusové se budou snažit Ukrajince vyhladovět. Západ musí zajistit dodávky jídla a zbraní', description='<p>Ruská armáda má zastavit palbu a otevřít humanitární koridory v několika ukrajinských městech, aby umožnila odchod civilistů. Podle britské vojenské rozvědky se ale ruské jednotky při odstřelování zaměřují na obydlené oblasti. „Věřit se ruské armádě moc nedá, zaměření se na města vyplývá z&nbsp;průběhu operace,“ říká vedoucí Programu bezpečnostních strategií Bezpečnostního centra Evropské hodnoty Martin Svárovský.<br>\\nJan Pokorný</p>', since=datetime.datetime(2022, 3, 7, 10, 20, tzinfo=tzoffset(None, 3600)), till=datetime.datetime(2022, 3, 7, 10, 24, 49, tzinfo=tzoffset(None, 3600)), updated=datetime.datetime(2022, 3, 7, 10, 30, 31, tzinfo=tzoffset(None, 3600)), part=None, title_mirrored='Rozhovory Radiožurnálu', content_creator='radiozurnal', content_id='10139979', base_id=None), Episode(uuid='143dc660-137c-3e51-8243-8436c068977f', title='Měsíc do prezidentských voleb. Karel Diviš se vrací do hry, Denise Rohanové naopak soud kandidaturu neuznal', title_short='Karel Diviš se vrací do hry, Denise Rohanové naopak soud prezidentskou kandidaturu neuznal', description='<p>Mezi kandidáty na prezidenta se zařadí podnikatel Karel Diviš. Podnikatel Karel Janeček naopak o Hrad bojovat nebude. Stejně jako Denisa Rohanová. Rozhodl o tom v úterý Nejvyšší správní soud, který tak uzavřel seznam lidí, kteří budou kandidovat na prezidenta. Bude jich celkem devět. Janeček a Rohanová se kvůli neuznané kandidatuře obrátí na Ústavní soud, řekli ve vysílání CNN Prima News.<br>\\nZuzana Machálková</p>', since=datetime.datetime(2022, 12, 13, 11, 47, tzinfo=tzoffset(None, 3600)), till=datetime.datetime(2022, 12, 13, 11, 57, 56, tzinfo=tzoffset(None, 3600)), updated=datetime.datetime(2023, 1, 2, 14, 0, 25, tzinfo=tzoffset(None, 3600)), part=None, title_mirrored='Rozhovory Radiožurnálu', content_creator='radiozurnal', content_id='10516074', base_id=None)]\n"
     ]
    }
   ],
   "source": [
    "print(episodes[:3])"
   ]
  },
  {
   "cell_type": "markdown",
   "id": "1c8f6e42",
   "metadata": {
    "lines_to_next_cell": 0
   },
   "source": [
    "## List episodes as string object"
   ]
  },
  {
   "cell_type": "code",
   "execution_count": 5,
   "id": "d2d0cfce",
   "metadata": {
    "execution": {
     "iopub.execute_input": "2023-10-08T18:05:12.595195Z",
     "iopub.status.busy": "2023-10-08T18:05:12.594900Z",
     "iopub.status.idle": "2023-10-08T18:05:12.598785Z",
     "shell.execute_reply": "2023-10-08T18:05:12.598074Z"
    }
   },
   "outputs": [
    {
     "name": "stdout",
     "output_type": "stream",
     "text": [
      "{\n",
      "  \"uuid\": \"036a7f04-ed74-35a1-9923-0e8210d42435\",\n",
      "  \"title\": \"Šlápli jsme na záchrannou brzdu, blokované weby můžeme uvolnit po jednom měsíci, říká Filip z CZ.NIC\",\n",
      "  \"title_short\": \"Šlápli jsme na záchrannou brzdu, blokované weby můžeme uvolnit po jednom měsíci, říká Filip z CZ.NIC\",\n",
      "  \"description\": \"<p>Sdružení CZ.NIC, které spravuje českou internetovou doménu, před týdnem rozhodlo o zablokování osmi tuzemských webů. Svůj postup odůvodnilo tím, že zmíněné stránky šířily v souvislosti s ruskou invazí na Ukrajinu dezinformace a ohrožovaly tak národní bezpečnost. „Naše pravidla říkají, že blokace může být maximálně na jeden měsíc, pak je potřeba ji znovu zvážit,“ objasňuje výkonný ředitel sdružení CZ.NIC Ondřej Filip.<br>\\nJan Pokorný</p>\",\n",
      "  \"since\": \"2022-03-06T08:40:00+01:00\",\n",
      "  \"till\": \"2022-03-06T08:43:13+01:00\",\n",
      "  \"updated\": \"2022-03-06T10:40:36+01:00\",\n",
      "  \"part\": null,\n",
      "  \"title_mirrored\": \"Rozhovory Radiožurnálu\",\n",
      "  \"content_creator\": \"radiozurnal\",\n",
      "  \"content_id\": \"10139151\",\n",
      "  \"base_id\": null\n",
      "}\n",
      "{\n",
      "  \"uuid\": \"07c812e2-6bc3-3f22-bb18-b7ec85c6cddc\",\n",
      "  \"title\": \"Analytik: Kdo vydrží déle? Rusové se budou snažit Ukrajince vyhladovět. Jenže pod tlakem je i Rusko\",\n",
      "  \"title_short\": \"Svárovský: Rusové se budou snažit Ukrajince vyhladovět. Západ musí zajistit dodávky jídla a zbraní\",\n",
      "  \"description\": \"<p>Ruská armáda má zastavit palbu a otevřít humanitární koridory v několika ukrajinských městech, aby umožnila odchod civilistů. Podle britské vojenské rozvědky se ale ruské jednotky při odstřelování zaměřují na obydlené oblasti. „Věřit se ruské armádě moc nedá, zaměření se na města vyplývá z&nbsp;průběhu operace,“ říká vedoucí Programu bezpečnostních strategií Bezpečnostního centra Evropské hodnoty Martin Svárovský.<br>\\nJan Pokorný</p>\",\n",
      "  \"since\": \"2022-03-07T10:20:00+01:00\",\n",
      "  \"till\": \"2022-03-07T10:24:49+01:00\",\n",
      "  \"updated\": \"2022-03-07T10:30:31+01:00\",\n",
      "  \"part\": null,\n",
      "  \"title_mirrored\": \"Rozhovory Radiožurnálu\",\n",
      "  \"content_creator\": \"radiozurnal\",\n",
      "  \"content_id\": \"10139979\",\n",
      "  \"base_id\": null\n",
      "}\n",
      "{\n",
      "  \"uuid\": \"143dc660-137c-3e51-8243-8436c068977f\",\n",
      "  \"title\": \"Měsíc do prezidentských voleb. Karel Diviš se vrací do hry, Denise Rohanové naopak soud kandidaturu neuznal\",\n",
      "  \"title_short\": \"Karel Diviš se vrací do hry, Denise Rohanové naopak soud prezidentskou kandidaturu neuznal\",\n",
      "  \"description\": \"<p>Mezi kandidáty na prezidenta se zařadí podnikatel Karel Diviš. Podnikatel Karel Janeček naopak o Hrad bojovat nebude. Stejně jako Denisa Rohanová. Rozhodl o tom v úterý Nejvyšší správní soud, který tak uzavřel seznam lidí, kteří budou kandidovat na prezidenta. Bude jich celkem devět. Janeček a Rohanová se kvůli neuznané kandidatuře obrátí na Ústavní soud, řekli ve vysílání CNN Prima News.<br>\\nZuzana Machálková</p>\",\n",
      "  \"since\": \"2022-12-13T11:47:00+01:00\",\n",
      "  \"till\": \"2022-12-13T11:57:56+01:00\",\n",
      "  \"updated\": \"2023-01-02T14:00:25+01:00\",\n",
      "  \"part\": null,\n",
      "  \"title_mirrored\": \"Rozhovory Radiožurnálu\",\n",
      "  \"content_creator\": \"radiozurnal\",\n",
      "  \"content_id\": \"10516074\",\n",
      "  \"base_id\": null\n",
      "}\n"
     ]
    }
   ],
   "source": [
    "for ep in episodes[:3]:\n",
    "    print(ep)"
   ]
  },
  {
   "cell_type": "markdown",
   "id": "2a178994",
   "metadata": {
    "lines_to_next_cell": 0
   },
   "source": [
    "## Filter show episodes by date"
   ]
  },
  {
   "cell_type": "code",
   "execution_count": 6,
   "id": "7632a401",
   "metadata": {
    "execution": {
     "iopub.execute_input": "2023-10-08T18:05:12.601896Z",
     "iopub.status.busy": "2023-10-08T18:05:12.601287Z",
     "iopub.status.idle": "2023-10-08T18:05:12.659263Z",
     "shell.execute_reply": "2023-10-08T18:05:12.658282Z"
    }
   },
   "outputs": [
    {
     "name": "stdout",
     "output_type": "stream",
     "text": [
      "72\n"
     ]
    }
   ],
   "source": [
    "show_uuid = \"739a46c7-35e3-336e-a7d5-08a20b7e7677\"\n",
    "since = \"2022-01-01T8:00\"\n",
    "to = \"2023-01-02T9:00\"\n",
    "episodes_iterator = cl.show_episodes_filter(show_uuid, since, to)\n",
    "episodes = list(episodes_iterator)\n",
    "print(len(episodes))"
   ]
  }
 ],
 "metadata": {
  "jupytext": {
   "formats": "ipynb,py:percent"
  },
  "kernelspec": {
   "display_name": "Python 3 (ipykernel)",
   "language": "python",
   "name": "python3"
  },
  "language_info": {
   "codemirror_mode": {
    "name": "ipython",
    "version": 3
   },
   "file_extension": ".py",
   "mimetype": "text/x-python",
   "name": "python",
   "nbconvert_exporter": "python",
   "pygments_lexer": "ipython3",
   "version": "3.11.5"
  }
 },
 "nbformat": 4,
 "nbformat_minor": 5
}