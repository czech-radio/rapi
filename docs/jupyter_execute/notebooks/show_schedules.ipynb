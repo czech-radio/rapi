{
 "cells": [
  {
   "cell_type": "markdown",
   "id": "2e14ecc9",
   "metadata": {
    "lines_to_next_cell": 0
   },
   "source": [
    "# Get schedules for given show\n",
    "## Create client"
   ]
  },
  {
   "cell_type": "code",
   "execution_count": 1,
   "id": "057e3d14",
   "metadata": {
    "execution": {
     "iopub.execute_input": "2023-10-22T18:23:33.808792Z",
     "iopub.status.busy": "2023-10-22T18:23:33.807961Z",
     "iopub.status.idle": "2023-10-22T18:23:33.895458Z",
     "shell.execute_reply": "2023-10-22T18:23:33.894797Z"
    }
   },
   "outputs": [],
   "source": [
    "from rapi import Client\n",
    "\n",
    "cl = Client()"
   ]
  },
  {
   "cell_type": "markdown",
   "id": "f82a67c2",
   "metadata": {},
   "source": [
    "## Get schedule"
   ]
  },
  {
   "cell_type": "code",
   "execution_count": 2,
   "id": "14a3be2d",
   "metadata": {
    "execution": {
     "iopub.execute_input": "2023-10-22T18:23:33.898655Z",
     "iopub.status.busy": "2023-10-22T18:23:33.898453Z",
     "iopub.status.idle": "2023-10-22T18:23:33.901832Z",
     "shell.execute_reply": "2023-10-22T18:23:33.901159Z"
    }
   },
   "outputs": [],
   "source": [
    "show = \"2226c3be-7f0d-3c82-af47-0ec6abe992a8\"\n",
    "station = \"4082f63f-30e8-375d-a326-b32cf7d86e02\"\n",
    "since = \"2023-09-01\"\n",
    "till = \"2023-10-01\""
   ]
  },
  {
   "cell_type": "code",
   "execution_count": 3,
   "id": "646a7de8",
   "metadata": {
    "execution": {
     "iopub.execute_input": "2023-10-22T18:23:33.904969Z",
     "iopub.status.busy": "2023-10-22T18:23:33.904532Z",
     "iopub.status.idle": "2023-10-22T18:23:34.690115Z",
     "shell.execute_reply": "2023-10-22T18:23:34.689220Z"
    }
   },
   "outputs": [
    {
     "name": "stdout",
     "output_type": "stream",
     "text": [
      "1448\n"
     ]
    }
   ],
   "source": [
    "data = list(cl.get_schedule(show))\n",
    "print(len(data))"
   ]
  },
  {
   "cell_type": "code",
   "execution_count": 4,
   "id": "d9e912b7",
   "metadata": {
    "execution": {
     "iopub.execute_input": "2023-10-22T18:23:34.694710Z",
     "iopub.status.busy": "2023-10-22T18:23:34.693969Z",
     "iopub.status.idle": "2023-10-22T18:23:35.090493Z",
     "shell.execute_reply": "2023-10-22T18:23:35.089852Z"
    }
   },
   "outputs": [
    {
     "name": "stdout",
     "output_type": "stream",
     "text": [
      "1448\n"
     ]
    }
   ],
   "source": [
    "data = list(cl.get_schedule(show, station))\n",
    "print(len(data))"
   ]
  },
  {
   "cell_type": "code",
   "execution_count": 5,
   "id": "3595b99c",
   "metadata": {
    "execution": {
     "iopub.execute_input": "2023-10-22T18:23:35.093517Z",
     "iopub.status.busy": "2023-10-22T18:23:35.093286Z",
     "iopub.status.idle": "2023-10-22T18:23:35.186656Z",
     "shell.execute_reply": "2023-10-22T18:23:35.185857Z"
    }
   },
   "outputs": [
    {
     "name": "stdout",
     "output_type": "stream",
     "text": [
      "287"
     ]
    },
    {
     "name": "stdout",
     "output_type": "stream",
     "text": [
      "\n"
     ]
    }
   ],
   "source": [
    "data = list(cl.get_schedule(show, station, since))\n",
    "print(len(data))"
   ]
  },
  {
   "cell_type": "code",
   "execution_count": 6,
   "id": "33ae0c0b",
   "metadata": {
    "execution": {
     "iopub.execute_input": "2023-10-22T18:23:35.190383Z",
     "iopub.status.busy": "2023-10-22T18:23:35.190135Z",
     "iopub.status.idle": "2023-10-22T18:23:36.014649Z",
     "shell.execute_reply": "2023-10-22T18:23:36.013955Z"
    }
   },
   "outputs": [
    {
     "name": "stdout",
     "output_type": "stream",
     "text": [
      "1308\n"
     ]
    }
   ],
   "source": [
    "data = list(cl.get_schedule(show, station, \"\", till))\n",
    "print(len(data))"
   ]
  }
 ],
 "metadata": {
  "jupytext": {
   "formats": "ipynb,py:percent"
  },
  "kernelspec": {
   "display_name": "Python 3 (ipykernel)",
   "language": "python",
   "name": "python3"
  },
  "language_info": {
   "codemirror_mode": {
    "name": "ipython",
    "version": 3
   },
   "file_extension": ".py",
   "mimetype": "text/x-python",
   "name": "python",
   "nbconvert_exporter": "python",
   "pygments_lexer": "ipython3",
   "version": "3.12.0"
  }
 },
 "nbformat": 4,
 "nbformat_minor": 5
}