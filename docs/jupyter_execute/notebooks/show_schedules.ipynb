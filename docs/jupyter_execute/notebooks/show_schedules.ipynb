{
 "cells": [
  {
   "cell_type": "markdown",
   "id": "4089ff78",
   "metadata": {
    "lines_to_next_cell": 0
   },
   "source": [
    "# Get schedules for given show\n",
    "## Create client"
   ]
  },
  {
   "cell_type": "code",
   "execution_count": 1,
   "id": "d2106666",
   "metadata": {
    "execution": {
     "iopub.execute_input": "2023-10-15T20:23:39.917066Z",
     "iopub.status.busy": "2023-10-15T20:23:39.915588Z",
     "iopub.status.idle": "2023-10-15T20:23:40.043673Z",
     "shell.execute_reply": "2023-10-15T20:23:40.043047Z"
    }
   },
   "outputs": [],
   "source": [
    "from rapi import Client\n",
    "\n",
    "cl = Client()"
   ]
  },
  {
   "cell_type": "markdown",
   "id": "cfb184c7",
   "metadata": {},
   "source": [
    "## Get schedule"
   ]
  },
  {
   "cell_type": "code",
   "execution_count": 2,
   "id": "d3a066a1",
   "metadata": {
    "execution": {
     "iopub.execute_input": "2023-10-15T20:23:40.046406Z",
     "iopub.status.busy": "2023-10-15T20:23:40.046127Z",
     "iopub.status.idle": "2023-10-15T20:23:40.049559Z",
     "shell.execute_reply": "2023-10-15T20:23:40.048882Z"
    }
   },
   "outputs": [],
   "source": [
    "show=\"2226c3be-7f0d-3c82-af47-0ec6abe992a8\"\n",
    "station=\"4082f63f-30e8-375d-a326-b32cf7d86e02\"\n",
    "since=\"2023-09-01\"\n",
    "till=\"2023-10-01\""
   ]
  },
  {
   "cell_type": "code",
   "execution_count": 3,
   "id": "c073a677",
   "metadata": {
    "execution": {
     "iopub.execute_input": "2023-10-15T20:23:40.052060Z",
     "iopub.status.busy": "2023-10-15T20:23:40.051861Z",
     "iopub.status.idle": "2023-10-15T20:23:40.884516Z",
     "shell.execute_reply": "2023-10-15T20:23:40.883841Z"
    }
   },
   "outputs": [
    {
     "name": "stdout",
     "output_type": "stream",
     "text": [
      "1413\n"
     ]
    }
   ],
   "source": [
    "data = list(cl.get_schedule(show))\n",
    "print(len(data))"
   ]
  },
  {
   "cell_type": "code",
   "execution_count": 4,
   "id": "7490a841",
   "metadata": {
    "execution": {
     "iopub.execute_input": "2023-10-15T20:23:40.887149Z",
     "iopub.status.busy": "2023-10-15T20:23:40.886764Z",
     "iopub.status.idle": "2023-10-15T20:23:41.401065Z",
     "shell.execute_reply": "2023-10-15T20:23:41.400385Z"
    }
   },
   "outputs": [
    {
     "name": "stdout",
     "output_type": "stream",
     "text": [
      "1413\n"
     ]
    }
   ],
   "source": [
    "data = list(cl.get_schedule(show,station))\n",
    "print(len(data))"
   ]
  },
  {
   "cell_type": "code",
   "execution_count": 5,
   "id": "57137625",
   "metadata": {
    "execution": {
     "iopub.execute_input": "2023-10-15T20:23:41.403911Z",
     "iopub.status.busy": "2023-10-15T20:23:41.403634Z",
     "iopub.status.idle": "2023-10-15T20:23:41.744221Z",
     "shell.execute_reply": "2023-10-15T20:23:41.743552Z"
    }
   },
   "outputs": [
    {
     "name": "stdout",
     "output_type": "stream",
     "text": [
      "252\n"
     ]
    }
   ],
   "source": [
    "data = list(cl.get_schedule(show,station,since))\n",
    "print(len(data))"
   ]
  },
  {
   "cell_type": "code",
   "execution_count": 6,
   "id": "59dec898",
   "metadata": {
    "execution": {
     "iopub.execute_input": "2023-10-15T20:23:41.747468Z",
     "iopub.status.busy": "2023-10-15T20:23:41.747154Z",
     "iopub.status.idle": "2023-10-15T20:23:42.882143Z",
     "shell.execute_reply": "2023-10-15T20:23:42.881482Z"
    }
   },
   "outputs": [
    {
     "name": "stdout",
     "output_type": "stream",
     "text": [
      "1308\n"
     ]
    }
   ],
   "source": [
    "data = list(cl.get_schedule(show,station,\"\",till))\n",
    "print(len(data))"
   ]
  }
 ],
 "metadata": {
  "jupytext": {
   "formats": "ipynb,py:percent"
  },
  "kernelspec": {
   "display_name": "Python 3 (ipykernel)",
   "language": "python",
   "name": "python3"
  },
  "language_info": {
   "codemirror_mode": {
    "name": "ipython",
    "version": 3
   },
   "file_extension": ".py",
   "mimetype": "text/x-python",
   "name": "python",
   "nbconvert_exporter": "python",
   "pygments_lexer": "ipython3",
   "version": "3.11.5"
  }
 },
 "nbformat": 4,
 "nbformat_minor": 5
}