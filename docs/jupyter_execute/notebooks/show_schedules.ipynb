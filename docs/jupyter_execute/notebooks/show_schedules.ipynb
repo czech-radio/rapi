{
 "cells": [
  {
   "cell_type": "markdown",
   "id": "f74cbdb8",
   "metadata": {
    "lines_to_next_cell": 0
   },
   "source": [
    "# Get schedules for given show\n",
    "## Create client"
   ]
  },
  {
   "cell_type": "code",
   "execution_count": 1,
   "id": "2a128094",
   "metadata": {
    "execution": {
     "iopub.execute_input": "2023-10-20T09:48:06.131197Z",
     "iopub.status.busy": "2023-10-20T09:48:06.130882Z",
     "iopub.status.idle": "2023-10-20T09:48:06.368010Z",
     "shell.execute_reply": "2023-10-20T09:48:06.364880Z"
    }
   },
   "outputs": [],
   "source": [
    "from rapi import Client\n",
    "\n",
    "cl = Client()"
   ]
  },
  {
   "cell_type": "markdown",
   "id": "a14d88f8",
   "metadata": {},
   "source": [
    "## Get schedule"
   ]
  },
  {
   "cell_type": "code",
   "execution_count": 2,
   "id": "6efabefe",
   "metadata": {
    "execution": {
     "iopub.execute_input": "2023-10-20T09:48:06.378150Z",
     "iopub.status.busy": "2023-10-20T09:48:06.375690Z",
     "iopub.status.idle": "2023-10-20T09:48:06.387061Z",
     "shell.execute_reply": "2023-10-20T09:48:06.385487Z"
    }
   },
   "outputs": [],
   "source": [
    "show = \"2226c3be-7f0d-3c82-af47-0ec6abe992a8\"\n",
    "station = \"4082f63f-30e8-375d-a326-b32cf7d86e02\"\n",
    "since = \"2023-09-01\"\n",
    "till = \"2023-10-01\""
   ]
  },
  {
   "cell_type": "code",
   "execution_count": 3,
   "id": "6baa19a2",
   "metadata": {
    "execution": {
     "iopub.execute_input": "2023-10-20T09:48:06.393025Z",
     "iopub.status.busy": "2023-10-20T09:48:06.392292Z",
     "iopub.status.idle": "2023-10-20T09:48:07.471658Z",
     "shell.execute_reply": "2023-10-20T09:48:07.470401Z"
    }
   },
   "outputs": [
    {
     "name": "stdout",
     "output_type": "stream",
     "text": [
      "1448\n"
     ]
    }
   ],
   "source": [
    "data = list(cl.get_schedule(show))\n",
    "print(len(data))"
   ]
  },
  {
   "cell_type": "code",
   "execution_count": 4,
   "id": "2db40162",
   "metadata": {
    "execution": {
     "iopub.execute_input": "2023-10-20T09:48:07.478248Z",
     "iopub.status.busy": "2023-10-20T09:48:07.477804Z",
     "iopub.status.idle": "2023-10-20T09:48:08.824250Z",
     "shell.execute_reply": "2023-10-20T09:48:08.823354Z"
    }
   },
   "outputs": [
    {
     "name": "stdout",
     "output_type": "stream",
     "text": [
      "1448\n"
     ]
    }
   ],
   "source": [
    "data = list(cl.get_schedule(show, station))\n",
    "print(len(data))"
   ]
  },
  {
   "cell_type": "code",
   "execution_count": 5,
   "id": "e22a151c",
   "metadata": {
    "execution": {
     "iopub.execute_input": "2023-10-20T09:48:08.830230Z",
     "iopub.status.busy": "2023-10-20T09:48:08.829911Z",
     "iopub.status.idle": "2023-10-20T09:48:09.109548Z",
     "shell.execute_reply": "2023-10-20T09:48:09.108586Z"
    }
   },
   "outputs": [
    {
     "name": "stdout",
     "output_type": "stream",
     "text": [
      "287\n"
     ]
    }
   ],
   "source": [
    "data = list(cl.get_schedule(show, station, since))\n",
    "print(len(data))"
   ]
  },
  {
   "cell_type": "code",
   "execution_count": 6,
   "id": "bb10fb0b",
   "metadata": {
    "execution": {
     "iopub.execute_input": "2023-10-20T09:48:09.122293Z",
     "iopub.status.busy": "2023-10-20T09:48:09.121953Z",
     "iopub.status.idle": "2023-10-20T09:48:10.217268Z",
     "shell.execute_reply": "2023-10-20T09:48:10.216256Z"
    }
   },
   "outputs": [
    {
     "name": "stdout",
     "output_type": "stream",
     "text": [
      "1308\n"
     ]
    }
   ],
   "source": [
    "data = list(cl.get_schedule(show, station, \"\", till))\n",
    "print(len(data))"
   ]
  }
 ],
 "metadata": {
  "jupytext": {
   "formats": "ipynb,py:percent"
  },
  "kernelspec": {
   "display_name": "Python 3 (ipykernel)",
   "language": "python",
   "name": "python3"
  },
  "language_info": {
   "codemirror_mode": {
    "name": "ipython",
    "version": 3
   },
   "file_extension": ".py",
   "mimetype": "text/x-python",
   "name": "python",
   "nbconvert_exporter": "python",
   "pygments_lexer": "ipython3",
   "version": "3.11.5"
  }
 },
 "nbformat": 4,
 "nbformat_minor": 5
}