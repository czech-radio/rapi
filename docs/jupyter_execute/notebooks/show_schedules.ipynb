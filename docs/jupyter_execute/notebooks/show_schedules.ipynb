{
 "cells": [
  {
   "cell_type": "markdown",
   "id": "5d55ba3d",
   "metadata": {
    "lines_to_next_cell": 0
   },
   "source": [
    "# Get schedules for given show\n",
    "## Create client"
   ]
  },
  {
   "cell_type": "code",
   "execution_count": 1,
   "id": "2f39e125",
   "metadata": {
    "execution": {
     "iopub.execute_input": "2023-10-15T16:31:57.966016Z",
     "iopub.status.busy": "2023-10-15T16:31:57.965373Z",
     "iopub.status.idle": "2023-10-15T16:31:58.077545Z",
     "shell.execute_reply": "2023-10-15T16:31:58.076903Z"
    }
   },
   "outputs": [],
   "source": [
    "from rapi import Client\n",
    "\n",
    "cl = Client()"
   ]
  },
  {
   "cell_type": "markdown",
   "id": "4f4c65ba",
   "metadata": {},
   "source": [
    "## Get schedule"
   ]
  },
  {
   "cell_type": "code",
   "execution_count": 2,
   "id": "dec52d25",
   "metadata": {
    "execution": {
     "iopub.execute_input": "2023-10-15T16:31:58.080817Z",
     "iopub.status.busy": "2023-10-15T16:31:58.080412Z",
     "iopub.status.idle": "2023-10-15T16:31:58.083729Z",
     "shell.execute_reply": "2023-10-15T16:31:58.083106Z"
    }
   },
   "outputs": [],
   "source": [
    "show=\"2226c3be-7f0d-3c82-af47-0ec6abe992a8\"\n",
    "station=\"4082f63f-30e8-375d-a326-b32cf7d86e02\"\n",
    "since=\"2023-09-01\"\n",
    "till=\"2023-10-01\""
   ]
  },
  {
   "cell_type": "code",
   "execution_count": 3,
   "id": "a1902d56",
   "metadata": {
    "execution": {
     "iopub.execute_input": "2023-10-15T16:31:58.086514Z",
     "iopub.status.busy": "2023-10-15T16:31:58.085987Z",
     "iopub.status.idle": "2023-10-15T16:31:58.548775Z",
     "shell.execute_reply": "2023-10-15T16:31:58.547495Z"
    }
   },
   "outputs": [
    {
     "name": "stdout",
     "output_type": "stream",
     "text": [
      "1413\n"
     ]
    }
   ],
   "source": [
    "data = list(cl.get_schedule(show))\n",
    "print(len(data))"
   ]
  },
  {
   "cell_type": "code",
   "execution_count": 4,
   "id": "dd6df3c0",
   "metadata": {
    "execution": {
     "iopub.execute_input": "2023-10-15T16:31:58.551818Z",
     "iopub.status.busy": "2023-10-15T16:31:58.551520Z",
     "iopub.status.idle": "2023-10-15T16:31:59.238409Z",
     "shell.execute_reply": "2023-10-15T16:31:59.237791Z"
    }
   },
   "outputs": [
    {
     "name": "stdout",
     "output_type": "stream",
     "text": [
      "1413\n"
     ]
    }
   ],
   "source": [
    "data = list(cl.get_schedule(show,station))\n",
    "print(len(data))"
   ]
  },
  {
   "cell_type": "code",
   "execution_count": 5,
   "id": "6192b0a9",
   "metadata": {
    "execution": {
     "iopub.execute_input": "2023-10-15T16:31:59.241253Z",
     "iopub.status.busy": "2023-10-15T16:31:59.241047Z",
     "iopub.status.idle": "2023-10-15T16:31:59.596752Z",
     "shell.execute_reply": "2023-10-15T16:31:59.596022Z"
    }
   },
   "outputs": [
    {
     "name": "stdout",
     "output_type": "stream",
     "text": [
      "252\n"
     ]
    }
   ],
   "source": [
    "data = list(cl.get_schedule(show,station,since))\n",
    "print(len(data))"
   ]
  },
  {
   "cell_type": "code",
   "execution_count": 6,
   "id": "e46c4a50",
   "metadata": {
    "execution": {
     "iopub.execute_input": "2023-10-15T16:31:59.599622Z",
     "iopub.status.busy": "2023-10-15T16:31:59.599421Z",
     "iopub.status.idle": "2023-10-15T16:32:00.811237Z",
     "shell.execute_reply": "2023-10-15T16:32:00.810593Z"
    }
   },
   "outputs": [
    {
     "name": "stdout",
     "output_type": "stream",
     "text": [
      "1308\n"
     ]
    }
   ],
   "source": [
    "data = list(cl.get_schedule(show,station,\"\",till))\n",
    "print(len(data))"
   ]
  }
 ],
 "metadata": {
  "jupytext": {
   "formats": "ipynb,py:percent"
  },
  "kernelspec": {
   "display_name": "Python 3 (ipykernel)",
   "language": "python",
   "name": "python3"
  },
  "language_info": {
   "codemirror_mode": {
    "name": "ipython",
    "version": 3
   },
   "file_extension": ".py",
   "mimetype": "text/x-python",
   "name": "python",
   "nbconvert_exporter": "python",
   "pygments_lexer": "ipython3",
   "version": "3.11.5"
  }
 },
 "nbformat": 4,
 "nbformat_minor": 5
}