{
 "cells": [
  {
   "cell_type": "markdown",
   "id": "3f7969d7",
   "metadata": {
    "lines_to_next_cell": 0
   },
   "source": [
    "# Get schedules for given show\n",
    "## Create client"
   ]
  },
  {
   "cell_type": "code",
   "execution_count": 1,
   "id": "30e22afa",
   "metadata": {
    "execution": {
     "iopub.execute_input": "2023-10-23T19:18:09.499486Z",
     "iopub.status.busy": "2023-10-23T19:18:09.497658Z",
     "iopub.status.idle": "2023-10-23T19:18:09.569340Z",
     "shell.execute_reply": "2023-10-23T19:18:09.568742Z"
    }
   },
   "outputs": [],
   "source": [
    "from rapi import Client\n",
    "\n",
    "cl = Client()"
   ]
  },
  {
   "cell_type": "markdown",
   "id": "7e946440",
   "metadata": {},
   "source": [
    "## Get schedule"
   ]
  },
  {
   "cell_type": "code",
   "execution_count": 2,
   "id": "ace78bd8",
   "metadata": {
    "execution": {
     "iopub.execute_input": "2023-10-23T19:18:09.571866Z",
     "iopub.status.busy": "2023-10-23T19:18:09.571619Z",
     "iopub.status.idle": "2023-10-23T19:18:09.574937Z",
     "shell.execute_reply": "2023-10-23T19:18:09.574237Z"
    }
   },
   "outputs": [],
   "source": [
    "show = \"2226c3be-7f0d-3c82-af47-0ec6abe992a8\"\n",
    "station = \"4082f63f-30e8-375d-a326-b32cf7d86e02\"\n",
    "since = \"2023-09-01\"\n",
    "till = \"2023-10-01\""
   ]
  },
  {
   "cell_type": "code",
   "execution_count": 3,
   "id": "5938771a",
   "metadata": {
    "execution": {
     "iopub.execute_input": "2023-10-23T19:18:09.577572Z",
     "iopub.status.busy": "2023-10-23T19:18:09.577323Z",
     "iopub.status.idle": "2023-10-23T19:18:10.232217Z",
     "shell.execute_reply": "2023-10-23T19:18:10.231582Z"
    }
   },
   "outputs": [
    {
     "name": "stdout",
     "output_type": "stream",
     "text": [
      "1448\n"
     ]
    }
   ],
   "source": [
    "data = list(cl.get_schedule(show))\n",
    "print(len(data))"
   ]
  },
  {
   "cell_type": "code",
   "execution_count": 4,
   "id": "30b8fcc5",
   "metadata": {
    "execution": {
     "iopub.execute_input": "2023-10-23T19:18:10.235397Z",
     "iopub.status.busy": "2023-10-23T19:18:10.234948Z",
     "iopub.status.idle": "2023-10-23T19:18:10.893863Z",
     "shell.execute_reply": "2023-10-23T19:18:10.893203Z"
    }
   },
   "outputs": [
    {
     "name": "stdout",
     "output_type": "stream",
     "text": [
      "1448\n"
     ]
    }
   ],
   "source": [
    "data = list(cl.get_schedule(show, station))\n",
    "print(len(data))"
   ]
  },
  {
   "cell_type": "code",
   "execution_count": 5,
   "id": "051adf78",
   "metadata": {
    "execution": {
     "iopub.execute_input": "2023-10-23T19:18:10.896542Z",
     "iopub.status.busy": "2023-10-23T19:18:10.896130Z",
     "iopub.status.idle": "2023-10-23T19:18:11.098760Z",
     "shell.execute_reply": "2023-10-23T19:18:11.098025Z"
    }
   },
   "outputs": [
    {
     "name": "stdout",
     "output_type": "stream",
     "text": [
      "287\n"
     ]
    }
   ],
   "source": [
    "data = list(cl.get_schedule(show, station, since))\n",
    "print(len(data))"
   ]
  },
  {
   "cell_type": "code",
   "execution_count": 6,
   "id": "f37f2c70",
   "metadata": {
    "execution": {
     "iopub.execute_input": "2023-10-23T19:18:11.101085Z",
     "iopub.status.busy": "2023-10-23T19:18:11.100855Z",
     "iopub.status.idle": "2023-10-23T19:18:11.876628Z",
     "shell.execute_reply": "2023-10-23T19:18:11.875978Z"
    }
   },
   "outputs": [
    {
     "name": "stdout",
     "output_type": "stream",
     "text": [
      "1308\n"
     ]
    }
   ],
   "source": [
    "data = list(cl.get_schedule(show, station, \"\", till))\n",
    "print(len(data))"
   ]
  }
 ],
 "metadata": {
  "jupytext": {
   "formats": "ipynb,py:percent"
  },
  "kernelspec": {
   "display_name": "Python 3 (ipykernel)",
   "language": "python",
   "name": "python3"
  },
  "language_info": {
   "codemirror_mode": {
    "name": "ipython",
    "version": 3
   },
   "file_extension": ".py",
   "mimetype": "text/x-python",
   "name": "python",
   "nbconvert_exporter": "python",
   "pygments_lexer": "ipython3",
   "version": "3.11.5"
  }
 },
 "nbformat": 4,
 "nbformat_minor": 5
}