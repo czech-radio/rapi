{
 "cells": [
  {
   "cell_type": "markdown",
   "id": "2d9ffda9",
   "metadata": {
    "lines_to_next_cell": 0
   },
   "source": [
    "# Get all participants for given show\n",
    "## Create client"
   ]
  },
  {
   "cell_type": "code",
   "execution_count": 1,
   "id": "a5f6610d",
   "metadata": {
    "execution": {
     "iopub.execute_input": "2023-10-23T19:18:06.183445Z",
     "iopub.status.busy": "2023-10-23T19:18:06.182263Z",
     "iopub.status.idle": "2023-10-23T19:18:06.246172Z",
     "shell.execute_reply": "2023-10-23T19:18:06.244755Z"
    }
   },
   "outputs": [],
   "source": [
    "from rapi import Client\n",
    "\n",
    "cl = Client()"
   ]
  },
  {
   "cell_type": "markdown",
   "id": "1ed92b2e",
   "metadata": {
    "lines_to_next_cell": 0
   },
   "source": [
    "## Create show participants iterator\n",
    "- by default station identificator is openmedia id"
   ]
  },
  {
   "cell_type": "code",
   "execution_count": 2,
   "id": "234d1d67",
   "metadata": {
    "execution": {
     "iopub.execute_input": "2023-10-23T19:18:06.250974Z",
     "iopub.status.busy": "2023-10-23T19:18:06.250663Z",
     "iopub.status.idle": "2023-10-23T19:18:06.320669Z",
     "shell.execute_reply": "2023-10-23T19:18:06.320181Z"
    }
   },
   "outputs": [],
   "source": [
    "show_uuid = \"c7374f41-ae14-3b5c-8c04-385e3241deb4\"\n",
    "participants_iterator = cl.get_show_moderators(show_uuid)\n",
    "participants = list(participants_iterator)"
   ]
  },
  {
   "cell_type": "markdown",
   "id": "5a70e98a",
   "metadata": {
    "lines_to_next_cell": 0
   },
   "source": [
    "## Number of participants"
   ]
  },
  {
   "cell_type": "code",
   "execution_count": 3,
   "id": "49deea84",
   "metadata": {
    "execution": {
     "iopub.execute_input": "2023-10-23T19:18:06.323381Z",
     "iopub.status.busy": "2023-10-23T19:18:06.323056Z",
     "iopub.status.idle": "2023-10-23T19:18:06.326748Z",
     "shell.execute_reply": "2023-10-23T19:18:06.325962Z"
    }
   },
   "outputs": [
    {
     "name": "stdout",
     "output_type": "stream",
     "text": [
      "1\n"
     ]
    }
   ],
   "source": [
    "print(len(participants))"
   ]
  },
  {
   "cell_type": "markdown",
   "id": "04701df2",
   "metadata": {
    "lines_to_next_cell": 0
   },
   "source": [
    "## List participants as python object"
   ]
  },
  {
   "cell_type": "code",
   "execution_count": 4,
   "id": "3aa5e8a8",
   "metadata": {
    "execution": {
     "iopub.execute_input": "2023-10-23T19:18:06.332885Z",
     "iopub.status.busy": "2023-10-23T19:18:06.332420Z",
     "iopub.status.idle": "2023-10-23T19:18:06.336709Z",
     "shell.execute_reply": "2023-10-23T19:18:06.335815Z"
    }
   },
   "outputs": [
    {
     "name": "stdout",
     "output_type": "stream",
     "text": [
      "[Person(uuid='4bb6cd4a-a5e8-3e48-a36e-06d7ac7e4f0f', title='Jiří Chum', description_short='<p>Moderuje každý všední den Dopolední Radiožurnál.</p>', description='<p><strong>Co dělám v rozhlase:</strong></p>\\n\\n<p><span>Na Radiožurnálu moderuji od roku 2002, od března 2008 do prosince 2010 Odpolední Radiožurnál a od ledna 2011\\xa0</span>Večerní Radiožurnál<span>\\xa0a ob týden\\xa0</span>Víkendový Ranní Radiožurnál<span>. Deset let jsem moderoval každý všední den Ranní Radiožurnál a od 1. července 2022 usedám za mikrofon Dopoledního Radiožurnálu. Ještě déle spolupracuji s regionální stanicí ČRo Region střední Čechy. V současnosti ale už jen v oblasti selfpromotion.</span></p>\\n\\n<p><strong>Před rozhlasem:</strong><br />\\nVystudoval jsem SSPoŠ Kolín se zaměřením na ekonomiku a management, poté si dal na pár let pauzu a v současnosti studuji Fakultu multimediálních komunikaci UTB ve Zlíně obor Marketingové komunikace. Z rádiové praxe: rádio City 937 a dlouhá léta Český rozhlas, kterému jsem nakonec zůstal věrný.</p>\\n\\n<p><strong></strong></p>\\n\\n', profile_id='5002938', role='moderator', participation_link='https://api.mujrozhlas.cz/persons/4bb6cd4a-a5e8-3e48-a36e-06d7ac7e4f0f/participation', participation_data=[{'type': 'station', 'id': '4082f63f-30e8-375d-a326-b32cf7d86e02', 'meta': {'role': 'Moderátoři'}}])]\n"
     ]
    }
   ],
   "source": [
    "print(participants[:3])"
   ]
  },
  {
   "cell_type": "markdown",
   "id": "453b968f",
   "metadata": {
    "lines_to_next_cell": 0
   },
   "source": [
    "## List participants as string object"
   ]
  },
  {
   "cell_type": "code",
   "execution_count": 5,
   "id": "429c4489",
   "metadata": {
    "execution": {
     "iopub.execute_input": "2023-10-23T19:18:06.341692Z",
     "iopub.status.busy": "2023-10-23T19:18:06.340909Z",
     "iopub.status.idle": "2023-10-23T19:18:06.347872Z",
     "shell.execute_reply": "2023-10-23T19:18:06.346902Z"
    }
   },
   "outputs": [
    {
     "name": "stdout",
     "output_type": "stream",
     "text": [
      "{\n",
      "  \"uuid\": \"4bb6cd4a-a5e8-3e48-a36e-06d7ac7e4f0f\",\n",
      "  \"title\": \"Jiří Chum\",\n",
      "  \"description_short\": \"<p>Moderuje každý všední den Dopolední Radiožurnál.</p>\",\n",
      "  \"description\": \"<p><strong>Co dělám v rozhlase:</strong></p>\\n\\n<p><span>Na Radiožurnálu moderuji od roku 2002, od března 2008 do prosince 2010 Odpolední Radiožurnál a od ledna 2011 </span>Večerní Radiožurnál<span> a ob týden </span>Víkendový Ranní Radiožurnál<span>. Deset let jsem moderoval každý všední den Ranní Radiožurnál a od 1. července 2022 usedám za mikrofon Dopoledního Radiožurnálu. Ještě déle spolupracuji s regionální stanicí ČRo Region střední Čechy. V současnosti ale už jen v oblasti selfpromotion.</span></p>\\n\\n<p><strong>Před rozhlasem:</strong><br />\\nVystudoval jsem SSPoŠ Kolín se zaměřením na ekonomiku a management, poté si dal na pár let pauzu a v současnosti studuji Fakultu multimediálních komunikaci UTB ve Zlíně obor Marketingové komunikace. Z rádiové praxe: rádio City 937 a dlouhá léta Český rozhlas, kterému jsem nakonec zůstal věrný.</p>\\n\\n<p><strong></strong></p>\\n\\n\",\n",
      "  \"profile_id\": \"5002938\",\n",
      "  \"role\": \"moderator\",\n",
      "  \"participation_link\": \"https://api.mujrozhlas.cz/persons/4bb6cd4a-a5e8-3e48-a36e-06d7ac7e4f0f/participation\",\n",
      "  \"participation_data\": [\n",
      "    {\n",
      "      \"type\": \"station\",\n",
      "      \"id\": \"4082f63f-30e8-375d-a326-b32cf7d86e02\",\n",
      "      \"meta\": {\n",
      "        \"role\": \"Moderátoři\"\n",
      "      }\n",
      "    }\n",
      "  ]\n",
      "}\n"
     ]
    }
   ],
   "source": [
    "for p in participants[:3]:\n",
    "    print(p)"
   ]
  }
 ],
 "metadata": {
  "jupytext": {
   "formats": "ipynb,py:percent"
  },
  "kernelspec": {
   "display_name": "Python 3 (ipykernel)",
   "language": "python",
   "name": "python3"
  },
  "language_info": {
   "codemirror_mode": {
    "name": "ipython",
    "version": 3
   },
   "file_extension": ".py",
   "mimetype": "text/x-python",
   "name": "python",
   "nbconvert_exporter": "python",
   "pygments_lexer": "ipython3",
   "version": "3.11.5"
  }
 },
 "nbformat": 4,
 "nbformat_minor": 5
}
