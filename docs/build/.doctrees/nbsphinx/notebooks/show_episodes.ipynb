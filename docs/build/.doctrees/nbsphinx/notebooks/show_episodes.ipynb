{
 "cells": [
  {
   "cell_type": "markdown",
   "id": "b7f3b64b",
   "metadata": {
    "lines_to_next_cell": 0
   },
   "source": [
    "# Get episodes for given show\n",
    "## Create client"
   ]
  },
  {
   "cell_type": "code",
   "execution_count": 1,
   "id": "120a76e8",
   "metadata": {
    "execution": {
     "iopub.execute_input": "2023-10-23T19:18:07.897916Z",
     "iopub.status.busy": "2023-10-23T19:18:07.896388Z",
     "iopub.status.idle": "2023-10-23T19:18:08.001575Z",
     "shell.execute_reply": "2023-10-23T19:18:08.000887Z"
    }
   },
   "outputs": [],
   "source": [
    "from rapi import Client\n",
    "\n",
    "cl = Client()"
   ]
  },
  {
   "cell_type": "markdown",
   "id": "42b01258",
   "metadata": {
    "lines_to_next_cell": 0
   },
   "source": [
    "## Create episodes iterator"
   ]
  },
  {
   "cell_type": "code",
   "execution_count": 2,
   "id": "6e3a0618",
   "metadata": {
    "execution": {
     "iopub.execute_input": "2023-10-23T19:18:08.004263Z",
     "iopub.status.busy": "2023-10-23T19:18:08.004059Z",
     "iopub.status.idle": "2023-10-23T19:18:08.099998Z",
     "shell.execute_reply": "2023-10-23T19:18:08.099367Z"
    }
   },
   "outputs": [],
   "source": [
    "show_uuid = \"739a46c7-35e3-336e-a7d5-08a20b7e7677\"\n",
    "episodes_iterator = cl.get_show_episodes(show_uuid)\n",
    "episodes = list(episodes_iterator)"
   ]
  },
  {
   "cell_type": "markdown",
   "id": "a0d46b35",
   "metadata": {
    "lines_to_next_cell": 0
   },
   "source": [
    "## Number of episodes"
   ]
  },
  {
   "cell_type": "code",
   "execution_count": 3,
   "id": "9687ce33",
   "metadata": {
    "execution": {
     "iopub.execute_input": "2023-10-23T19:18:08.103120Z",
     "iopub.status.busy": "2023-10-23T19:18:08.102665Z",
     "iopub.status.idle": "2023-10-23T19:18:08.106769Z",
     "shell.execute_reply": "2023-10-23T19:18:08.106127Z"
    }
   },
   "outputs": [
    {
     "name": "stdout",
     "output_type": "stream",
     "text": [
      "103\n"
     ]
    }
   ],
   "source": [
    "print(len(episodes))"
   ]
  },
  {
   "cell_type": "markdown",
   "id": "2bc8b6d9",
   "metadata": {
    "lines_to_next_cell": 0
   },
   "source": [
    "## List episodes as python object"
   ]
  },
  {
   "cell_type": "code",
   "execution_count": 4,
   "id": "73afaed4",
   "metadata": {
    "execution": {
     "iopub.execute_input": "2023-10-23T19:18:08.109740Z",
     "iopub.status.busy": "2023-10-23T19:18:08.109490Z",
     "iopub.status.idle": "2023-10-23T19:18:08.113045Z",
     "shell.execute_reply": "2023-10-23T19:18:08.112447Z"
    }
   },
   "outputs": [
    {
     "name": "stdout",
     "output_type": "stream",
     "text": [
      "[Episode(uuid='16df9e3d-b6e3-33af-994d-1aa1ccb4d25a', title='Pravidla musí platit pro všechny stejně, vylučuje hygienička Svrčinová možnost výjimky pro prezidenta', title_short='Pravidla platí pro všechny stejně, vylučuje hygienička Svrčinová možnost výjimky pro prezidenta', description='<p>Pražský hrad oznámil, že Miloš Zeman v neděli přijme Petra Fialu, aby ho jmenoval premiérem. Prezidentovi přitom ve čtvrtek vyšel pozitivní PCR test na koronavirus. Podle platných opatření by nyní u něj měla následovat dvoutýdenní karanténa. Jak by musela kancelář schůzku zorganizovat, aby proběhla z epidemiologického hlediska v pořádku?<br>\\nHanka Shánělová</p>', since=datetime.datetime(2021, 11, 26, 14, 14, tzinfo=tzoffset(None, 3600)), till=datetime.datetime(2021, 11, 26, 14, 17, 16, tzinfo=tzoffset(None, 3600)), updated=datetime.datetime(2021, 11, 26, 17, 0, 16, tzinfo=tzoffset(None, 3600)), part=None, title_mirrored='Rozhovory Radiožurnálu', content_creator='radiozurnal', content_id='10011355', base_id=None), Episode(uuid='a8c02e81-d2c1-355a-8ad5-97cf7a87cc47', title='EU se připravuje na omikron. Zakazuje vstup cizincům z jihoafrických zemí, přibližuje zpravodaj', title_short='EU se připravuje na omikron. Zakazuje vstup cizincům z jihoafrických zemí, přibližuje zpravodaj', description='<p>Evropská komise jedná s&nbsp;výrobci vakcín o dalším postupu kvůli výskytu nové varianty koronaviru omikron. Existuje riziko, že může být nakažlivější a potenciálně také rezistentnější než varianty předchozí. „Státy EU zakazují vstup na své území cizincům cestující ze zemí jihu Afriky a zavádějí zpřísněná opatření, například povinnou karanténu po návratu,“ říká bruselský zpravodaj Viktor Daněk s&nbsp;tím, že mezi takto postupující státy patří i Česko, Německo, Itálie, Belgie.<br>\\nJiří Chum, Viktor Daněk</p>', since=datetime.datetime(2021, 11, 27, 8, 20, tzinfo=tzoffset(None, 3600)), till=datetime.datetime(2021, 11, 27, 8, 22, 38, tzinfo=tzoffset(None, 3600)), updated=datetime.datetime(2021, 11, 27, 10, 20, 19, tzinfo=tzoffset(None, 3600)), part=None, title_mirrored='Rozhovory Radiožurnálu', content_creator='radiozurnal', content_id='10012081', base_id=None), Episode(uuid='fb7b67d5-8b7d-385a-91bd-e044000e5e1d', title='Varianta omikron má zhruba padesát mutací, rychle se šíří a moc toho o ní nevíme', title_short='Varianta omikron má zhruba padesát mutací, rychle se šíří a moc toho o ní nevíme', description='<p><span lang=\"cs-CZ\">Nová varianta koronaviru pojmenovaná omikron je potvrzená už i v Česku. Kvůli dosud nejvíc zmutované variantě koronaviru státy po celém světě opět omezují turismus (nejnověji Japonsko) a zavádějí karantény pro cestující ze zemí, kde se omikron objevil. Co vlastně ony mutace znamenají?</span><br>\\nMatěj Skalický</p>', since=datetime.datetime(2021, 11, 29, 10, 40, tzinfo=tzoffset(None, 3600)), till=datetime.datetime(2021, 11, 29, 10, 42, 30, tzinfo=tzoffset(None, 3600)), updated=datetime.datetime(2021, 11, 30, 19, 20, 19, tzinfo=tzoffset(None, 3600)), part=None, title_mirrored='Rozhovory Radiožurnálu', content_creator='radiozurnal', content_id='10013547', base_id=None)]\n"
     ]
    }
   ],
   "source": [
    "print(episodes[:3])"
   ]
  },
  {
   "cell_type": "markdown",
   "id": "a1ce83c3",
   "metadata": {
    "lines_to_next_cell": 0
   },
   "source": [
    "## List episodes as string object"
   ]
  },
  {
   "cell_type": "code",
   "execution_count": 5,
   "id": "31290824",
   "metadata": {
    "execution": {
     "iopub.execute_input": "2023-10-23T19:18:08.116219Z",
     "iopub.status.busy": "2023-10-23T19:18:08.115919Z",
     "iopub.status.idle": "2023-10-23T19:18:08.120551Z",
     "shell.execute_reply": "2023-10-23T19:18:08.119915Z"
    }
   },
   "outputs": [
    {
     "name": "stdout",
     "output_type": "stream",
     "text": [
      "{\n",
      "  \"uuid\": \"16df9e3d-b6e3-33af-994d-1aa1ccb4d25a\",\n",
      "  \"title\": \"Pravidla musí platit pro všechny stejně, vylučuje hygienička Svrčinová možnost výjimky pro prezidenta\",\n",
      "  \"title_short\": \"Pravidla platí pro všechny stejně, vylučuje hygienička Svrčinová možnost výjimky pro prezidenta\",\n",
      "  \"description\": \"<p>Pražský hrad oznámil, že Miloš Zeman v neděli přijme Petra Fialu, aby ho jmenoval premiérem. Prezidentovi přitom ve čtvrtek vyšel pozitivní PCR test na koronavirus. Podle platných opatření by nyní u něj měla následovat dvoutýdenní karanténa. Jak by musela kancelář schůzku zorganizovat, aby proběhla z epidemiologického hlediska v pořádku?<br>\\nHanka Shánělová</p>\",\n",
      "  \"since\": \"2021-11-26T14:14:00+01:00\",\n",
      "  \"till\": \"2021-11-26T14:17:16+01:00\",\n",
      "  \"updated\": \"2021-11-26T17:00:16+01:00\",\n",
      "  \"part\": null,\n",
      "  \"title_mirrored\": \"Rozhovory Radiožurnálu\",\n",
      "  \"content_creator\": \"radiozurnal\",\n",
      "  \"content_id\": \"10011355\",\n",
      "  \"base_id\": null\n",
      "}\n",
      "{\n",
      "  \"uuid\": \"a8c02e81-d2c1-355a-8ad5-97cf7a87cc47\",\n",
      "  \"title\": \"EU se připravuje na omikron. Zakazuje vstup cizincům z jihoafrických zemí, přibližuje zpravodaj\",\n",
      "  \"title_short\": \"EU se připravuje na omikron. Zakazuje vstup cizincům z jihoafrických zemí, přibližuje zpravodaj\",\n",
      "  \"description\": \"<p>Evropská komise jedná s&nbsp;výrobci vakcín o dalším postupu kvůli výskytu nové varianty koronaviru omikron. Existuje riziko, že může být nakažlivější a potenciálně také rezistentnější než varianty předchozí. „Státy EU zakazují vstup na své území cizincům cestující ze zemí jihu Afriky a zavádějí zpřísněná opatření, například povinnou karanténu po návratu,“ říká bruselský zpravodaj Viktor Daněk s&nbsp;tím, že mezi takto postupující státy patří i Česko, Německo, Itálie, Belgie.<br>\\nJiří Chum, Viktor Daněk</p>\",\n",
      "  \"since\": \"2021-11-27T08:20:00+01:00\",\n",
      "  \"till\": \"2021-11-27T08:22:38+01:00\",\n",
      "  \"updated\": \"2021-11-27T10:20:19+01:00\",\n",
      "  \"part\": null,\n",
      "  \"title_mirrored\": \"Rozhovory Radiožurnálu\",\n",
      "  \"content_creator\": \"radiozurnal\",\n",
      "  \"content_id\": \"10012081\",\n",
      "  \"base_id\": null\n",
      "}\n",
      "{\n",
      "  \"uuid\": \"fb7b67d5-8b7d-385a-91bd-e044000e5e1d\",\n",
      "  \"title\": \"Varianta omikron má zhruba padesát mutací, rychle se šíří a moc toho o ní nevíme\",\n",
      "  \"title_short\": \"Varianta omikron má zhruba padesát mutací, rychle se šíří a moc toho o ní nevíme\",\n",
      "  \"description\": \"<p><span lang=\\\"cs-CZ\\\">Nová varianta koronaviru pojmenovaná omikron je potvrzená už i v Česku. Kvůli dosud nejvíc zmutované variantě koronaviru státy po celém světě opět omezují turismus (nejnověji Japonsko) a zavádějí karantény pro cestující ze zemí, kde se omikron objevil. Co vlastně ony mutace znamenají?</span><br>\\nMatěj Skalický</p>\",\n",
      "  \"since\": \"2021-11-29T10:40:00+01:00\",\n",
      "  \"till\": \"2021-11-29T10:42:30+01:00\",\n",
      "  \"updated\": \"2021-11-30T19:20:19+01:00\",\n",
      "  \"part\": null,\n",
      "  \"title_mirrored\": \"Rozhovory Radiožurnálu\",\n",
      "  \"content_creator\": \"radiozurnal\",\n",
      "  \"content_id\": \"10013547\",\n",
      "  \"base_id\": null\n",
      "}\n"
     ]
    }
   ],
   "source": [
    "for ep in episodes[:3]:\n",
    "    print(ep)"
   ]
  },
  {
   "cell_type": "markdown",
   "id": "2f1e85ad",
   "metadata": {
    "lines_to_next_cell": 0
   },
   "source": [
    "## Filter show episodes by date"
   ]
  },
  {
   "cell_type": "code",
   "execution_count": 6,
   "id": "e24368f0",
   "metadata": {
    "execution": {
     "iopub.execute_input": "2023-10-23T19:18:08.123563Z",
     "iopub.status.busy": "2023-10-23T19:18:08.123182Z",
     "iopub.status.idle": "2023-10-23T19:18:08.172730Z",
     "shell.execute_reply": "2023-10-23T19:18:08.172102Z"
    }
   },
   "outputs": [
    {
     "name": "stdout",
     "output_type": "stream",
     "text": [
      "72\n"
     ]
    }
   ],
   "source": [
    "show_uuid = \"739a46c7-35e3-336e-a7d5-08a20b7e7677\"\n",
    "since = \"2022-01-01T8:00\"\n",
    "to = \"2023-01-02T9:00\"\n",
    "episodes_iterator = cl.show_episodes_filter(show_uuid, since, to)\n",
    "episodes = list(episodes_iterator)\n",
    "print(len(episodes))"
   ]
  }
 ],
 "metadata": {
  "jupytext": {
   "formats": "ipynb,py:percent"
  },
  "kernelspec": {
   "display_name": "Python 3 (ipykernel)",
   "language": "python",
   "name": "python3"
  },
  "language_info": {
   "codemirror_mode": {
    "name": "ipython",
    "version": 3
   },
   "file_extension": ".py",
   "mimetype": "text/x-python",
   "name": "python",
   "nbconvert_exporter": "python",
   "pygments_lexer": "ipython3",
   "version": "3.11.5"
  }
 },
 "nbformat": 4,
 "nbformat_minor": 5
}
