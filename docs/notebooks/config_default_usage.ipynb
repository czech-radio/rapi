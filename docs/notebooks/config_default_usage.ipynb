{
 "cells": [
  {
   "cell_type": "code",
   "execution_count": null,
   "id": "4b91df01-7021-4d50-bc89-900c68575f79",
   "metadata": {},
   "outputs": [],
   "source": [
    "import sys\n",
    "import os\n",
    "from rapi import helpers\n",
    "from rapi import config\n",
    "\n",
    "from rapi.logger import log_stderr as loge\n",
    "from rapi.logger import log_stdout as logo\n",
    "\n",
    "# ALWAYS RESTART KERNEL TO CLEANUMP ENVIRON\n",
    "\n",
    "logo.info(\"run with no flags: all parameters should be default\")\n",
    "# In test at least one commandlie parametr must be given ohterwise argparse will crash\n",
    "sys.argv = [\"rapi\"] \n",
    "Cfg=config.CFG()\n",
    "Cfg.cfg_runtime_set_defaults()\n",
    "helpers.pp(Cfg.runtime_get([\"test\"]))\n",
    "\n"
   ]
  },
  {
   "cell_type": "code",
   "execution_count": 2,
   "id": "d66ffdea-76e8-4772-b8b7-4a9340c4379e",
   "metadata": {},
   "outputs": [
    {
     "name": "stdout",
     "output_type": "stream",
     "text": [
      "2023-08-24 13:55:24,539 [INFO] 3368881970.py:<module>:1 - run with some commandline flag (parameter) set - log_stdout\n",
      "{\n",
      "  \"par\": \"I am set from commanline flag\",\n",
      "  \"env\": \"def\",\n",
      "  \"def\": \"def\",\n",
      "  \"alt\": \"def\",\n",
      "  \"cfg_prio\": \"def.yml\",\n",
      "  \"logs\": false\n",
      "}\n"
     ]
    }
   ],
   "source": [
    "logo.info(\"run with some commandline flag (parameter) set\")\n",
    "sys.argv = [\"rapi\",\"--test-par=I am set from commanline flag\"]\n",
    "Cfg=config.CFG()\n",
    "Cfg.cfg_runtime_set_defaults()\n",
    "helpers.pp(Cfg.runtime_get([\"test\"]))"
   ]
  },
  {
   "cell_type": "code",
   "execution_count": 3,
   "id": "0ccf08f7-a66e-4784-8b7d-d1eb97d22dc6",
   "metadata": {},
   "outputs": [
    {
     "name": "stdout",
     "output_type": "stream",
     "text": [
      "2023-08-24 13:55:24,606 [INFO] 3862576243.py:<module>:1 - Who will win? Variable value is set in environ and also provided on commandlie - log_stdout\n",
      "2023-08-24 13:55:24,611 [INFO] 3862576243.py:<module>:2 - flag should win: it is default behaviour - log_stdout\n",
      "{\n",
      "  \"par\": \"I am set from commanline flag\",\n",
      "  \"env\": \"I am set from environ\",\n",
      "  \"def\": \"def\",\n",
      "  \"alt\": \"def\",\n",
      "  \"cfg_prio\": \"Who wins? FLAG\",\n",
      "  \"logs\": false\n",
      "}\n"
     ]
    }
   ],
   "source": [
    "logo.info(\"Who will win? Variable value is set in environ and also provided on commandlie\")\n",
    "logo.info(\"flag should win: it is default behaviour\")\n",
    "os.environ[\"test_env\"] = \"I am set from environ\"\n",
    "os.environ[\"test_cfg_prio\"] = \"Who wins? ENVIRON\"\n",
    "sys.argv = [\"rapi\",\"--test-par=I am set from commanline flag\", \"--test-cfg_prio=Who wins? FLAG\"]\n",
    "Cfg=config.CFG()\n",
    "Cfg.cfg_runtime_set_defaults()\n",
    "helpers.pp(Cfg.runtime_get([\"test\"]))\n"
   ]
  },
  {
   "cell_type": "code",
   "execution_count": 4,
   "id": "f56dbda6-2e9d-4ac7-b724-cc9dbad24b01",
   "metadata": {},
   "outputs": [
    {
     "name": "stdout",
     "output_type": "stream",
     "text": [
      "2023-08-24 13:55:24,662 [INFO] 3447664752.py:<module>:1 - get a particular variable value - log_stdout\n",
      "test_par: I am set from commanline flag\n"
     ]
    }
   ],
   "source": [
    "logo.info(\"get a particular variable value\")\n",
    "print(\"test_par:\",Cfg.runtime_get([\"test\",\"par\"]))"
   ]
  },
  {
   "cell_type": "code",
   "execution_count": 5,
   "id": "671d87df-dd4b-4114-8158-58fea71bcd32",
   "metadata": {},
   "outputs": [
    {
     "name": "stdout",
     "output_type": "stream",
     "text": [
      "2023-08-24 13:55:24,671 [INFO] 202291015.py:<module>:1 - finaly print whole runtime config - log_stdout\n",
      "{\n",
      "  \"verbose\": 0,\n",
      "  \"version\": false,\n",
      "  \"debug\": {\n",
      "    \"cfg\": false\n",
      "  },\n",
      "  \"workdir\": {\n",
      "    \"dir\": \"./runtime/\"\n",
      "  },\n",
      "  \"usercfg\": {\n",
      "    \"file\": \"./tests/data/defaults_alt.yml\"\n",
      "  },\n",
      "  \"commands\": {\n",
      "    \"tsub\": {\n",
      "      \"tflag1\": null,\n",
      "      \"tflag2\": null\n",
      "    },\n",
      "    \"station\": {\n",
      "      \"id\": 1,\n",
      "      \"test\": null\n",
      "    },\n",
      "    \"show\": null\n",
      "  },\n",
      "  \"apis\": {\n",
      "    \"common\": {\n",
      "      \"station_ids\": null,\n",
      "      \"csv\": \"default\",\n",
      "      \"pkey\": \"openmedia_id\"\n",
      "    },\n",
      "    \"croapp\": {\n",
      "      \"workdir\": {\n",
      "        \"dir\": \"./runtime/croapp/\"\n",
      "      },\n",
      "      \"urls\": {\n",
      "        \"mock\": \"https://mockservice.croapp.cz/mock\",\n",
      "        \"doc\": \"https://rapidoc.croapp.cz\",\n",
      "        \"api\": \"https://mujrozhlas.croapi.cz\",\n",
      "        \"swagger\": \"https://rapidoc.croapp.cz/apifile/openapi.yaml\"\n",
      "      },\n",
      "      \"db_local\": {\n",
      "        \"csvs_update\": true,\n",
      "        \"csvs_workdir\": \"./runtime/croapp/csv/\"\n",
      "      },\n",
      "      \"response\": {\n",
      "        \"limit\": 500,\n",
      "        \"limit_str\": \"?page%5Blimit%5D=\"\n",
      "      },\n",
      "      \"endpoints\": [\n",
      "        \"stations-all\",\n",
      "        \"stations\",\n",
      "        \"stations/4082f63f-30e8-375d-a326-b32cf7d86e02/shows\",\n",
      "        \"shows\",\n",
      "        \"serials\",\n",
      "        \"schedule\",\n",
      "        \"program\",\n",
      "        \"episodes\",\n",
      "        \"genres\",\n",
      "        \"persons\",\n",
      "        \"topics\",\n",
      "        \"keywords\"\n",
      "      ]\n",
      "    }\n",
      "  },\n",
      "  \"test\": {\n",
      "    \"par\": \"I am set from commanline flag\",\n",
      "    \"env\": \"I am set from environ\",\n",
      "    \"def\": \"def\",\n",
      "    \"alt\": \"def\",\n",
      "    \"cfg_prio\": \"Who wins? FLAG\",\n",
      "    \"logs\": false\n",
      "  },\n",
      "  \"dbool\": false,\n",
      "  \"dint\": 1\n",
      "}\n"
     ]
    }
   ],
   "source": [
    "logo.info(\"finaly print whole runtime config\")\n",
    "helpers.pp(Cfg.cfg_runtime)"
   ]
  }
 ],
 "metadata": {
  "kernelspec": {
   "display_name": "Python 3 (ipykernel)",
   "language": "python",
   "name": "python3"
  },
  "language_info": {
   "codemirror_mode": {
    "name": "ipython",
    "version": 3
   },
   "file_extension": ".py",
   "mimetype": "text/x-python",
   "name": "python",
   "nbconvert_exporter": "python",
   "pygments_lexer": "ipython3",
   "version": "3.11.3"
  }
 },
 "nbformat": 4,
 "nbformat_minor": 5
}
